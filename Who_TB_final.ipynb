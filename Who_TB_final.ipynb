{
  "nbformat": 4,
  "nbformat_minor": 0,
  "metadata": {
    "colab": {
      "provenance": []
    },
    "kernelspec": {
      "name": "python3",
      "display_name": "Python 3"
    },
    "language_info": {
      "name": "python"
    }
  },
  "cells": [
    {
      "cell_type": "code",
      "metadata": {
        "id": "YmrNoVEluBpl"
      },
      "source": [
        "import pandas as pd\n",
        "import numpy as np\n",
        "import matplotlib.pyplot as plt\n",
        "import seaborn as sns"
      ],
      "execution_count": null,
      "outputs": []
    },
    {
      "cell_type": "code",
      "metadata": {
        "colab": {
          "resources": {
            "http://localhost:8080/nbextensions/google.colab/files.js": {
              "data": "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",
              "ok": true,
              "headers": [
                [
                  "content-type",
                  "application/javascript"
                ]
              ],
              "status": 200,
              "status_text": ""
            }
          },
          "base_uri": "https://localhost:8080/",
          "height": 111
        },
        "id": "1yMBx_sauFSN",
        "outputId": "7c80509b-5ee1-4e05-f790-a17c9c3fdffa"
      },
      "source": [
        "from google.colab import files\n",
        "files.upload()"
      ],
      "execution_count": null,
      "outputs": [
        {
          "output_type": "display_data",
          "data": {
            "text/html": [
              "\n",
              "     <input type=\"file\" id=\"files-78cd0699-6546-47d3-95c6-909a57b91803\" name=\"files[]\" multiple disabled\n",
              "        style=\"border:none\" />\n",
              "     <output id=\"result-78cd0699-6546-47d3-95c6-909a57b91803\">\n",
              "      Upload widget is only available when the cell has been executed in the\n",
              "      current browser session. Please rerun this cell to enable.\n",
              "      </output>\n",
              "      <script src=\"/nbextensions/google.colab/files.js\"></script> "
            ],
            "text/plain": [
              "<IPython.core.display.HTML object>"
            ]
          },
          "metadata": {}
        },
        {
          "output_type": "stream",
          "name": "stdout",
          "text": [
            "Saving merged final.csv to merged final.csv\n"
          ]
        },
        {
          "output_type": "execute_result",
          "data": {
            "text/plain": [
              "{'merged final.csv': b'Year,I1,I2,I3,I4,I5,N1,N2,N3,N4,N5,N6,R1,R2,R3,R4,R5,T1,T2,T3,M1,M2\\r\\n2000,282000,221,,76,0.06,,,38484,29396,5914,,,,,1763,,27,282000,75557,71,91000\\r\\n2001,288000,221,,91,0.07,,,40777,27730,5778,,,,,2017,2998,27,288000,76302,72,93000\\r\\n2002,293000,221,,120,0.09,,,46811,26316,6351,1522,,,,2485,1522,28,293000,83485,70,93000\\r\\n2003,298000,221,,160,0.12,,,53618,24913,7120,,,,,2505,,30,298000,88156,69,93000\\r\\n2004,303000,221,,210,0.16,,,62694,23803,8626,,,,,3213,1092,32,303000,98336,66,91000\\r\\n2005,308000,221,,290,0.21,,,84848,23076,11318,,,,,3876,,40,308000,123118,60,83000\\r\\n2006,312000,221,,360,0.26,,,101967,24565,14436,,,,,4218,,47,312000,145186,54,76000\\r\\n2007,316000,221,,430,0.3,,,104296,23152,16106,,,,,3788,,47,316000,147342,54,77000\\r\\n2008,319000,221,,470,0.33,,,106373,22192,18359,0,,,,4138,2853,47,319000,151062,53,77000\\r\\n2009,323000,221,,520,0.35,,,109402,25375,21999,,,,,4099,,50,323000,160875,51,74000\\r\\n2010,326000,221,,570,0.38,,,105772,21625,23506,0,,,,2989,4806,47,326000,153892,53,79000\\r\\n2011,330000,221,,610,0.41,,,98948,21921,27329,3459,,,,2701,4665,47,330000,154358,54,80000\\r\\n2012,334000,221,,660,0.44,,,106790,24451,30549,3828,,,,3065,4936,51,334000,168683,50,76000\\r\\n2013,338000,221,,690,0.45,105539,42394,,,33704,,2869,0,0,,6385,55,338000,184506,47,71000\\r\\n2014,342000,221,,700,0.45,106767,42832,,,37406,,2989,863,309,,5631,56,342000,191166,46,70000\\r\\n2015,346000,221,,700,0.45,113948,43078,,,42000,,3166,3403,1320,,2523,60,346000,206915,42,66000\\r\\n2016,349000,221,,710,0.45,124604,45009,,,43549,,3637,3795,1654,,1673,64,349000,222248,39,61000\\r\\n2017,353000,221,,710,0.44,140755,47456,,,44745,,4062,3935,1686,,1562,69,353000,242639,34,55000\\r\\n2018,357000,221,,700,0.44,149754,56476,,,49775,,5123,4272,1743,,1453,75,357000,267143,29,47000\\r\\n2019,361000,221,33000,700,0.43,162195,62386,,,53275,,6134,5462,2143,,1347,81,361000,291595,24,38000\\r\\n'}"
            ]
          },
          "metadata": {},
          "execution_count": 2
        }
      ]
    },
    {
      "cell_type": "code",
      "metadata": {
        "id": "49wSRVA3uSLF"
      },
      "source": [
        "df = pd.read_csv('merged final.csv')"
      ],
      "execution_count": null,
      "outputs": []
    },
    {
      "cell_type": "code",
      "metadata": {
        "colab": {
          "base_uri": "https://localhost:8080/",
          "height": 697
        },
        "id": "HXp4CDAPuUJO",
        "outputId": "b597f4aa-8211-44f0-9648-93db9801a9c8"
      },
      "source": [
        "df"
      ],
      "execution_count": null,
      "outputs": [
        {
          "output_type": "execute_result",
          "data": {
            "text/html": [
              "<div>\n",
              "<style scoped>\n",
              "    .dataframe tbody tr th:only-of-type {\n",
              "        vertical-align: middle;\n",
              "    }\n",
              "\n",
              "    .dataframe tbody tr th {\n",
              "        vertical-align: top;\n",
              "    }\n",
              "\n",
              "    .dataframe thead th {\n",
              "        text-align: right;\n",
              "    }\n",
              "</style>\n",
              "<table border=\"1\" class=\"dataframe\">\n",
              "  <thead>\n",
              "    <tr style=\"text-align: right;\">\n",
              "      <th></th>\n",
              "      <th>Year</th>\n",
              "      <th>I1</th>\n",
              "      <th>I2</th>\n",
              "      <th>I3</th>\n",
              "      <th>I4</th>\n",
              "      <th>I5</th>\n",
              "      <th>N1</th>\n",
              "      <th>N2</th>\n",
              "      <th>N3</th>\n",
              "      <th>N4</th>\n",
              "      <th>N5</th>\n",
              "      <th>N6</th>\n",
              "      <th>R1</th>\n",
              "      <th>R2</th>\n",
              "      <th>R3</th>\n",
              "      <th>R4</th>\n",
              "      <th>R5</th>\n",
              "      <th>T1</th>\n",
              "      <th>T2</th>\n",
              "      <th>T3</th>\n",
              "      <th>M1</th>\n",
              "      <th>M2</th>\n",
              "    </tr>\n",
              "  </thead>\n",
              "  <tbody>\n",
              "    <tr>\n",
              "      <th>0</th>\n",
              "      <td>2000</td>\n",
              "      <td>282000</td>\n",
              "      <td>221</td>\n",
              "      <td>NaN</td>\n",
              "      <td>76</td>\n",
              "      <td>0.06</td>\n",
              "      <td>NaN</td>\n",
              "      <td>NaN</td>\n",
              "      <td>38484.0</td>\n",
              "      <td>29396.0</td>\n",
              "      <td>5914</td>\n",
              "      <td>NaN</td>\n",
              "      <td>NaN</td>\n",
              "      <td>NaN</td>\n",
              "      <td>NaN</td>\n",
              "      <td>1763.0</td>\n",
              "      <td>NaN</td>\n",
              "      <td>27</td>\n",
              "      <td>282000</td>\n",
              "      <td>75557</td>\n",
              "      <td>71</td>\n",
              "      <td>91000</td>\n",
              "    </tr>\n",
              "    <tr>\n",
              "      <th>1</th>\n",
              "      <td>2001</td>\n",
              "      <td>288000</td>\n",
              "      <td>221</td>\n",
              "      <td>NaN</td>\n",
              "      <td>91</td>\n",
              "      <td>0.07</td>\n",
              "      <td>NaN</td>\n",
              "      <td>NaN</td>\n",
              "      <td>40777.0</td>\n",
              "      <td>27730.0</td>\n",
              "      <td>5778</td>\n",
              "      <td>NaN</td>\n",
              "      <td>NaN</td>\n",
              "      <td>NaN</td>\n",
              "      <td>NaN</td>\n",
              "      <td>2017.0</td>\n",
              "      <td>2998.0</td>\n",
              "      <td>27</td>\n",
              "      <td>288000</td>\n",
              "      <td>76302</td>\n",
              "      <td>72</td>\n",
              "      <td>93000</td>\n",
              "    </tr>\n",
              "    <tr>\n",
              "      <th>2</th>\n",
              "      <td>2002</td>\n",
              "      <td>293000</td>\n",
              "      <td>221</td>\n",
              "      <td>NaN</td>\n",
              "      <td>120</td>\n",
              "      <td>0.09</td>\n",
              "      <td>NaN</td>\n",
              "      <td>NaN</td>\n",
              "      <td>46811.0</td>\n",
              "      <td>26316.0</td>\n",
              "      <td>6351</td>\n",
              "      <td>1522.0</td>\n",
              "      <td>NaN</td>\n",
              "      <td>NaN</td>\n",
              "      <td>NaN</td>\n",
              "      <td>2485.0</td>\n",
              "      <td>1522.0</td>\n",
              "      <td>28</td>\n",
              "      <td>293000</td>\n",
              "      <td>83485</td>\n",
              "      <td>70</td>\n",
              "      <td>93000</td>\n",
              "    </tr>\n",
              "    <tr>\n",
              "      <th>3</th>\n",
              "      <td>2003</td>\n",
              "      <td>298000</td>\n",
              "      <td>221</td>\n",
              "      <td>NaN</td>\n",
              "      <td>160</td>\n",
              "      <td>0.12</td>\n",
              "      <td>NaN</td>\n",
              "      <td>NaN</td>\n",
              "      <td>53618.0</td>\n",
              "      <td>24913.0</td>\n",
              "      <td>7120</td>\n",
              "      <td>NaN</td>\n",
              "      <td>NaN</td>\n",
              "      <td>NaN</td>\n",
              "      <td>NaN</td>\n",
              "      <td>2505.0</td>\n",
              "      <td>NaN</td>\n",
              "      <td>30</td>\n",
              "      <td>298000</td>\n",
              "      <td>88156</td>\n",
              "      <td>69</td>\n",
              "      <td>93000</td>\n",
              "    </tr>\n",
              "    <tr>\n",
              "      <th>4</th>\n",
              "      <td>2004</td>\n",
              "      <td>303000</td>\n",
              "      <td>221</td>\n",
              "      <td>NaN</td>\n",
              "      <td>210</td>\n",
              "      <td>0.16</td>\n",
              "      <td>NaN</td>\n",
              "      <td>NaN</td>\n",
              "      <td>62694.0</td>\n",
              "      <td>23803.0</td>\n",
              "      <td>8626</td>\n",
              "      <td>NaN</td>\n",
              "      <td>NaN</td>\n",
              "      <td>NaN</td>\n",
              "      <td>NaN</td>\n",
              "      <td>3213.0</td>\n",
              "      <td>1092.0</td>\n",
              "      <td>32</td>\n",
              "      <td>303000</td>\n",
              "      <td>98336</td>\n",
              "      <td>66</td>\n",
              "      <td>91000</td>\n",
              "    </tr>\n",
              "    <tr>\n",
              "      <th>5</th>\n",
              "      <td>2005</td>\n",
              "      <td>308000</td>\n",
              "      <td>221</td>\n",
              "      <td>NaN</td>\n",
              "      <td>290</td>\n",
              "      <td>0.21</td>\n",
              "      <td>NaN</td>\n",
              "      <td>NaN</td>\n",
              "      <td>84848.0</td>\n",
              "      <td>23076.0</td>\n",
              "      <td>11318</td>\n",
              "      <td>NaN</td>\n",
              "      <td>NaN</td>\n",
              "      <td>NaN</td>\n",
              "      <td>NaN</td>\n",
              "      <td>3876.0</td>\n",
              "      <td>NaN</td>\n",
              "      <td>40</td>\n",
              "      <td>308000</td>\n",
              "      <td>123118</td>\n",
              "      <td>60</td>\n",
              "      <td>83000</td>\n",
              "    </tr>\n",
              "    <tr>\n",
              "      <th>6</th>\n",
              "      <td>2006</td>\n",
              "      <td>312000</td>\n",
              "      <td>221</td>\n",
              "      <td>NaN</td>\n",
              "      <td>360</td>\n",
              "      <td>0.26</td>\n",
              "      <td>NaN</td>\n",
              "      <td>NaN</td>\n",
              "      <td>101967.0</td>\n",
              "      <td>24565.0</td>\n",
              "      <td>14436</td>\n",
              "      <td>NaN</td>\n",
              "      <td>NaN</td>\n",
              "      <td>NaN</td>\n",
              "      <td>NaN</td>\n",
              "      <td>4218.0</td>\n",
              "      <td>NaN</td>\n",
              "      <td>47</td>\n",
              "      <td>312000</td>\n",
              "      <td>145186</td>\n",
              "      <td>54</td>\n",
              "      <td>76000</td>\n",
              "    </tr>\n",
              "    <tr>\n",
              "      <th>7</th>\n",
              "      <td>2007</td>\n",
              "      <td>316000</td>\n",
              "      <td>221</td>\n",
              "      <td>NaN</td>\n",
              "      <td>430</td>\n",
              "      <td>0.30</td>\n",
              "      <td>NaN</td>\n",
              "      <td>NaN</td>\n",
              "      <td>104296.0</td>\n",
              "      <td>23152.0</td>\n",
              "      <td>16106</td>\n",
              "      <td>NaN</td>\n",
              "      <td>NaN</td>\n",
              "      <td>NaN</td>\n",
              "      <td>NaN</td>\n",
              "      <td>3788.0</td>\n",
              "      <td>NaN</td>\n",
              "      <td>47</td>\n",
              "      <td>316000</td>\n",
              "      <td>147342</td>\n",
              "      <td>54</td>\n",
              "      <td>77000</td>\n",
              "    </tr>\n",
              "    <tr>\n",
              "      <th>8</th>\n",
              "      <td>2008</td>\n",
              "      <td>319000</td>\n",
              "      <td>221</td>\n",
              "      <td>NaN</td>\n",
              "      <td>470</td>\n",
              "      <td>0.33</td>\n",
              "      <td>NaN</td>\n",
              "      <td>NaN</td>\n",
              "      <td>106373.0</td>\n",
              "      <td>22192.0</td>\n",
              "      <td>18359</td>\n",
              "      <td>0.0</td>\n",
              "      <td>NaN</td>\n",
              "      <td>NaN</td>\n",
              "      <td>NaN</td>\n",
              "      <td>4138.0</td>\n",
              "      <td>2853.0</td>\n",
              "      <td>47</td>\n",
              "      <td>319000</td>\n",
              "      <td>151062</td>\n",
              "      <td>53</td>\n",
              "      <td>77000</td>\n",
              "    </tr>\n",
              "    <tr>\n",
              "      <th>9</th>\n",
              "      <td>2009</td>\n",
              "      <td>323000</td>\n",
              "      <td>221</td>\n",
              "      <td>NaN</td>\n",
              "      <td>520</td>\n",
              "      <td>0.35</td>\n",
              "      <td>NaN</td>\n",
              "      <td>NaN</td>\n",
              "      <td>109402.0</td>\n",
              "      <td>25375.0</td>\n",
              "      <td>21999</td>\n",
              "      <td>NaN</td>\n",
              "      <td>NaN</td>\n",
              "      <td>NaN</td>\n",
              "      <td>NaN</td>\n",
              "      <td>4099.0</td>\n",
              "      <td>NaN</td>\n",
              "      <td>50</td>\n",
              "      <td>323000</td>\n",
              "      <td>160875</td>\n",
              "      <td>51</td>\n",
              "      <td>74000</td>\n",
              "    </tr>\n",
              "    <tr>\n",
              "      <th>10</th>\n",
              "      <td>2010</td>\n",
              "      <td>326000</td>\n",
              "      <td>221</td>\n",
              "      <td>NaN</td>\n",
              "      <td>570</td>\n",
              "      <td>0.38</td>\n",
              "      <td>NaN</td>\n",
              "      <td>NaN</td>\n",
              "      <td>105772.0</td>\n",
              "      <td>21625.0</td>\n",
              "      <td>23506</td>\n",
              "      <td>0.0</td>\n",
              "      <td>NaN</td>\n",
              "      <td>NaN</td>\n",
              "      <td>NaN</td>\n",
              "      <td>2989.0</td>\n",
              "      <td>4806.0</td>\n",
              "      <td>47</td>\n",
              "      <td>326000</td>\n",
              "      <td>153892</td>\n",
              "      <td>53</td>\n",
              "      <td>79000</td>\n",
              "    </tr>\n",
              "    <tr>\n",
              "      <th>11</th>\n",
              "      <td>2011</td>\n",
              "      <td>330000</td>\n",
              "      <td>221</td>\n",
              "      <td>NaN</td>\n",
              "      <td>610</td>\n",
              "      <td>0.41</td>\n",
              "      <td>NaN</td>\n",
              "      <td>NaN</td>\n",
              "      <td>98948.0</td>\n",
              "      <td>21921.0</td>\n",
              "      <td>27329</td>\n",
              "      <td>3459.0</td>\n",
              "      <td>NaN</td>\n",
              "      <td>NaN</td>\n",
              "      <td>NaN</td>\n",
              "      <td>2701.0</td>\n",
              "      <td>4665.0</td>\n",
              "      <td>47</td>\n",
              "      <td>330000</td>\n",
              "      <td>154358</td>\n",
              "      <td>54</td>\n",
              "      <td>80000</td>\n",
              "    </tr>\n",
              "    <tr>\n",
              "      <th>12</th>\n",
              "      <td>2012</td>\n",
              "      <td>334000</td>\n",
              "      <td>221</td>\n",
              "      <td>NaN</td>\n",
              "      <td>660</td>\n",
              "      <td>0.44</td>\n",
              "      <td>NaN</td>\n",
              "      <td>NaN</td>\n",
              "      <td>106790.0</td>\n",
              "      <td>24451.0</td>\n",
              "      <td>30549</td>\n",
              "      <td>3828.0</td>\n",
              "      <td>NaN</td>\n",
              "      <td>NaN</td>\n",
              "      <td>NaN</td>\n",
              "      <td>3065.0</td>\n",
              "      <td>4936.0</td>\n",
              "      <td>51</td>\n",
              "      <td>334000</td>\n",
              "      <td>168683</td>\n",
              "      <td>50</td>\n",
              "      <td>76000</td>\n",
              "    </tr>\n",
              "    <tr>\n",
              "      <th>13</th>\n",
              "      <td>2013</td>\n",
              "      <td>338000</td>\n",
              "      <td>221</td>\n",
              "      <td>NaN</td>\n",
              "      <td>690</td>\n",
              "      <td>0.45</td>\n",
              "      <td>105539.0</td>\n",
              "      <td>42394.0</td>\n",
              "      <td>NaN</td>\n",
              "      <td>NaN</td>\n",
              "      <td>33704</td>\n",
              "      <td>NaN</td>\n",
              "      <td>2869.0</td>\n",
              "      <td>0.0</td>\n",
              "      <td>0.0</td>\n",
              "      <td>NaN</td>\n",
              "      <td>6385.0</td>\n",
              "      <td>55</td>\n",
              "      <td>338000</td>\n",
              "      <td>184506</td>\n",
              "      <td>47</td>\n",
              "      <td>71000</td>\n",
              "    </tr>\n",
              "    <tr>\n",
              "      <th>14</th>\n",
              "      <td>2014</td>\n",
              "      <td>342000</td>\n",
              "      <td>221</td>\n",
              "      <td>NaN</td>\n",
              "      <td>700</td>\n",
              "      <td>0.45</td>\n",
              "      <td>106767.0</td>\n",
              "      <td>42832.0</td>\n",
              "      <td>NaN</td>\n",
              "      <td>NaN</td>\n",
              "      <td>37406</td>\n",
              "      <td>NaN</td>\n",
              "      <td>2989.0</td>\n",
              "      <td>863.0</td>\n",
              "      <td>309.0</td>\n",
              "      <td>NaN</td>\n",
              "      <td>5631.0</td>\n",
              "      <td>56</td>\n",
              "      <td>342000</td>\n",
              "      <td>191166</td>\n",
              "      <td>46</td>\n",
              "      <td>70000</td>\n",
              "    </tr>\n",
              "    <tr>\n",
              "      <th>15</th>\n",
              "      <td>2015</td>\n",
              "      <td>346000</td>\n",
              "      <td>221</td>\n",
              "      <td>NaN</td>\n",
              "      <td>700</td>\n",
              "      <td>0.45</td>\n",
              "      <td>113948.0</td>\n",
              "      <td>43078.0</td>\n",
              "      <td>NaN</td>\n",
              "      <td>NaN</td>\n",
              "      <td>42000</td>\n",
              "      <td>NaN</td>\n",
              "      <td>3166.0</td>\n",
              "      <td>3403.0</td>\n",
              "      <td>1320.0</td>\n",
              "      <td>NaN</td>\n",
              "      <td>2523.0</td>\n",
              "      <td>60</td>\n",
              "      <td>346000</td>\n",
              "      <td>206915</td>\n",
              "      <td>42</td>\n",
              "      <td>66000</td>\n",
              "    </tr>\n",
              "    <tr>\n",
              "      <th>16</th>\n",
              "      <td>2016</td>\n",
              "      <td>349000</td>\n",
              "      <td>221</td>\n",
              "      <td>NaN</td>\n",
              "      <td>710</td>\n",
              "      <td>0.45</td>\n",
              "      <td>124604.0</td>\n",
              "      <td>45009.0</td>\n",
              "      <td>NaN</td>\n",
              "      <td>NaN</td>\n",
              "      <td>43549</td>\n",
              "      <td>NaN</td>\n",
              "      <td>3637.0</td>\n",
              "      <td>3795.0</td>\n",
              "      <td>1654.0</td>\n",
              "      <td>NaN</td>\n",
              "      <td>1673.0</td>\n",
              "      <td>64</td>\n",
              "      <td>349000</td>\n",
              "      <td>222248</td>\n",
              "      <td>39</td>\n",
              "      <td>61000</td>\n",
              "    </tr>\n",
              "    <tr>\n",
              "      <th>17</th>\n",
              "      <td>2017</td>\n",
              "      <td>353000</td>\n",
              "      <td>221</td>\n",
              "      <td>NaN</td>\n",
              "      <td>710</td>\n",
              "      <td>0.44</td>\n",
              "      <td>140755.0</td>\n",
              "      <td>47456.0</td>\n",
              "      <td>NaN</td>\n",
              "      <td>NaN</td>\n",
              "      <td>44745</td>\n",
              "      <td>NaN</td>\n",
              "      <td>4062.0</td>\n",
              "      <td>3935.0</td>\n",
              "      <td>1686.0</td>\n",
              "      <td>NaN</td>\n",
              "      <td>1562.0</td>\n",
              "      <td>69</td>\n",
              "      <td>353000</td>\n",
              "      <td>242639</td>\n",
              "      <td>34</td>\n",
              "      <td>55000</td>\n",
              "    </tr>\n",
              "    <tr>\n",
              "      <th>18</th>\n",
              "      <td>2018</td>\n",
              "      <td>357000</td>\n",
              "      <td>221</td>\n",
              "      <td>NaN</td>\n",
              "      <td>700</td>\n",
              "      <td>0.44</td>\n",
              "      <td>149754.0</td>\n",
              "      <td>56476.0</td>\n",
              "      <td>NaN</td>\n",
              "      <td>NaN</td>\n",
              "      <td>49775</td>\n",
              "      <td>NaN</td>\n",
              "      <td>5123.0</td>\n",
              "      <td>4272.0</td>\n",
              "      <td>1743.0</td>\n",
              "      <td>NaN</td>\n",
              "      <td>1453.0</td>\n",
              "      <td>75</td>\n",
              "      <td>357000</td>\n",
              "      <td>267143</td>\n",
              "      <td>29</td>\n",
              "      <td>47000</td>\n",
              "    </tr>\n",
              "    <tr>\n",
              "      <th>19</th>\n",
              "      <td>2019</td>\n",
              "      <td>361000</td>\n",
              "      <td>221</td>\n",
              "      <td>33000.0</td>\n",
              "      <td>700</td>\n",
              "      <td>0.43</td>\n",
              "      <td>162195.0</td>\n",
              "      <td>62386.0</td>\n",
              "      <td>NaN</td>\n",
              "      <td>NaN</td>\n",
              "      <td>53275</td>\n",
              "      <td>NaN</td>\n",
              "      <td>6134.0</td>\n",
              "      <td>5462.0</td>\n",
              "      <td>2143.0</td>\n",
              "      <td>NaN</td>\n",
              "      <td>1347.0</td>\n",
              "      <td>81</td>\n",
              "      <td>361000</td>\n",
              "      <td>291595</td>\n",
              "      <td>24</td>\n",
              "      <td>38000</td>\n",
              "    </tr>\n",
              "  </tbody>\n",
              "</table>\n",
              "</div>"
            ],
            "text/plain": [
              "    Year      I1   I2       I3   I4  ...  T1      T2      T3  M1     M2\n",
              "0   2000  282000  221      NaN   76  ...  27  282000   75557  71  91000\n",
              "1   2001  288000  221      NaN   91  ...  27  288000   76302  72  93000\n",
              "2   2002  293000  221      NaN  120  ...  28  293000   83485  70  93000\n",
              "3   2003  298000  221      NaN  160  ...  30  298000   88156  69  93000\n",
              "4   2004  303000  221      NaN  210  ...  32  303000   98336  66  91000\n",
              "5   2005  308000  221      NaN  290  ...  40  308000  123118  60  83000\n",
              "6   2006  312000  221      NaN  360  ...  47  312000  145186  54  76000\n",
              "7   2007  316000  221      NaN  430  ...  47  316000  147342  54  77000\n",
              "8   2008  319000  221      NaN  470  ...  47  319000  151062  53  77000\n",
              "9   2009  323000  221      NaN  520  ...  50  323000  160875  51  74000\n",
              "10  2010  326000  221      NaN  570  ...  47  326000  153892  53  79000\n",
              "11  2011  330000  221      NaN  610  ...  47  330000  154358  54  80000\n",
              "12  2012  334000  221      NaN  660  ...  51  334000  168683  50  76000\n",
              "13  2013  338000  221      NaN  690  ...  55  338000  184506  47  71000\n",
              "14  2014  342000  221      NaN  700  ...  56  342000  191166  46  70000\n",
              "15  2015  346000  221      NaN  700  ...  60  346000  206915  42  66000\n",
              "16  2016  349000  221      NaN  710  ...  64  349000  222248  39  61000\n",
              "17  2017  353000  221      NaN  710  ...  69  353000  242639  34  55000\n",
              "18  2018  357000  221      NaN  700  ...  75  357000  267143  29  47000\n",
              "19  2019  361000  221  33000.0  700  ...  81  361000  291595  24  38000\n",
              "\n",
              "[20 rows x 22 columns]"
            ]
          },
          "metadata": {},
          "execution_count": 4
        }
      ]
    },
    {
      "cell_type": "code",
      "metadata": {
        "colab": {
          "base_uri": "https://localhost:8080/"
        },
        "id": "Ul0RkHcUuXHW",
        "outputId": "3e839823-f180-4a01-ffdb-da7af3ee5272"
      },
      "source": [
        "df.isnull().sum()"
      ],
      "execution_count": null,
      "outputs": [
        {
          "output_type": "execute_result",
          "data": {
            "text/plain": [
              "Year     0\n",
              "I1       0\n",
              "I2       0\n",
              "I3      19\n",
              "I4       0\n",
              "I5       0\n",
              "N1      13\n",
              "N2      13\n",
              "N3       7\n",
              "N4       7\n",
              "N5       0\n",
              "N6      15\n",
              "R1      13\n",
              "R2      13\n",
              "R3      13\n",
              "R4       7\n",
              "R5       6\n",
              "T1       0\n",
              "T2       0\n",
              "T3       0\n",
              "M1       0\n",
              "M2       0\n",
              "dtype: int64"
            ]
          },
          "metadata": {},
          "execution_count": 5
        }
      ]
    },
    {
      "cell_type": "code",
      "metadata": {
        "id": "J83o0gX4uY3-"
      },
      "source": [
        "df.fillna(value = 0, inplace = True)"
      ],
      "execution_count": null,
      "outputs": []
    },
    {
      "cell_type": "code",
      "metadata": {
        "colab": {
          "base_uri": "https://localhost:8080/"
        },
        "id": "vc_XJEISuasO",
        "outputId": "405939b9-f193-4b0d-ad10-d59b51523319"
      },
      "source": [
        "df.isnull().sum()"
      ],
      "execution_count": null,
      "outputs": [
        {
          "output_type": "execute_result",
          "data": {
            "text/plain": [
              "Year    0\n",
              "I1      0\n",
              "I2      0\n",
              "I3      0\n",
              "I4      0\n",
              "I5      0\n",
              "N1      0\n",
              "N2      0\n",
              "N3      0\n",
              "N4      0\n",
              "N5      0\n",
              "N6      0\n",
              "R1      0\n",
              "R2      0\n",
              "R3      0\n",
              "R4      0\n",
              "R5      0\n",
              "T1      0\n",
              "T2      0\n",
              "T3      0\n",
              "M1      0\n",
              "M2      0\n",
              "dtype: int64"
            ]
          },
          "metadata": {},
          "execution_count": 7
        }
      ]
    },
    {
      "cell_type": "code",
      "metadata": {
        "colab": {
          "base_uri": "https://localhost:8080/",
          "height": 759
        },
        "id": "yyGRmY3nubxe",
        "outputId": "c6820426-0cab-45a4-f59f-abff0b67be4f"
      },
      "source": [
        "df.corr()"
      ],
      "execution_count": null,
      "outputs": [
        {
          "output_type": "execute_result",
          "data": {
            "text/html": [
              "<div>\n",
              "<style scoped>\n",
              "    .dataframe tbody tr th:only-of-type {\n",
              "        vertical-align: middle;\n",
              "    }\n",
              "\n",
              "    .dataframe tbody tr th {\n",
              "        vertical-align: top;\n",
              "    }\n",
              "\n",
              "    .dataframe thead th {\n",
              "        text-align: right;\n",
              "    }\n",
              "</style>\n",
              "<table border=\"1\" class=\"dataframe\">\n",
              "  <thead>\n",
              "    <tr style=\"text-align: right;\">\n",
              "      <th></th>\n",
              "      <th>Year</th>\n",
              "      <th>I1</th>\n",
              "      <th>I2</th>\n",
              "      <th>I3</th>\n",
              "      <th>I4</th>\n",
              "      <th>I5</th>\n",
              "      <th>N1</th>\n",
              "      <th>N2</th>\n",
              "      <th>N3</th>\n",
              "      <th>N4</th>\n",
              "      <th>N5</th>\n",
              "      <th>N6</th>\n",
              "      <th>R1</th>\n",
              "      <th>R2</th>\n",
              "      <th>R3</th>\n",
              "      <th>R4</th>\n",
              "      <th>R5</th>\n",
              "      <th>T1</th>\n",
              "      <th>T2</th>\n",
              "      <th>T3</th>\n",
              "      <th>M1</th>\n",
              "      <th>M2</th>\n",
              "    </tr>\n",
              "  </thead>\n",
              "  <tbody>\n",
              "    <tr>\n",
              "      <th>Year</th>\n",
              "      <td>1.000000</td>\n",
              "      <td>0.998138</td>\n",
              "      <td>NaN</td>\n",
              "      <td>0.377964</td>\n",
              "      <td>0.958145</td>\n",
              "      <td>0.935701</td>\n",
              "      <td>0.850539</td>\n",
              "      <td>0.847059</td>\n",
              "      <td>-0.485013</td>\n",
              "      <td>-0.875886</td>\n",
              "      <td>0.988754</td>\n",
              "      <td>0.025903</td>\n",
              "      <td>0.844729</td>\n",
              "      <td>0.783445</td>\n",
              "      <td>0.781481</td>\n",
              "      <td>-0.655058</td>\n",
              "      <td>0.355888</td>\n",
              "      <td>0.968788</td>\n",
              "      <td>0.998138</td>\n",
              "      <td>0.973504</td>\n",
              "      <td>-0.969381</td>\n",
              "      <td>-0.926302</td>\n",
              "    </tr>\n",
              "    <tr>\n",
              "      <th>I1</th>\n",
              "      <td>0.998138</td>\n",
              "      <td>1.000000</td>\n",
              "      <td>NaN</td>\n",
              "      <td>0.368049</td>\n",
              "      <td>0.963868</td>\n",
              "      <td>0.945171</td>\n",
              "      <td>0.831542</td>\n",
              "      <td>0.828554</td>\n",
              "      <td>-0.450662</td>\n",
              "      <td>-0.865286</td>\n",
              "      <td>0.979194</td>\n",
              "      <td>0.024597</td>\n",
              "      <td>0.825232</td>\n",
              "      <td>0.763293</td>\n",
              "      <td>0.761060</td>\n",
              "      <td>-0.619238</td>\n",
              "      <td>0.349389</td>\n",
              "      <td>0.968516</td>\n",
              "      <td>1.000000</td>\n",
              "      <td>0.971063</td>\n",
              "      <td>-0.969132</td>\n",
              "      <td>-0.921119</td>\n",
              "    </tr>\n",
              "    <tr>\n",
              "      <th>I2</th>\n",
              "      <td>NaN</td>\n",
              "      <td>NaN</td>\n",
              "      <td>NaN</td>\n",
              "      <td>NaN</td>\n",
              "      <td>NaN</td>\n",
              "      <td>NaN</td>\n",
              "      <td>NaN</td>\n",
              "      <td>NaN</td>\n",
              "      <td>NaN</td>\n",
              "      <td>NaN</td>\n",
              "      <td>NaN</td>\n",
              "      <td>NaN</td>\n",
              "      <td>NaN</td>\n",
              "      <td>NaN</td>\n",
              "      <td>NaN</td>\n",
              "      <td>NaN</td>\n",
              "      <td>NaN</td>\n",
              "      <td>NaN</td>\n",
              "      <td>NaN</td>\n",
              "      <td>NaN</td>\n",
              "      <td>NaN</td>\n",
              "      <td>NaN</td>\n",
              "    </tr>\n",
              "    <tr>\n",
              "      <th>I3</th>\n",
              "      <td>0.377964</td>\n",
              "      <td>0.368049</td>\n",
              "      <td>NaN</td>\n",
              "      <td>1.000000</td>\n",
              "      <td>0.223860</td>\n",
              "      <td>0.187437</td>\n",
              "      <td>0.427760</td>\n",
              "      <td>0.442564</td>\n",
              "      <td>-0.272022</td>\n",
              "      <td>-0.309084</td>\n",
              "      <td>0.417155</td>\n",
              "      <td>-0.090279</td>\n",
              "      <td>0.537647</td>\n",
              "      <td>0.549732</td>\n",
              "      <td>0.522972</td>\n",
              "      <td>-0.287361</td>\n",
              "      <td>-0.092669</td>\n",
              "      <td>0.479098</td>\n",
              "      <td>0.368049</td>\n",
              "      <td>0.489715</td>\n",
              "      <td>-0.475773</td>\n",
              "      <td>-0.561074</td>\n",
              "    </tr>\n",
              "    <tr>\n",
              "      <th>I4</th>\n",
              "      <td>0.958145</td>\n",
              "      <td>0.963868</td>\n",
              "      <td>NaN</td>\n",
              "      <td>0.223860</td>\n",
              "      <td>1.000000</td>\n",
              "      <td>0.996702</td>\n",
              "      <td>0.707934</td>\n",
              "      <td>0.708609</td>\n",
              "      <td>-0.310972</td>\n",
              "      <td>-0.786176</td>\n",
              "      <td>0.922248</td>\n",
              "      <td>0.124317</td>\n",
              "      <td>0.680812</td>\n",
              "      <td>0.589740</td>\n",
              "      <td>0.588895</td>\n",
              "      <td>-0.522094</td>\n",
              "      <td>0.491201</td>\n",
              "      <td>0.897350</td>\n",
              "      <td>0.963868</td>\n",
              "      <td>0.893105</td>\n",
              "      <td>-0.898155</td>\n",
              "      <td>-0.818953</td>\n",
              "    </tr>\n",
              "    <tr>\n",
              "      <th>I5</th>\n",
              "      <td>0.935701</td>\n",
              "      <td>0.945171</td>\n",
              "      <td>NaN</td>\n",
              "      <td>0.187437</td>\n",
              "      <td>0.996702</td>\n",
              "      <td>1.000000</td>\n",
              "      <td>0.655342</td>\n",
              "      <td>0.657180</td>\n",
              "      <td>-0.245208</td>\n",
              "      <td>-0.746676</td>\n",
              "      <td>0.890600</td>\n",
              "      <td>0.148224</td>\n",
              "      <td>0.626130</td>\n",
              "      <td>0.533266</td>\n",
              "      <td>0.532388</td>\n",
              "      <td>-0.460874</td>\n",
              "      <td>0.503967</td>\n",
              "      <td>0.872034</td>\n",
              "      <td>0.945171</td>\n",
              "      <td>0.864821</td>\n",
              "      <td>-0.873123</td>\n",
              "      <td>-0.785236</td>\n",
              "    </tr>\n",
              "    <tr>\n",
              "      <th>N1</th>\n",
              "      <td>0.850539</td>\n",
              "      <td>0.831542</td>\n",
              "      <td>NaN</td>\n",
              "      <td>0.427760</td>\n",
              "      <td>0.707934</td>\n",
              "      <td>0.655342</td>\n",
              "      <td>1.000000</td>\n",
              "      <td>0.997757</td>\n",
              "      <td>-0.853565</td>\n",
              "      <td>-0.969863</td>\n",
              "      <td>0.898712</td>\n",
              "      <td>-0.283284</td>\n",
              "      <td>0.988025</td>\n",
              "      <td>0.894699</td>\n",
              "      <td>0.892312</td>\n",
              "      <td>-0.901698</td>\n",
              "      <td>0.180989</td>\n",
              "      <td>0.852800</td>\n",
              "      <td>0.831542</td>\n",
              "      <td>0.871039</td>\n",
              "      <td>-0.850207</td>\n",
              "      <td>-0.870487</td>\n",
              "    </tr>\n",
              "    <tr>\n",
              "      <th>N2</th>\n",
              "      <td>0.847059</td>\n",
              "      <td>0.828554</td>\n",
              "      <td>NaN</td>\n",
              "      <td>0.442564</td>\n",
              "      <td>0.708609</td>\n",
              "      <td>0.657180</td>\n",
              "      <td>0.997757</td>\n",
              "      <td>1.000000</td>\n",
              "      <td>-0.855485</td>\n",
              "      <td>-0.972044</td>\n",
              "      <td>0.895890</td>\n",
              "      <td>-0.283921</td>\n",
              "      <td>0.987668</td>\n",
              "      <td>0.877330</td>\n",
              "      <td>0.872434</td>\n",
              "      <td>-0.903726</td>\n",
              "      <td>0.206178</td>\n",
              "      <td>0.848039</td>\n",
              "      <td>0.828554</td>\n",
              "      <td>0.866200</td>\n",
              "      <td>-0.844930</td>\n",
              "      <td>-0.865307</td>\n",
              "    </tr>\n",
              "    <tr>\n",
              "      <th>N3</th>\n",
              "      <td>-0.485013</td>\n",
              "      <td>-0.450662</td>\n",
              "      <td>NaN</td>\n",
              "      <td>-0.272022</td>\n",
              "      <td>-0.310972</td>\n",
              "      <td>-0.245208</td>\n",
              "      <td>-0.853565</td>\n",
              "      <td>-0.855485</td>\n",
              "      <td>1.000000</td>\n",
              "      <td>0.804699</td>\n",
              "      <td>-0.577654</td>\n",
              "      <td>0.354609</td>\n",
              "      <td>-0.821017</td>\n",
              "      <td>-0.705522</td>\n",
              "      <td>-0.703853</td>\n",
              "      <td>0.951651</td>\n",
              "      <td>-0.132310</td>\n",
              "      <td>-0.458593</td>\n",
              "      <td>-0.450662</td>\n",
              "      <td>-0.491680</td>\n",
              "      <td>0.453899</td>\n",
              "      <td>0.505247</td>\n",
              "    </tr>\n",
              "    <tr>\n",
              "      <th>N4</th>\n",
              "      <td>-0.875886</td>\n",
              "      <td>-0.865286</td>\n",
              "      <td>NaN</td>\n",
              "      <td>-0.309084</td>\n",
              "      <td>-0.786176</td>\n",
              "      <td>-0.746676</td>\n",
              "      <td>-0.969863</td>\n",
              "      <td>-0.972044</td>\n",
              "      <td>0.804699</td>\n",
              "      <td>1.000000</td>\n",
              "      <td>-0.900503</td>\n",
              "      <td>0.261465</td>\n",
              "      <td>-0.932880</td>\n",
              "      <td>-0.801648</td>\n",
              "      <td>-0.799752</td>\n",
              "      <td>0.873368</td>\n",
              "      <td>-0.315786</td>\n",
              "      <td>-0.841299</td>\n",
              "      <td>-0.865286</td>\n",
              "      <td>-0.855947</td>\n",
              "      <td>0.839114</td>\n",
              "      <td>0.823851</td>\n",
              "    </tr>\n",
              "    <tr>\n",
              "      <th>N5</th>\n",
              "      <td>0.988754</td>\n",
              "      <td>0.979194</td>\n",
              "      <td>NaN</td>\n",
              "      <td>0.417155</td>\n",
              "      <td>0.922248</td>\n",
              "      <td>0.890600</td>\n",
              "      <td>0.898712</td>\n",
              "      <td>0.895890</td>\n",
              "      <td>-0.577654</td>\n",
              "      <td>-0.900503</td>\n",
              "      <td>1.000000</td>\n",
              "      <td>0.000292</td>\n",
              "      <td>0.896245</td>\n",
              "      <td>0.839037</td>\n",
              "      <td>0.835635</td>\n",
              "      <td>-0.736137</td>\n",
              "      <td>0.329223</td>\n",
              "      <td>0.964726</td>\n",
              "      <td>0.979194</td>\n",
              "      <td>0.973454</td>\n",
              "      <td>-0.964378</td>\n",
              "      <td>-0.939251</td>\n",
              "    </tr>\n",
              "    <tr>\n",
              "      <th>N6</th>\n",
              "      <td>0.025903</td>\n",
              "      <td>0.024597</td>\n",
              "      <td>NaN</td>\n",
              "      <td>-0.090279</td>\n",
              "      <td>0.124317</td>\n",
              "      <td>0.148224</td>\n",
              "      <td>-0.283284</td>\n",
              "      <td>-0.283921</td>\n",
              "      <td>0.354609</td>\n",
              "      <td>0.261465</td>\n",
              "      <td>0.000292</td>\n",
              "      <td>1.000000</td>\n",
              "      <td>-0.272482</td>\n",
              "      <td>-0.234151</td>\n",
              "      <td>-0.233597</td>\n",
              "      <td>0.187965</td>\n",
              "      <td>0.398195</td>\n",
              "      <td>-0.091029</td>\n",
              "      <td>0.024597</td>\n",
              "      <td>-0.085900</td>\n",
              "      <td>0.091445</td>\n",
              "      <td>0.156880</td>\n",
              "    </tr>\n",
              "    <tr>\n",
              "      <th>R1</th>\n",
              "      <td>0.844729</td>\n",
              "      <td>0.825232</td>\n",
              "      <td>NaN</td>\n",
              "      <td>0.537647</td>\n",
              "      <td>0.680812</td>\n",
              "      <td>0.626130</td>\n",
              "      <td>0.988025</td>\n",
              "      <td>0.987668</td>\n",
              "      <td>-0.821017</td>\n",
              "      <td>-0.932880</td>\n",
              "      <td>0.896245</td>\n",
              "      <td>-0.272482</td>\n",
              "      <td>1.000000</td>\n",
              "      <td>0.923327</td>\n",
              "      <td>0.917515</td>\n",
              "      <td>-0.867314</td>\n",
              "      <td>0.127085</td>\n",
              "      <td>0.869269</td>\n",
              "      <td>0.825232</td>\n",
              "      <td>0.887945</td>\n",
              "      <td>-0.866618</td>\n",
              "      <td>-0.902272</td>\n",
              "    </tr>\n",
              "    <tr>\n",
              "      <th>R2</th>\n",
              "      <td>0.783445</td>\n",
              "      <td>0.763293</td>\n",
              "      <td>NaN</td>\n",
              "      <td>0.549732</td>\n",
              "      <td>0.589740</td>\n",
              "      <td>0.533266</td>\n",
              "      <td>0.894699</td>\n",
              "      <td>0.877330</td>\n",
              "      <td>-0.705522</td>\n",
              "      <td>-0.801648</td>\n",
              "      <td>0.839037</td>\n",
              "      <td>-0.234151</td>\n",
              "      <td>0.923327</td>\n",
              "      <td>1.000000</td>\n",
              "      <td>0.998584</td>\n",
              "      <td>-0.745306</td>\n",
              "      <td>-0.103178</td>\n",
              "      <td>0.830868</td>\n",
              "      <td>0.763293</td>\n",
              "      <td>0.849583</td>\n",
              "      <td>-0.831228</td>\n",
              "      <td>-0.877094</td>\n",
              "    </tr>\n",
              "    <tr>\n",
              "      <th>R3</th>\n",
              "      <td>0.781481</td>\n",
              "      <td>0.761060</td>\n",
              "      <td>NaN</td>\n",
              "      <td>0.522972</td>\n",
              "      <td>0.588895</td>\n",
              "      <td>0.532388</td>\n",
              "      <td>0.892312</td>\n",
              "      <td>0.872434</td>\n",
              "      <td>-0.703853</td>\n",
              "      <td>-0.799752</td>\n",
              "      <td>0.835635</td>\n",
              "      <td>-0.233597</td>\n",
              "      <td>0.917515</td>\n",
              "      <td>0.998584</td>\n",
              "      <td>1.000000</td>\n",
              "      <td>-0.743543</td>\n",
              "      <td>-0.109768</td>\n",
              "      <td>0.827316</td>\n",
              "      <td>0.761060</td>\n",
              "      <td>0.845798</td>\n",
              "      <td>-0.827723</td>\n",
              "      <td>-0.872054</td>\n",
              "    </tr>\n",
              "    <tr>\n",
              "      <th>R4</th>\n",
              "      <td>-0.655058</td>\n",
              "      <td>-0.619238</td>\n",
              "      <td>NaN</td>\n",
              "      <td>-0.287361</td>\n",
              "      <td>-0.522094</td>\n",
              "      <td>-0.460874</td>\n",
              "      <td>-0.901698</td>\n",
              "      <td>-0.903726</td>\n",
              "      <td>0.951651</td>\n",
              "      <td>0.873368</td>\n",
              "      <td>-0.736137</td>\n",
              "      <td>0.187965</td>\n",
              "      <td>-0.867314</td>\n",
              "      <td>-0.745306</td>\n",
              "      <td>-0.743543</td>\n",
              "      <td>1.000000</td>\n",
              "      <td>-0.322850</td>\n",
              "      <td>-0.595986</td>\n",
              "      <td>-0.619238</td>\n",
              "      <td>-0.627460</td>\n",
              "      <td>0.591445</td>\n",
              "      <td>0.614663</td>\n",
              "    </tr>\n",
              "    <tr>\n",
              "      <th>R5</th>\n",
              "      <td>0.355888</td>\n",
              "      <td>0.349389</td>\n",
              "      <td>NaN</td>\n",
              "      <td>-0.092669</td>\n",
              "      <td>0.491201</td>\n",
              "      <td>0.503967</td>\n",
              "      <td>0.180989</td>\n",
              "      <td>0.206178</td>\n",
              "      <td>-0.132310</td>\n",
              "      <td>-0.315786</td>\n",
              "      <td>0.329223</td>\n",
              "      <td>0.398195</td>\n",
              "      <td>0.127085</td>\n",
              "      <td>-0.103178</td>\n",
              "      <td>-0.109768</td>\n",
              "      <td>-0.322850</td>\n",
              "      <td>1.000000</td>\n",
              "      <td>0.177975</td>\n",
              "      <td>0.349389</td>\n",
              "      <td>0.190003</td>\n",
              "      <td>-0.177967</td>\n",
              "      <td>-0.081896</td>\n",
              "    </tr>\n",
              "    <tr>\n",
              "      <th>T1</th>\n",
              "      <td>0.968788</td>\n",
              "      <td>0.968516</td>\n",
              "      <td>NaN</td>\n",
              "      <td>0.479098</td>\n",
              "      <td>0.897350</td>\n",
              "      <td>0.872034</td>\n",
              "      <td>0.852800</td>\n",
              "      <td>0.848039</td>\n",
              "      <td>-0.458593</td>\n",
              "      <td>-0.841299</td>\n",
              "      <td>0.964726</td>\n",
              "      <td>-0.091029</td>\n",
              "      <td>0.869269</td>\n",
              "      <td>0.830868</td>\n",
              "      <td>0.827316</td>\n",
              "      <td>-0.595986</td>\n",
              "      <td>0.177975</td>\n",
              "      <td>1.000000</td>\n",
              "      <td>0.968516</td>\n",
              "      <td>0.998452</td>\n",
              "      <td>-0.999531</td>\n",
              "      <td>-0.986672</td>\n",
              "    </tr>\n",
              "    <tr>\n",
              "      <th>T2</th>\n",
              "      <td>0.998138</td>\n",
              "      <td>1.000000</td>\n",
              "      <td>NaN</td>\n",
              "      <td>0.368049</td>\n",
              "      <td>0.963868</td>\n",
              "      <td>0.945171</td>\n",
              "      <td>0.831542</td>\n",
              "      <td>0.828554</td>\n",
              "      <td>-0.450662</td>\n",
              "      <td>-0.865286</td>\n",
              "      <td>0.979194</td>\n",
              "      <td>0.024597</td>\n",
              "      <td>0.825232</td>\n",
              "      <td>0.763293</td>\n",
              "      <td>0.761060</td>\n",
              "      <td>-0.619238</td>\n",
              "      <td>0.349389</td>\n",
              "      <td>0.968516</td>\n",
              "      <td>1.000000</td>\n",
              "      <td>0.971063</td>\n",
              "      <td>-0.969132</td>\n",
              "      <td>-0.921119</td>\n",
              "    </tr>\n",
              "    <tr>\n",
              "      <th>T3</th>\n",
              "      <td>0.973504</td>\n",
              "      <td>0.971063</td>\n",
              "      <td>NaN</td>\n",
              "      <td>0.489715</td>\n",
              "      <td>0.893105</td>\n",
              "      <td>0.864821</td>\n",
              "      <td>0.871039</td>\n",
              "      <td>0.866200</td>\n",
              "      <td>-0.491680</td>\n",
              "      <td>-0.855947</td>\n",
              "      <td>0.973454</td>\n",
              "      <td>-0.085900</td>\n",
              "      <td>0.887945</td>\n",
              "      <td>0.849583</td>\n",
              "      <td>0.845798</td>\n",
              "      <td>-0.627460</td>\n",
              "      <td>0.190003</td>\n",
              "      <td>0.998452</td>\n",
              "      <td>0.971063</td>\n",
              "      <td>1.000000</td>\n",
              "      <td>-0.998404</td>\n",
              "      <td>-0.987304</td>\n",
              "    </tr>\n",
              "    <tr>\n",
              "      <th>M1</th>\n",
              "      <td>-0.969381</td>\n",
              "      <td>-0.969132</td>\n",
              "      <td>NaN</td>\n",
              "      <td>-0.475773</td>\n",
              "      <td>-0.898155</td>\n",
              "      <td>-0.873123</td>\n",
              "      <td>-0.850207</td>\n",
              "      <td>-0.844930</td>\n",
              "      <td>0.453899</td>\n",
              "      <td>0.839114</td>\n",
              "      <td>-0.964378</td>\n",
              "      <td>0.091445</td>\n",
              "      <td>-0.866618</td>\n",
              "      <td>-0.831228</td>\n",
              "      <td>-0.827723</td>\n",
              "      <td>0.591445</td>\n",
              "      <td>-0.177967</td>\n",
              "      <td>-0.999531</td>\n",
              "      <td>-0.969132</td>\n",
              "      <td>-0.998404</td>\n",
              "      <td>1.000000</td>\n",
              "      <td>0.985818</td>\n",
              "    </tr>\n",
              "    <tr>\n",
              "      <th>M2</th>\n",
              "      <td>-0.926302</td>\n",
              "      <td>-0.921119</td>\n",
              "      <td>NaN</td>\n",
              "      <td>-0.561074</td>\n",
              "      <td>-0.818953</td>\n",
              "      <td>-0.785236</td>\n",
              "      <td>-0.870487</td>\n",
              "      <td>-0.865307</td>\n",
              "      <td>0.505247</td>\n",
              "      <td>0.823851</td>\n",
              "      <td>-0.939251</td>\n",
              "      <td>0.156880</td>\n",
              "      <td>-0.902272</td>\n",
              "      <td>-0.877094</td>\n",
              "      <td>-0.872054</td>\n",
              "      <td>0.614663</td>\n",
              "      <td>-0.081896</td>\n",
              "      <td>-0.986672</td>\n",
              "      <td>-0.921119</td>\n",
              "      <td>-0.987304</td>\n",
              "      <td>0.985818</td>\n",
              "      <td>1.000000</td>\n",
              "    </tr>\n",
              "  </tbody>\n",
              "</table>\n",
              "</div>"
            ],
            "text/plain": [
              "          Year        I1  I2        I3  ...        T2        T3        M1        M2\n",
              "Year  1.000000  0.998138 NaN  0.377964  ...  0.998138  0.973504 -0.969381 -0.926302\n",
              "I1    0.998138  1.000000 NaN  0.368049  ...  1.000000  0.971063 -0.969132 -0.921119\n",
              "I2         NaN       NaN NaN       NaN  ...       NaN       NaN       NaN       NaN\n",
              "I3    0.377964  0.368049 NaN  1.000000  ...  0.368049  0.489715 -0.475773 -0.561074\n",
              "I4    0.958145  0.963868 NaN  0.223860  ...  0.963868  0.893105 -0.898155 -0.818953\n",
              "I5    0.935701  0.945171 NaN  0.187437  ...  0.945171  0.864821 -0.873123 -0.785236\n",
              "N1    0.850539  0.831542 NaN  0.427760  ...  0.831542  0.871039 -0.850207 -0.870487\n",
              "N2    0.847059  0.828554 NaN  0.442564  ...  0.828554  0.866200 -0.844930 -0.865307\n",
              "N3   -0.485013 -0.450662 NaN -0.272022  ... -0.450662 -0.491680  0.453899  0.505247\n",
              "N4   -0.875886 -0.865286 NaN -0.309084  ... -0.865286 -0.855947  0.839114  0.823851\n",
              "N5    0.988754  0.979194 NaN  0.417155  ...  0.979194  0.973454 -0.964378 -0.939251\n",
              "N6    0.025903  0.024597 NaN -0.090279  ...  0.024597 -0.085900  0.091445  0.156880\n",
              "R1    0.844729  0.825232 NaN  0.537647  ...  0.825232  0.887945 -0.866618 -0.902272\n",
              "R2    0.783445  0.763293 NaN  0.549732  ...  0.763293  0.849583 -0.831228 -0.877094\n",
              "R3    0.781481  0.761060 NaN  0.522972  ...  0.761060  0.845798 -0.827723 -0.872054\n",
              "R4   -0.655058 -0.619238 NaN -0.287361  ... -0.619238 -0.627460  0.591445  0.614663\n",
              "R5    0.355888  0.349389 NaN -0.092669  ...  0.349389  0.190003 -0.177967 -0.081896\n",
              "T1    0.968788  0.968516 NaN  0.479098  ...  0.968516  0.998452 -0.999531 -0.986672\n",
              "T2    0.998138  1.000000 NaN  0.368049  ...  1.000000  0.971063 -0.969132 -0.921119\n",
              "T3    0.973504  0.971063 NaN  0.489715  ...  0.971063  1.000000 -0.998404 -0.987304\n",
              "M1   -0.969381 -0.969132 NaN -0.475773  ... -0.969132 -0.998404  1.000000  0.985818\n",
              "M2   -0.926302 -0.921119 NaN -0.561074  ... -0.921119 -0.987304  0.985818  1.000000\n",
              "\n",
              "[22 rows x 22 columns]"
            ]
          },
          "metadata": {},
          "execution_count": 8
        }
      ]
    },
    {
      "cell_type": "code",
      "metadata": {
        "colab": {
          "base_uri": "https://localhost:8080/",
          "height": 320
        },
        "id": "JBnTdmj2uec2",
        "outputId": "3edaa4a6-e29f-41a2-bca1-8f10cf91fba7"
      },
      "source": [
        "df.describe()"
      ],
      "execution_count": null,
      "outputs": [
        {
          "output_type": "execute_result",
          "data": {
            "text/html": [
              "<div>\n",
              "<style scoped>\n",
              "    .dataframe tbody tr th:only-of-type {\n",
              "        vertical-align: middle;\n",
              "    }\n",
              "\n",
              "    .dataframe tbody tr th {\n",
              "        vertical-align: top;\n",
              "    }\n",
              "\n",
              "    .dataframe thead th {\n",
              "        text-align: right;\n",
              "    }\n",
              "</style>\n",
              "<table border=\"1\" class=\"dataframe\">\n",
              "  <thead>\n",
              "    <tr style=\"text-align: right;\">\n",
              "      <th></th>\n",
              "      <th>Year</th>\n",
              "      <th>I1</th>\n",
              "      <th>I2</th>\n",
              "      <th>I3</th>\n",
              "      <th>I4</th>\n",
              "      <th>I5</th>\n",
              "      <th>N1</th>\n",
              "      <th>N2</th>\n",
              "      <th>N3</th>\n",
              "      <th>N4</th>\n",
              "      <th>N5</th>\n",
              "      <th>N6</th>\n",
              "      <th>R1</th>\n",
              "      <th>R2</th>\n",
              "      <th>R3</th>\n",
              "      <th>R4</th>\n",
              "      <th>R5</th>\n",
              "      <th>T1</th>\n",
              "      <th>T2</th>\n",
              "      <th>T3</th>\n",
              "      <th>M1</th>\n",
              "      <th>M2</th>\n",
              "    </tr>\n",
              "  </thead>\n",
              "  <tbody>\n",
              "    <tr>\n",
              "      <th>count</th>\n",
              "      <td>20.00000</td>\n",
              "      <td>20.000000</td>\n",
              "      <td>20.0</td>\n",
              "      <td>20.000000</td>\n",
              "      <td>20.000000</td>\n",
              "      <td>20.00000</td>\n",
              "      <td>20.000000</td>\n",
              "      <td>20.000000</td>\n",
              "      <td>20.00000</td>\n",
              "      <td>20.00000</td>\n",
              "      <td>20.000000</td>\n",
              "      <td>20.000000</td>\n",
              "      <td>20.000000</td>\n",
              "      <td>20.00000</td>\n",
              "      <td>20.000000</td>\n",
              "      <td>20.000000</td>\n",
              "      <td>20.000000</td>\n",
              "      <td>20.000000</td>\n",
              "      <td>20.000000</td>\n",
              "      <td>20.000000</td>\n",
              "      <td>20.000000</td>\n",
              "      <td>20.000000</td>\n",
              "    </tr>\n",
              "    <tr>\n",
              "      <th>mean</th>\n",
              "      <td>2009.50000</td>\n",
              "      <td>323900.000000</td>\n",
              "      <td>221.0</td>\n",
              "      <td>1650.000000</td>\n",
              "      <td>473.850000</td>\n",
              "      <td>0.31450</td>\n",
              "      <td>45178.100000</td>\n",
              "      <td>16981.550000</td>\n",
              "      <td>53039.00000</td>\n",
              "      <td>15925.75000</td>\n",
              "      <td>25092.250000</td>\n",
              "      <td>440.450000</td>\n",
              "      <td>1399.000000</td>\n",
              "      <td>1086.50000</td>\n",
              "      <td>442.750000</td>\n",
              "      <td>2042.850000</td>\n",
              "      <td>2172.300000</td>\n",
              "      <td>49.000000</td>\n",
              "      <td>323900.000000</td>\n",
              "      <td>161628.200000</td>\n",
              "      <td>51.900000</td>\n",
              "      <td>74550.000000</td>\n",
              "    </tr>\n",
              "    <tr>\n",
              "      <th>std</th>\n",
              "      <td>5.91608</td>\n",
              "      <td>23726.290104</td>\n",
              "      <td>0.0</td>\n",
              "      <td>7379.024326</td>\n",
              "      <td>237.783687</td>\n",
              "      <td>0.14504</td>\n",
              "      <td>64388.708762</td>\n",
              "      <td>24148.137473</td>\n",
              "      <td>45893.70796</td>\n",
              "      <td>12127.85734</td>\n",
              "      <td>15901.850438</td>\n",
              "      <td>1148.335751</td>\n",
              "      <td>2072.927196</td>\n",
              "      <td>1873.43213</td>\n",
              "      <td>765.236109</td>\n",
              "      <td>1673.285305</td>\n",
              "      <td>2096.225658</td>\n",
              "      <td>15.721256</td>\n",
              "      <td>23726.290104</td>\n",
              "      <td>62467.011754</td>\n",
              "      <td>13.802746</td>\n",
              "      <td>15333.056824</td>\n",
              "    </tr>\n",
              "    <tr>\n",
              "      <th>min</th>\n",
              "      <td>2000.00000</td>\n",
              "      <td>282000.000000</td>\n",
              "      <td>221.0</td>\n",
              "      <td>0.000000</td>\n",
              "      <td>76.000000</td>\n",
              "      <td>0.06000</td>\n",
              "      <td>0.000000</td>\n",
              "      <td>0.000000</td>\n",
              "      <td>0.00000</td>\n",
              "      <td>0.00000</td>\n",
              "      <td>5778.000000</td>\n",
              "      <td>0.000000</td>\n",
              "      <td>0.000000</td>\n",
              "      <td>0.00000</td>\n",
              "      <td>0.000000</td>\n",
              "      <td>0.000000</td>\n",
              "      <td>0.000000</td>\n",
              "      <td>27.000000</td>\n",
              "      <td>282000.000000</td>\n",
              "      <td>75557.000000</td>\n",
              "      <td>24.000000</td>\n",
              "      <td>38000.000000</td>\n",
              "    </tr>\n",
              "    <tr>\n",
              "      <th>25%</th>\n",
              "      <td>2004.75000</td>\n",
              "      <td>306750.000000</td>\n",
              "      <td>221.0</td>\n",
              "      <td>0.000000</td>\n",
              "      <td>270.000000</td>\n",
              "      <td>0.19750</td>\n",
              "      <td>0.000000</td>\n",
              "      <td>0.000000</td>\n",
              "      <td>0.00000</td>\n",
              "      <td>0.00000</td>\n",
              "      <td>10645.000000</td>\n",
              "      <td>0.000000</td>\n",
              "      <td>0.000000</td>\n",
              "      <td>0.00000</td>\n",
              "      <td>0.000000</td>\n",
              "      <td>0.000000</td>\n",
              "      <td>0.000000</td>\n",
              "      <td>38.000000</td>\n",
              "      <td>306750.000000</td>\n",
              "      <td>116922.500000</td>\n",
              "      <td>45.000000</td>\n",
              "      <td>69000.000000</td>\n",
              "    </tr>\n",
              "    <tr>\n",
              "      <th>50%</th>\n",
              "      <td>2009.50000</td>\n",
              "      <td>324500.000000</td>\n",
              "      <td>221.0</td>\n",
              "      <td>0.000000</td>\n",
              "      <td>545.000000</td>\n",
              "      <td>0.36500</td>\n",
              "      <td>0.000000</td>\n",
              "      <td>0.000000</td>\n",
              "      <td>50214.50000</td>\n",
              "      <td>22634.00000</td>\n",
              "      <td>22752.500000</td>\n",
              "      <td>0.000000</td>\n",
              "      <td>0.000000</td>\n",
              "      <td>0.00000</td>\n",
              "      <td>0.000000</td>\n",
              "      <td>2495.000000</td>\n",
              "      <td>1542.000000</td>\n",
              "      <td>47.000000</td>\n",
              "      <td>324500.000000</td>\n",
              "      <td>154125.000000</td>\n",
              "      <td>53.000000</td>\n",
              "      <td>76500.000000</td>\n",
              "    </tr>\n",
              "    <tr>\n",
              "      <th>75%</th>\n",
              "      <td>2014.25000</td>\n",
              "      <td>343000.000000</td>\n",
              "      <td>221.0</td>\n",
              "      <td>0.000000</td>\n",
              "      <td>700.000000</td>\n",
              "      <td>0.44000</td>\n",
              "      <td>108562.250000</td>\n",
              "      <td>42893.500000</td>\n",
              "      <td>102549.25000</td>\n",
              "      <td>24652.00000</td>\n",
              "      <td>38554.500000</td>\n",
              "      <td>0.000000</td>\n",
              "      <td>3033.250000</td>\n",
              "      <td>1498.00000</td>\n",
              "      <td>561.750000</td>\n",
              "      <td>3356.750000</td>\n",
              "      <td>3414.750000</td>\n",
              "      <td>57.000000</td>\n",
              "      <td>343000.000000</td>\n",
              "      <td>195103.250000</td>\n",
              "      <td>61.500000</td>\n",
              "      <td>85000.000000</td>\n",
              "    </tr>\n",
              "    <tr>\n",
              "      <th>max</th>\n",
              "      <td>2019.00000</td>\n",
              "      <td>361000.000000</td>\n",
              "      <td>221.0</td>\n",
              "      <td>33000.000000</td>\n",
              "      <td>710.000000</td>\n",
              "      <td>0.45000</td>\n",
              "      <td>162195.000000</td>\n",
              "      <td>62386.000000</td>\n",
              "      <td>109402.00000</td>\n",
              "      <td>29396.00000</td>\n",
              "      <td>53275.000000</td>\n",
              "      <td>3828.000000</td>\n",
              "      <td>6134.000000</td>\n",
              "      <td>5462.00000</td>\n",
              "      <td>2143.000000</td>\n",
              "      <td>4218.000000</td>\n",
              "      <td>6385.000000</td>\n",
              "      <td>81.000000</td>\n",
              "      <td>361000.000000</td>\n",
              "      <td>291595.000000</td>\n",
              "      <td>72.000000</td>\n",
              "      <td>93000.000000</td>\n",
              "    </tr>\n",
              "  </tbody>\n",
              "</table>\n",
              "</div>"
            ],
            "text/plain": [
              "             Year             I1     I2  ...             T3         M1            M2\n",
              "count    20.00000      20.000000   20.0  ...      20.000000  20.000000     20.000000\n",
              "mean   2009.50000  323900.000000  221.0  ...  161628.200000  51.900000  74550.000000\n",
              "std       5.91608   23726.290104    0.0  ...   62467.011754  13.802746  15333.056824\n",
              "min    2000.00000  282000.000000  221.0  ...   75557.000000  24.000000  38000.000000\n",
              "25%    2004.75000  306750.000000  221.0  ...  116922.500000  45.000000  69000.000000\n",
              "50%    2009.50000  324500.000000  221.0  ...  154125.000000  53.000000  76500.000000\n",
              "75%    2014.25000  343000.000000  221.0  ...  195103.250000  61.500000  85000.000000\n",
              "max    2019.00000  361000.000000  221.0  ...  291595.000000  72.000000  93000.000000\n",
              "\n",
              "[8 rows x 22 columns]"
            ]
          },
          "metadata": {},
          "execution_count": 9
        }
      ]
    },
    {
      "cell_type": "code",
      "metadata": {
        "colab": {
          "base_uri": "https://localhost:8080/",
          "height": 327
        },
        "id": "A2zR4BhRugf2",
        "outputId": "6411c9a5-b9fc-41ea-f466-eeb5034dd61e"
      },
      "source": [
        "sns.countplot(x='Year',hue='M2',data=df, palette='colorblind',edgecolor=sns.color_palette('dark', n_colors=1))"
      ],
      "execution_count": null,
      "outputs": [
        {
          "output_type": "execute_result",
          "data": {
            "text/plain": [
              "<matplotlib.axes._subplots.AxesSubplot at 0x7f9536ccb310>"
            ]
          },
          "metadata": {},
          "execution_count": 10
        },
        {
          "output_type": "display_data",
          "data": {
            "image/png": "[encoded data removed]",
            "text/plain": [
              "<Figure size 432x288 with 1 Axes>"
            ]
          },
          "metadata": {
            "needs_background": "light"
          }
        }
      ]
    },
    {
      "cell_type": "code",
      "metadata": {
        "id": "l2B9tmp7KYLM"
      },
      "source": [
        "Tasks = df['M2']"
      ],
      "execution_count": null,
      "outputs": []
    },
    {
      "cell_type": "code",
      "metadata": {
        "id": "1rilXJG9Kkc-"
      },
      "source": [
        "my_labels = df['Year']"
      ],
      "execution_count": null,
      "outputs": []
    },
    {
      "cell_type": "code",
      "metadata": {
        "colab": {
          "base_uri": "https://localhost:8080/",
          "height": 1000
        },
        "id": "Lm2H2UMuKnJm",
        "outputId": "5d8ffeab-bf8f-41f1-e0b4-825f45ca82c2"
      },
      "source": [
        "plt.pie(Tasks,labels=my_labels,autopct='%1.1f%%')"
      ],
      "execution_count": null,
      "outputs": [
        {
          "output_type": "execute_result",
          "data": {
            "text/plain": [
              "([<matplotlib.patches.Wedge at 0x7fee1cc32450>,\n",
              "  <matplotlib.patches.Wedge at 0x7fee1cc32c10>,\n",
              "  <matplotlib.patches.Wedge at 0x7fee1cc3d510>,\n",
              "  <matplotlib.patches.Wedge at 0x7fee1cc3df50>,\n",
              "  <matplotlib.patches.Wedge at 0x7fee1cc46b50>,\n",
              "  <matplotlib.patches.Wedge at 0x7fee1cc51550>,\n",
              "  <matplotlib.patches.Wedge at 0x7fee1cc51210>,\n",
              "  <matplotlib.patches.Wedge at 0x7fee1cc5a410>,\n",
              "  <matplotlib.patches.Wedge at 0x7fee1cc46850>,\n",
              "  <matplotlib.patches.Wedge at 0x7fee1cc51190>,\n",
              "  <matplotlib.patches.Wedge at 0x7fee1ccb2a50>,\n",
              "  <matplotlib.patches.Wedge at 0x7fee1cbf07d0>,\n",
              "  <matplotlib.patches.Wedge at 0x7fee1cbfb050>,\n",
              "  <matplotlib.patches.Wedge at 0x7fee1cbfb0d0>,\n",
              "  <matplotlib.patches.Wedge at 0x7fee1cc06290>,\n",
              "  <matplotlib.patches.Wedge at 0x7fee1cc06310>,\n",
              "  <matplotlib.patches.Wedge at 0x7fee1cc114d0>,\n",
              "  <matplotlib.patches.Wedge at 0x7fee1cc11550>,\n",
              "  <matplotlib.patches.Wedge at 0x7fee1cc1b7d0>,\n",
              "  <matplotlib.patches.Wedge at 0x7fee1cba7050>],\n",
              " [Text(1.079841463628627, 0.20962445808727648, '2000'),\n",
              "  Text(0.9204492005337376, 0.6023066239356857, '2001'),\n",
              "  Text(0.6206092167315662, 0.9082093371617758, '2002'),\n",
              "  Text(0.2266620588747284, 1.0763941244110677, '2003'),\n",
              "  Text(-0.19709670494311016, 1.0821981745043598, '2004'),\n",
              "  Text(-0.5719297641587888, 0.9396256408108883, '2005'),\n",
              "  Text(-0.8490695511996011, 0.6993431898758349, '2006'),\n",
              "  Text(-1.0268969412092144, 0.3943129114487114, '2007'),\n",
              "  Text(-1.0990234321651493, 0.04634107845028833, '2008'),\n",
              "  Text(-1.0583619189047646, -0.29978333611497576, '2009'),\n",
              "  Text(-0.9088626448409263, -0.6196520740002057, '2010'),\n",
              "  Text(-0.6546000131906681, -0.8840242206697605, '2011'),\n",
              "  Text(-0.3341824113446547, -1.0480086430692603, '2012'),\n",
              "  Text(0.0011589012516509446, -1.0999993895215983, '2013'),\n",
              "  Text(0.3231231647781705, -1.0514710744398723, '2014'),\n",
              "  Text(0.6071468296961975, -0.9172637173626006, '2015'),\n",
              "  Text(0.828073587449074, -0.7240815794986233, '2016'),\n",
              "  Text(0.9786827267466636, -0.5021753880545278, '2017'),\n",
              "  Text(1.0632645831503904, -0.2819014477047375, '2018'),\n",
              "  Text(1.0964759529578383, -0.08798002378495101, '2019')],\n",
              " [Text(0.5890044347065239, 0.11434061350215079, '6.1%'),\n",
              "  Text(0.5020632002911295, 0.32853088578310125, '6.2%'),\n",
              "  Text(0.33851411821721794, 0.49538691117915035, '6.2%'),\n",
              "  Text(0.12363385029530638, 0.5871240678605824, '6.2%'),\n",
              "  Text(-0.1075072936053328, 0.5902899133660144, '6.1%'),\n",
              "  Text(-0.3119616895411575, 0.512523076805939, '5.6%'),\n",
              "  Text(-0.4631288461088733, 0.38145992175045534, '5.1%'),\n",
              "  Text(-0.560125604295935, 0.21507976988111527, '5.2%'),\n",
              "  Text(-0.5994673266355359, 0.02527695188197545, '5.2%'),\n",
              "  Text(-0.5772883194025988, -0.16351818333544132, '5.0%'),\n",
              "  Text(-0.49574326082232334, -0.3379920403637486, '5.3%'),\n",
              "  Text(-0.35705455264945524, -0.48219502945623294, '5.4%'),\n",
              "  Text(-0.18228131527890257, -0.5716410780377783, '5.1%'),\n",
              "  Text(0.0006321279554459696, -0.5999996670117809, '4.8%'),\n",
              "  Text(0.17624899896991114, -0.573529676967203, '4.7%'),\n",
              "  Text(0.3311709980161077, -0.5003256640159639, '4.4%'),\n",
              "  Text(0.4516765022449494, -0.3949535888174308, '4.1%'),\n",
              "  Text(0.5338269418618165, -0.2739138480297424, '3.7%'),\n",
              "  Text(0.5799624999002129, -0.1537644260207659, '3.2%'),\n",
              "  Text(0.5980777925224572, -0.04798910388270054, '2.5%')])"
            ]
          },
          "metadata": {},
          "execution_count": 15
        },
        {
          "output_type": "display_data",
          "data": {
            "image/png": "[encoded data removed]",
            "text/plain": [
              "<Figure size 432x288 with 1 Axes>"
            ]
          },
          "metadata": {}
        }
      ]
    },
    {
      "cell_type": "code",
      "metadata": {
        "colab": {
          "base_uri": "https://localhost:8080/",
          "height": 319
        },
        "id": "DcgeMbMhui5l",
        "outputId": "f93be7d3-f90f-4728-abda-9f75b5c814b3"
      },
      "source": [
        "df.plot(x=\"M2\", y=[\"M1\",\"N4\",\"R4\", \"N3\"], kind=\"bar\")"
      ],
      "execution_count": null,
      "outputs": [
        {
          "output_type": "execute_result",
          "data": {
            "text/plain": [
              "<matplotlib.axes._subplots.AxesSubplot at 0x7fee1d4ee250>"
            ]
          },
          "metadata": {},
          "execution_count": 11
        },
        {
          "output_type": "display_data",
          "data": {
            "image/png": "[encoded data removed]",
            "text/plain": [
              "<Figure size 432x288 with 1 Axes>"
            ]
          },
          "metadata": {
            "needs_background": "light"
          }
        }
      ]
    },
    {
      "cell_type": "code",
      "metadata": {
        "id": "hMo1s_xMJ_S-"
      },
      "source": [
        "df.plot(x=\"M2\", y=[\"M1\",\"N4\",\"R4\"], kind=\"bar\")"
      ],
      "execution_count": null,
      "outputs": []
    },
    {
      "cell_type": "code",
      "metadata": {
        "id": "YBLZgo_WulF9"
      },
      "source": [
        "x = df.iloc[: , :-1]"
      ],
      "execution_count": null,
      "outputs": []
    },
    {
      "cell_type": "code",
      "metadata": {
        "colab": {
          "base_uri": "https://localhost:8080/",
          "height": 677
        },
        "id": "KB4nwweLum89",
        "outputId": "a18b13fb-0d69-4ae6-ca5e-3e88321b4d3a"
      },
      "source": [
        "x"
      ],
      "execution_count": null,
      "outputs": [
        {
          "output_type": "execute_result",
          "data": {
            "text/html": [
              "<div>\n",
              "<style scoped>\n",
              "    .dataframe tbody tr th:only-of-type {\n",
              "        vertical-align: middle;\n",
              "    }\n",
              "\n",
              "    .dataframe tbody tr th {\n",
              "        vertical-align: top;\n",
              "    }\n",
              "\n",
              "    .dataframe thead th {\n",
              "        text-align: right;\n",
              "    }\n",
              "</style>\n",
              "<table border=\"1\" class=\"dataframe\">\n",
              "  <thead>\n",
              "    <tr style=\"text-align: right;\">\n",
              "      <th></th>\n",
              "      <th>Year</th>\n",
              "      <th>I1</th>\n",
              "      <th>I2</th>\n",
              "      <th>I3</th>\n",
              "      <th>I4</th>\n",
              "      <th>I5</th>\n",
              "      <th>N1</th>\n",
              "      <th>N2</th>\n",
              "      <th>N3</th>\n",
              "      <th>N4</th>\n",
              "      <th>N5</th>\n",
              "      <th>N6</th>\n",
              "      <th>R1</th>\n",
              "      <th>R2</th>\n",
              "      <th>R3</th>\n",
              "      <th>R4</th>\n",
              "      <th>R5</th>\n",
              "      <th>T1</th>\n",
              "      <th>T2</th>\n",
              "      <th>T3</th>\n",
              "      <th>M1</th>\n",
              "    </tr>\n",
              "  </thead>\n",
              "  <tbody>\n",
              "    <tr>\n",
              "      <th>0</th>\n",
              "      <td>2000</td>\n",
              "      <td>282000</td>\n",
              "      <td>221</td>\n",
              "      <td>0.0</td>\n",
              "      <td>76</td>\n",
              "      <td>0.06</td>\n",
              "      <td>0.0</td>\n",
              "      <td>0.0</td>\n",
              "      <td>38484.0</td>\n",
              "      <td>29396.0</td>\n",
              "      <td>5914</td>\n",
              "      <td>0.0</td>\n",
              "      <td>0.0</td>\n",
              "      <td>0.0</td>\n",
              "      <td>0.0</td>\n",
              "      <td>1763.0</td>\n",
              "      <td>0.0</td>\n",
              "      <td>27</td>\n",
              "      <td>282000</td>\n",
              "      <td>75557</td>\n",
              "      <td>71</td>\n",
              "    </tr>\n",
              "    <tr>\n",
              "      <th>1</th>\n",
              "      <td>2001</td>\n",
              "      <td>288000</td>\n",
              "      <td>221</td>\n",
              "      <td>0.0</td>\n",
              "      <td>91</td>\n",
              "      <td>0.07</td>\n",
              "      <td>0.0</td>\n",
              "      <td>0.0</td>\n",
              "      <td>40777.0</td>\n",
              "      <td>27730.0</td>\n",
              "      <td>5778</td>\n",
              "      <td>0.0</td>\n",
              "      <td>0.0</td>\n",
              "      <td>0.0</td>\n",
              "      <td>0.0</td>\n",
              "      <td>2017.0</td>\n",
              "      <td>2998.0</td>\n",
              "      <td>27</td>\n",
              "      <td>288000</td>\n",
              "      <td>76302</td>\n",
              "      <td>72</td>\n",
              "    </tr>\n",
              "    <tr>\n",
              "      <th>2</th>\n",
              "      <td>2002</td>\n",
              "      <td>293000</td>\n",
              "      <td>221</td>\n",
              "      <td>0.0</td>\n",
              "      <td>120</td>\n",
              "      <td>0.09</td>\n",
              "      <td>0.0</td>\n",
              "      <td>0.0</td>\n",
              "      <td>46811.0</td>\n",
              "      <td>26316.0</td>\n",
              "      <td>6351</td>\n",
              "      <td>1522.0</td>\n",
              "      <td>0.0</td>\n",
              "      <td>0.0</td>\n",
              "      <td>0.0</td>\n",
              "      <td>2485.0</td>\n",
              "      <td>1522.0</td>\n",
              "      <td>28</td>\n",
              "      <td>293000</td>\n",
              "      <td>83485</td>\n",
              "      <td>70</td>\n",
              "    </tr>\n",
              "    <tr>\n",
              "      <th>3</th>\n",
              "      <td>2003</td>\n",
              "      <td>298000</td>\n",
              "      <td>221</td>\n",
              "      <td>0.0</td>\n",
              "      <td>160</td>\n",
              "      <td>0.12</td>\n",
              "      <td>0.0</td>\n",
              "      <td>0.0</td>\n",
              "      <td>53618.0</td>\n",
              "      <td>24913.0</td>\n",
              "      <td>7120</td>\n",
              "      <td>0.0</td>\n",
              "      <td>0.0</td>\n",
              "      <td>0.0</td>\n",
              "      <td>0.0</td>\n",
              "      <td>2505.0</td>\n",
              "      <td>0.0</td>\n",
              "      <td>30</td>\n",
              "      <td>298000</td>\n",
              "      <td>88156</td>\n",
              "      <td>69</td>\n",
              "    </tr>\n",
              "    <tr>\n",
              "      <th>4</th>\n",
              "      <td>2004</td>\n",
              "      <td>303000</td>\n",
              "      <td>221</td>\n",
              "      <td>0.0</td>\n",
              "      <td>210</td>\n",
              "      <td>0.16</td>\n",
              "      <td>0.0</td>\n",
              "      <td>0.0</td>\n",
              "      <td>62694.0</td>\n",
              "      <td>23803.0</td>\n",
              "      <td>8626</td>\n",
              "      <td>0.0</td>\n",
              "      <td>0.0</td>\n",
              "      <td>0.0</td>\n",
              "      <td>0.0</td>\n",
              "      <td>3213.0</td>\n",
              "      <td>1092.0</td>\n",
              "      <td>32</td>\n",
              "      <td>303000</td>\n",
              "      <td>98336</td>\n",
              "      <td>66</td>\n",
              "    </tr>\n",
              "    <tr>\n",
              "      <th>5</th>\n",
              "      <td>2005</td>\n",
              "      <td>308000</td>\n",
              "      <td>221</td>\n",
              "      <td>0.0</td>\n",
              "      <td>290</td>\n",
              "      <td>0.21</td>\n",
              "      <td>0.0</td>\n",
              "      <td>0.0</td>\n",
              "      <td>84848.0</td>\n",
              "      <td>23076.0</td>\n",
              "      <td>11318</td>\n",
              "      <td>0.0</td>\n",
              "      <td>0.0</td>\n",
              "      <td>0.0</td>\n",
              "      <td>0.0</td>\n",
              "      <td>3876.0</td>\n",
              "      <td>0.0</td>\n",
              "      <td>40</td>\n",
              "      <td>308000</td>\n",
              "      <td>123118</td>\n",
              "      <td>60</td>\n",
              "    </tr>\n",
              "    <tr>\n",
              "      <th>6</th>\n",
              "      <td>2006</td>\n",
              "      <td>312000</td>\n",
              "      <td>221</td>\n",
              "      <td>0.0</td>\n",
              "      <td>360</td>\n",
              "      <td>0.26</td>\n",
              "      <td>0.0</td>\n",
              "      <td>0.0</td>\n",
              "      <td>101967.0</td>\n",
              "      <td>24565.0</td>\n",
              "      <td>14436</td>\n",
              "      <td>0.0</td>\n",
              "      <td>0.0</td>\n",
              "      <td>0.0</td>\n",
              "      <td>0.0</td>\n",
              "      <td>4218.0</td>\n",
              "      <td>0.0</td>\n",
              "      <td>47</td>\n",
              "      <td>312000</td>\n",
              "      <td>145186</td>\n",
              "      <td>54</td>\n",
              "    </tr>\n",
              "    <tr>\n",
              "      <th>7</th>\n",
              "      <td>2007</td>\n",
              "      <td>316000</td>\n",
              "      <td>221</td>\n",
              "      <td>0.0</td>\n",
              "      <td>430</td>\n",
              "      <td>0.30</td>\n",
              "      <td>0.0</td>\n",
              "      <td>0.0</td>\n",
              "      <td>104296.0</td>\n",
              "      <td>23152.0</td>\n",
              "      <td>16106</td>\n",
              "      <td>0.0</td>\n",
              "      <td>0.0</td>\n",
              "      <td>0.0</td>\n",
              "      <td>0.0</td>\n",
              "      <td>3788.0</td>\n",
              "      <td>0.0</td>\n",
              "      <td>47</td>\n",
              "      <td>316000</td>\n",
              "      <td>147342</td>\n",
              "      <td>54</td>\n",
              "    </tr>\n",
              "    <tr>\n",
              "      <th>8</th>\n",
              "      <td>2008</td>\n",
              "      <td>319000</td>\n",
              "      <td>221</td>\n",
              "      <td>0.0</td>\n",
              "      <td>470</td>\n",
              "      <td>0.33</td>\n",
              "      <td>0.0</td>\n",
              "      <td>0.0</td>\n",
              "      <td>106373.0</td>\n",
              "      <td>22192.0</td>\n",
              "      <td>18359</td>\n",
              "      <td>0.0</td>\n",
              "      <td>0.0</td>\n",
              "      <td>0.0</td>\n",
              "      <td>0.0</td>\n",
              "      <td>4138.0</td>\n",
              "      <td>2853.0</td>\n",
              "      <td>47</td>\n",
              "      <td>319000</td>\n",
              "      <td>151062</td>\n",
              "      <td>53</td>\n",
              "    </tr>\n",
              "    <tr>\n",
              "      <th>9</th>\n",
              "      <td>2009</td>\n",
              "      <td>323000</td>\n",
              "      <td>221</td>\n",
              "      <td>0.0</td>\n",
              "      <td>520</td>\n",
              "      <td>0.35</td>\n",
              "      <td>0.0</td>\n",
              "      <td>0.0</td>\n",
              "      <td>109402.0</td>\n",
              "      <td>25375.0</td>\n",
              "      <td>21999</td>\n",
              "      <td>0.0</td>\n",
              "      <td>0.0</td>\n",
              "      <td>0.0</td>\n",
              "      <td>0.0</td>\n",
              "      <td>4099.0</td>\n",
              "      <td>0.0</td>\n",
              "      <td>50</td>\n",
              "      <td>323000</td>\n",
              "      <td>160875</td>\n",
              "      <td>51</td>\n",
              "    </tr>\n",
              "    <tr>\n",
              "      <th>10</th>\n",
              "      <td>2010</td>\n",
              "      <td>326000</td>\n",
              "      <td>221</td>\n",
              "      <td>0.0</td>\n",
              "      <td>570</td>\n",
              "      <td>0.38</td>\n",
              "      <td>0.0</td>\n",
              "      <td>0.0</td>\n",
              "      <td>105772.0</td>\n",
              "      <td>21625.0</td>\n",
              "      <td>23506</td>\n",
              "      <td>0.0</td>\n",
              "      <td>0.0</td>\n",
              "      <td>0.0</td>\n",
              "      <td>0.0</td>\n",
              "      <td>2989.0</td>\n",
              "      <td>4806.0</td>\n",
              "      <td>47</td>\n",
              "      <td>326000</td>\n",
              "      <td>153892</td>\n",
              "      <td>53</td>\n",
              "    </tr>\n",
              "    <tr>\n",
              "      <th>11</th>\n",
              "      <td>2011</td>\n",
              "      <td>330000</td>\n",
              "      <td>221</td>\n",
              "      <td>0.0</td>\n",
              "      <td>610</td>\n",
              "      <td>0.41</td>\n",
              "      <td>0.0</td>\n",
              "      <td>0.0</td>\n",
              "      <td>98948.0</td>\n",
              "      <td>21921.0</td>\n",
              "      <td>27329</td>\n",
              "      <td>3459.0</td>\n",
              "      <td>0.0</td>\n",
              "      <td>0.0</td>\n",
              "      <td>0.0</td>\n",
              "      <td>2701.0</td>\n",
              "      <td>4665.0</td>\n",
              "      <td>47</td>\n",
              "      <td>330000</td>\n",
              "      <td>154358</td>\n",
              "      <td>54</td>\n",
              "    </tr>\n",
              "    <tr>\n",
              "      <th>12</th>\n",
              "      <td>2012</td>\n",
              "      <td>334000</td>\n",
              "      <td>221</td>\n",
              "      <td>0.0</td>\n",
              "      <td>660</td>\n",
              "      <td>0.44</td>\n",
              "      <td>0.0</td>\n",
              "      <td>0.0</td>\n",
              "      <td>106790.0</td>\n",
              "      <td>24451.0</td>\n",
              "      <td>30549</td>\n",
              "      <td>3828.0</td>\n",
              "      <td>0.0</td>\n",
              "      <td>0.0</td>\n",
              "      <td>0.0</td>\n",
              "      <td>3065.0</td>\n",
              "      <td>4936.0</td>\n",
              "      <td>51</td>\n",
              "      <td>334000</td>\n",
              "      <td>168683</td>\n",
              "      <td>50</td>\n",
              "    </tr>\n",
              "    <tr>\n",
              "      <th>13</th>\n",
              "      <td>2013</td>\n",
              "      <td>338000</td>\n",
              "      <td>221</td>\n",
              "      <td>0.0</td>\n",
              "      <td>690</td>\n",
              "      <td>0.45</td>\n",
              "      <td>105539.0</td>\n",
              "      <td>42394.0</td>\n",
              "      <td>0.0</td>\n",
              "      <td>0.0</td>\n",
              "      <td>33704</td>\n",
              "      <td>0.0</td>\n",
              "      <td>2869.0</td>\n",
              "      <td>0.0</td>\n",
              "      <td>0.0</td>\n",
              "      <td>0.0</td>\n",
              "      <td>6385.0</td>\n",
              "      <td>55</td>\n",
              "      <td>338000</td>\n",
              "      <td>184506</td>\n",
              "      <td>47</td>\n",
              "    </tr>\n",
              "    <tr>\n",
              "      <th>14</th>\n",
              "      <td>2014</td>\n",
              "      <td>342000</td>\n",
              "      <td>221</td>\n",
              "      <td>0.0</td>\n",
              "      <td>700</td>\n",
              "      <td>0.45</td>\n",
              "      <td>106767.0</td>\n",
              "      <td>42832.0</td>\n",
              "      <td>0.0</td>\n",
              "      <td>0.0</td>\n",
              "      <td>37406</td>\n",
              "      <td>0.0</td>\n",
              "      <td>2989.0</td>\n",
              "      <td>863.0</td>\n",
              "      <td>309.0</td>\n",
              "      <td>0.0</td>\n",
              "      <td>5631.0</td>\n",
              "      <td>56</td>\n",
              "      <td>342000</td>\n",
              "      <td>191166</td>\n",
              "      <td>46</td>\n",
              "    </tr>\n",
              "    <tr>\n",
              "      <th>15</th>\n",
              "      <td>2015</td>\n",
              "      <td>346000</td>\n",
              "      <td>221</td>\n",
              "      <td>0.0</td>\n",
              "      <td>700</td>\n",
              "      <td>0.45</td>\n",
              "      <td>113948.0</td>\n",
              "      <td>43078.0</td>\n",
              "      <td>0.0</td>\n",
              "      <td>0.0</td>\n",
              "      <td>42000</td>\n",
              "      <td>0.0</td>\n",
              "      <td>3166.0</td>\n",
              "      <td>3403.0</td>\n",
              "      <td>1320.0</td>\n",
              "      <td>0.0</td>\n",
              "      <td>2523.0</td>\n",
              "      <td>60</td>\n",
              "      <td>346000</td>\n",
              "      <td>206915</td>\n",
              "      <td>42</td>\n",
              "    </tr>\n",
              "    <tr>\n",
              "      <th>16</th>\n",
              "      <td>2016</td>\n",
              "      <td>349000</td>\n",
              "      <td>221</td>\n",
              "      <td>0.0</td>\n",
              "      <td>710</td>\n",
              "      <td>0.45</td>\n",
              "      <td>124604.0</td>\n",
              "      <td>45009.0</td>\n",
              "      <td>0.0</td>\n",
              "      <td>0.0</td>\n",
              "      <td>43549</td>\n",
              "      <td>0.0</td>\n",
              "      <td>3637.0</td>\n",
              "      <td>3795.0</td>\n",
              "      <td>1654.0</td>\n",
              "      <td>0.0</td>\n",
              "      <td>1673.0</td>\n",
              "      <td>64</td>\n",
              "      <td>349000</td>\n",
              "      <td>222248</td>\n",
              "      <td>39</td>\n",
              "    </tr>\n",
              "    <tr>\n",
              "      <th>17</th>\n",
              "      <td>2017</td>\n",
              "      <td>353000</td>\n",
              "      <td>221</td>\n",
              "      <td>0.0</td>\n",
              "      <td>710</td>\n",
              "      <td>0.44</td>\n",
              "      <td>140755.0</td>\n",
              "      <td>47456.0</td>\n",
              "      <td>0.0</td>\n",
              "      <td>0.0</td>\n",
              "      <td>44745</td>\n",
              "      <td>0.0</td>\n",
              "      <td>4062.0</td>\n",
              "      <td>3935.0</td>\n",
              "      <td>1686.0</td>\n",
              "      <td>0.0</td>\n",
              "      <td>1562.0</td>\n",
              "      <td>69</td>\n",
              "      <td>353000</td>\n",
              "      <td>242639</td>\n",
              "      <td>34</td>\n",
              "    </tr>\n",
              "    <tr>\n",
              "      <th>18</th>\n",
              "      <td>2018</td>\n",
              "      <td>357000</td>\n",
              "      <td>221</td>\n",
              "      <td>0.0</td>\n",
              "      <td>700</td>\n",
              "      <td>0.44</td>\n",
              "      <td>149754.0</td>\n",
              "      <td>56476.0</td>\n",
              "      <td>0.0</td>\n",
              "      <td>0.0</td>\n",
              "      <td>49775</td>\n",
              "      <td>0.0</td>\n",
              "      <td>5123.0</td>\n",
              "      <td>4272.0</td>\n",
              "      <td>1743.0</td>\n",
              "      <td>0.0</td>\n",
              "      <td>1453.0</td>\n",
              "      <td>75</td>\n",
              "      <td>357000</td>\n",
              "      <td>267143</td>\n",
              "      <td>29</td>\n",
              "    </tr>\n",
              "    <tr>\n",
              "      <th>19</th>\n",
              "      <td>2019</td>\n",
              "      <td>361000</td>\n",
              "      <td>221</td>\n",
              "      <td>33000.0</td>\n",
              "      <td>700</td>\n",
              "      <td>0.43</td>\n",
              "      <td>162195.0</td>\n",
              "      <td>62386.0</td>\n",
              "      <td>0.0</td>\n",
              "      <td>0.0</td>\n",
              "      <td>53275</td>\n",
              "      <td>0.0</td>\n",
              "      <td>6134.0</td>\n",
              "      <td>5462.0</td>\n",
              "      <td>2143.0</td>\n",
              "      <td>0.0</td>\n",
              "      <td>1347.0</td>\n",
              "      <td>81</td>\n",
              "      <td>361000</td>\n",
              "      <td>291595</td>\n",
              "      <td>24</td>\n",
              "    </tr>\n",
              "  </tbody>\n",
              "</table>\n",
              "</div>"
            ],
            "text/plain": [
              "    Year      I1   I2       I3   I4  ...      R5  T1      T2      T3  M1\n",
              "0   2000  282000  221      0.0   76  ...     0.0  27  282000   75557  71\n",
              "1   2001  288000  221      0.0   91  ...  2998.0  27  288000   76302  72\n",
              "2   2002  293000  221      0.0  120  ...  1522.0  28  293000   83485  70\n",
              "3   2003  298000  221      0.0  160  ...     0.0  30  298000   88156  69\n",
              "4   2004  303000  221      0.0  210  ...  1092.0  32  303000   98336  66\n",
              "5   2005  308000  221      0.0  290  ...     0.0  40  308000  123118  60\n",
              "6   2006  312000  221      0.0  360  ...     0.0  47  312000  145186  54\n",
              "7   2007  316000  221      0.0  430  ...     0.0  47  316000  147342  54\n",
              "8   2008  319000  221      0.0  470  ...  2853.0  47  319000  151062  53\n",
              "9   2009  323000  221      0.0  520  ...     0.0  50  323000  160875  51\n",
              "10  2010  326000  221      0.0  570  ...  4806.0  47  326000  153892  53\n",
              "11  2011  330000  221      0.0  610  ...  4665.0  47  330000  154358  54\n",
              "12  2012  334000  221      0.0  660  ...  4936.0  51  334000  168683  50\n",
              "13  2013  338000  221      0.0  690  ...  6385.0  55  338000  184506  47\n",
              "14  2014  342000  221      0.0  700  ...  5631.0  56  342000  191166  46\n",
              "15  2015  346000  221      0.0  700  ...  2523.0  60  346000  206915  42\n",
              "16  2016  349000  221      0.0  710  ...  1673.0  64  349000  222248  39\n",
              "17  2017  353000  221      0.0  710  ...  1562.0  69  353000  242639  34\n",
              "18  2018  357000  221      0.0  700  ...  1453.0  75  357000  267143  29\n",
              "19  2019  361000  221  33000.0  700  ...  1347.0  81  361000  291595  24\n",
              "\n",
              "[20 rows x 21 columns]"
            ]
          },
          "metadata": {},
          "execution_count": 13
        }
      ]
    },
    {
      "cell_type": "code",
      "metadata": {
        "id": "Ib-gyGFnuot1"
      },
      "source": [
        "y = df['M2']"
      ],
      "execution_count": null,
      "outputs": []
    },
    {
      "cell_type": "code",
      "metadata": {
        "colab": {
          "base_uri": "https://localhost:8080/"
        },
        "id": "8p2hVt96uqdd",
        "outputId": "e7077f68-f78d-4ae8-87b4-36abc4c29743"
      },
      "source": [
        "y"
      ],
      "execution_count": null,
      "outputs": [
        {
          "output_type": "execute_result",
          "data": {
            "text/plain": [
              "0     91000\n",
              "1     93000\n",
              "2     93000\n",
              "3     93000\n",
              "4     91000\n",
              "5     83000\n",
              "6     76000\n",
              "7     77000\n",
              "8     77000\n",
              "9     74000\n",
              "10    79000\n",
              "11    80000\n",
              "12    76000\n",
              "13    71000\n",
              "14    70000\n",
              "15    66000\n",
              "16    61000\n",
              "17    55000\n",
              "18    47000\n",
              "19    38000\n",
              "Name: M2, dtype: int64"
            ]
          },
          "metadata": {},
          "execution_count": 15
        }
      ]
    },
    {
      "cell_type": "markdown",
      "metadata": {
        "id": "I1VaKFX6vQlx"
      },
      "source": [
        "#Linear Regression Feature Importance"
      ]
    },
    {
      "cell_type": "code",
      "metadata": {
        "id": "Y-68QZaRusMF"
      },
      "source": [
        "from sklearn.linear_model import LinearRegression"
      ],
      "execution_count": null,
      "outputs": []
    },
    {
      "cell_type": "code",
      "metadata": {
        "id": "7dz77uaCuu_3"
      },
      "source": [
        "modelLreg = LinearRegression()"
      ],
      "execution_count": null,
      "outputs": []
    },
    {
      "cell_type": "code",
      "metadata": {
        "colab": {
          "base_uri": "https://localhost:8080/"
        },
        "id": "kFuHuz6luxJd",
        "outputId": "c70134c7-21ac-4e38-f970-502b0aafa7b4"
      },
      "source": [
        "modelLreg.fit(x, y)"
      ],
      "execution_count": null,
      "outputs": [
        {
          "output_type": "execute_result",
          "data": {
            "text/plain": [
              "LinearRegression(copy_X=True, fit_intercept=True, n_jobs=None, normalize=False)"
            ]
          },
          "metadata": {},
          "execution_count": 18
        }
      ]
    },
    {
      "cell_type": "code",
      "metadata": {
        "id": "knTHdw5juzJF"
      },
      "source": [
        "importance = modelLreg.coef_"
      ],
      "execution_count": null,
      "outputs": []
    },
    {
      "cell_type": "code",
      "metadata": {
        "colab": {
          "base_uri": "https://localhost:8080/"
        },
        "id": "4p081sppu1Db",
        "outputId": "001a083f-dc85-4894-c426-2ee20e01bb10"
      },
      "source": [
        "for i,v in enumerate(importance):\n",
        "\tprint('Feature: %0d, Score: %.5f' % (i,v))"
      ],
      "execution_count": null,
      "outputs": [
        {
          "output_type": "stream",
          "name": "stdout",
          "text": [
            "Feature: 0, Score: 2388.60017\n",
            "Feature: 1, Score: 0.03047\n",
            "Feature: 2, Score: -0.00001\n",
            "Feature: 3, Score: -0.05898\n",
            "Feature: 4, Score: 13.80219\n",
            "Feature: 5, Score: -23477.60713\n",
            "Feature: 6, Score: 0.02772\n",
            "Feature: 7, Score: 0.29329\n",
            "Feature: 8, Score: 0.11395\n",
            "Feature: 9, Score: 0.06673\n",
            "Feature: 10, Score: -0.35437\n",
            "Feature: 11, Score: 0.40951\n",
            "Feature: 12, Score: 0.25565\n",
            "Feature: 13, Score: 2.42010\n",
            "Feature: 14, Score: -3.63650\n",
            "Feature: 15, Score: -0.23735\n",
            "Feature: 16, Score: 0.05089\n",
            "Feature: 17, Score: 94.74634\n",
            "Feature: 18, Score: 0.03046\n",
            "Feature: 19, Score: -0.64131\n",
            "Feature: 20, Score: -534.35419\n"
          ]
        }
      ]
    },
    {
      "cell_type": "code",
      "metadata": {
        "colab": {
          "base_uri": "https://localhost:8080/",
          "height": 282
        },
        "id": "u0ihnQHSu9-e",
        "outputId": "d01b87ca-439e-423f-a437-b0ca1cf0f4d6"
      },
      "source": [
        "plt.bar([x for x in range(len(importance))], importance)"
      ],
      "execution_count": null,
      "outputs": [
        {
          "output_type": "execute_result",
          "data": {
            "text/plain": [
              "<BarContainer object of 21 artists>"
            ]
          },
          "metadata": {},
          "execution_count": 21
        },
        {
          "output_type": "display_data",
          "data": {
            "image/png": "[encoded data removed]",
            "text/plain": [
              "<Figure size 432x288 with 1 Axes>"
            ]
          },
          "metadata": {
            "needs_background": "light"
          }
        }
      ]
    },
    {
      "cell_type": "code",
      "metadata": {
        "colab": {
          "base_uri": "https://localhost:8080/",
          "height": 312
        },
        "id": "PjCHrJyzlYdH",
        "outputId": "c7f7b397-2918-49d2-a5e1-f29a5a01992a"
      },
      "source": [
        "df.plot(x=\"Year\", y=[\"M2\"], kind=\"bar\")"
      ],
      "execution_count": null,
      "outputs": [
        {
          "output_type": "execute_result",
          "data": {
            "text/plain": [
              "<matplotlib.axes._subplots.AxesSubplot at 0x7f94d7ad00d0>"
            ]
          },
          "metadata": {},
          "execution_count": 168
        },
        {
          "output_type": "display_data",
          "data": {
            "image/png": "[encoded data removed]",
            "text/plain": [
              "<Figure size 432x288 with 1 Axes>"
            ]
          },
          "metadata": {
            "needs_background": "light"
          }
        }
      ]
    },
    {
      "cell_type": "markdown",
      "metadata": {
        "id": "VeXzMCrbvaKP"
      },
      "source": [
        "#Logistic Regression Feature Importance"
      ]
    },
    {
      "cell_type": "code",
      "metadata": {
        "id": "yDP1Tiuuvd6Y"
      },
      "source": [
        "from sklearn.linear_model import LogisticRegression"
      ],
      "execution_count": null,
      "outputs": []
    },
    {
      "cell_type": "code",
      "metadata": {
        "id": "cDjaohGJvfxO"
      },
      "source": [
        "modelLoreg = LogisticRegression()"
      ],
      "execution_count": null,
      "outputs": []
    },
    {
      "cell_type": "code",
      "metadata": {
        "colab": {
          "base_uri": "https://localhost:8080/"
        },
        "id": "eTsvh_nVviM4",
        "outputId": "83de02bf-9cc0-492e-ac17-a5c17f94d7b0"
      },
      "source": [
        "modelLoreg.fit(x, y)"
      ],
      "execution_count": null,
      "outputs": [
        {
          "output_type": "stream",
          "name": "stderr",
          "text": [
            "/usr/local/lib/python3.7/dist-packages/sklearn/linear_model/_logistic.py:940: ConvergenceWarning: lbfgs failed to converge (status=1):\n",
            "STOP: TOTAL NO. of ITERATIONS REACHED LIMIT.\n",
            "\n",
            "Increase the number of iterations (max_iter) or scale the data as shown in:\n",
            "    https://scikit-learn.org/stable/modules/preprocessing.html\n",
            "Please also refer to the documentation for alternative solver options:\n",
            "    https://scikit-learn.org/stable/modules/linear_model.html#logistic-regression\n",
            "  extra_warning_msg=_LOGISTIC_SOLVER_CONVERGENCE_MSG)\n"
          ]
        },
        {
          "output_type": "execute_result",
          "data": {
            "text/plain": [
              "LogisticRegression(C=1.0, class_weight=None, dual=False, fit_intercept=True,\n",
              "                   intercept_scaling=1, l1_ratio=None, max_iter=100,\n",
              "                   multi_class='auto', n_jobs=None, penalty='l2',\n",
              "                   random_state=None, solver='lbfgs', tol=0.0001, verbose=0,\n",
              "                   warm_start=False)"
            ]
          },
          "metadata": {},
          "execution_count": 24
        }
      ]
    },
    {
      "cell_type": "code",
      "metadata": {
        "id": "q771bqMwvk_l"
      },
      "source": [
        "importance = modelLoreg.coef_[0]"
      ],
      "execution_count": null,
      "outputs": []
    },
    {
      "cell_type": "code",
      "metadata": {
        "colab": {
          "base_uri": "https://localhost:8080/"
        },
        "id": "A4SIPtNJvnIO",
        "outputId": "75c326f8-e84b-4223-b31f-74e11a79d4a0"
      },
      "source": [
        "for i,v in enumerate(importance):\n",
        "\tprint('Feature: %0d, Score: %.5f' % (i,v))"
      ],
      "execution_count": null,
      "outputs": [
        {
          "output_type": "stream",
          "name": "stdout",
          "text": [
            "Feature: 0, Score: -0.00028\n",
            "Feature: 1, Score: -0.02444\n",
            "Feature: 2, Score: -0.00003\n",
            "Feature: 3, Score: 0.02409\n",
            "Feature: 4, Score: 0.00005\n",
            "Feature: 5, Score: 0.00000\n",
            "Feature: 6, Score: 0.06310\n",
            "Feature: 7, Score: 0.02496\n",
            "Feature: 8, Score: -0.03577\n",
            "Feature: 9, Score: -0.01076\n",
            "Feature: 10, Score: 0.01357\n",
            "Feature: 11, Score: -0.00030\n",
            "Feature: 12, Score: 0.00282\n",
            "Feature: 13, Score: 0.00270\n",
            "Feature: 14, Score: 0.00103\n",
            "Feature: 15, Score: -0.00138\n",
            "Feature: 16, Score: -0.00105\n",
            "Feature: 17, Score: 0.00001\n",
            "Feature: 18, Score: -0.02444\n",
            "Feature: 19, Score: 0.05997\n",
            "Feature: 20, Score: -0.00003\n"
          ]
        }
      ]
    },
    {
      "cell_type": "code",
      "metadata": {
        "colab": {
          "base_uri": "https://localhost:8080/",
          "height": 282
        },
        "id": "7VpYrYIPvpaB",
        "outputId": "a6619b4a-9b59-4c60-8962-7f94a131597e"
      },
      "source": [
        "plt.bar([x for x in range(len(importance))], importance)"
      ],
      "execution_count": null,
      "outputs": [
        {
          "output_type": "execute_result",
          "data": {
            "text/plain": [
              "<BarContainer object of 21 artists>"
            ]
          },
          "metadata": {},
          "execution_count": 27
        },
        {
          "output_type": "display_data",
          "data": {
            "image/png": "[encoded data removed]",
            "text/plain": [
              "<Figure size 432x288 with 1 Axes>"
            ]
          },
          "metadata": {
            "needs_background": "light"
          }
        }
      ]
    },
    {
      "cell_type": "code",
      "metadata": {
        "colab": {
          "base_uri": "https://localhost:8080/",
          "height": 318
        },
        "id": "3cWN6ITtmVWe",
        "outputId": "b4e86752-5e1e-4fc4-88d6-4a7aedf94a88"
      },
      "source": [
        "df.plot(x=\"M2\", y=[\"T2\"], kind=\"bar\")"
      ],
      "execution_count": null,
      "outputs": [
        {
          "output_type": "execute_result",
          "data": {
            "text/plain": [
              "<matplotlib.axes._subplots.AxesSubplot at 0x7f94d7a2b210>"
            ]
          },
          "metadata": {},
          "execution_count": 171
        },
        {
          "output_type": "display_data",
          "data": {
            "image/png": "[encoded data removed]",
            "text/plain": [
              "<Figure size 432x288 with 1 Axes>"
            ]
          },
          "metadata": {
            "needs_background": "light"
          }
        }
      ]
    },
    {
      "cell_type": "code",
      "metadata": {
        "colab": {
          "base_uri": "https://localhost:8080/",
          "height": 312
        },
        "id": "ffYKQROUo4D4",
        "outputId": "fe1167b5-7374-405f-b934-74c12ae0186f"
      },
      "source": [
        "plt.scatter(df['M2'],df['T2'],df['Year'],marker='.',color='red')\n",
        "plt.xlabel('Death')\n",
        "plt.ylabel('HSC_p')\n",
        "plt.title('Result Prediction')"
      ],
      "execution_count": null,
      "outputs": [
        {
          "output_type": "execute_result",
          "data": {
            "text/plain": [
              "Text(0.5, 1.0, 'Result Prediction')"
            ]
          },
          "metadata": {},
          "execution_count": 178
        },
        {
          "output_type": "display_data",
          "data": {
            "image/png": "[encoded data removed]",
            "text/plain": [
              "<Figure size 432x288 with 1 Axes>"
            ]
          },
          "metadata": {
            "needs_background": "light"
          }
        }
      ]
    },
    {
      "cell_type": "code",
      "metadata": {
        "colab": {
          "base_uri": "https://localhost:8080/",
          "height": 318
        },
        "id": "aGhFQjEultNE",
        "outputId": "b3a3f2e9-e7bf-4e9f-923e-3fc69b8de787"
      },
      "source": [
        "df.plot(x=\"M2\", y=[\"I5\"], kind=\"bar\")"
      ],
      "execution_count": null,
      "outputs": [
        {
          "output_type": "execute_result",
          "data": {
            "text/plain": [
              "<matplotlib.axes._subplots.AxesSubplot at 0x7f94d7926c10>"
            ]
          },
          "metadata": {},
          "execution_count": 170
        },
        {
          "output_type": "display_data",
          "data": {
            "image/png": "[encoded data removed]",
            "text/plain": [
              "<Figure size 432x288 with 1 Axes>"
            ]
          },
          "metadata": {
            "needs_background": "light"
          }
        }
      ]
    },
    {
      "cell_type": "code",
      "metadata": {
        "colab": {
          "base_uri": "https://localhost:8080/",
          "height": 313
        },
        "id": "_AasKO93ooKe",
        "outputId": "21d8eba8-6692-4c17-e026-a5eb39d523f8"
      },
      "source": [
        "plt.scatter(df['M2'],df['I5'],marker='*',color='red')\n",
        "plt.xlabel('Death')\n",
        "plt.ylabel('HSC_p')\n",
        "plt.title('Result Prediction')"
      ],
      "execution_count": null,
      "outputs": [
        {
          "output_type": "execute_result",
          "data": {
            "text/plain": [
              "Text(0.5, 1.0, 'Result Prediction')"
            ]
          },
          "metadata": {},
          "execution_count": 172
        },
        {
          "output_type": "display_data",
          "data": {
            "image/png": "[encoded data removed]",
            "text/plain": [
              "<Figure size 432x288 with 1 Axes>"
            ]
          },
          "metadata": {
            "needs_background": "light"
          }
        }
      ]
    },
    {
      "cell_type": "markdown",
      "metadata": {
        "id": "NCZ9aPnb85NJ"
      },
      "source": [
        "#Support Vector Machine Feature Importance\n",
        "#coef_ is only available when using a linear kernel"
      ]
    },
    {
      "cell_type": "code",
      "metadata": {
        "id": "5GbfCRAT88cV"
      },
      "source": [
        "from sklearn import svm"
      ],
      "execution_count": null,
      "outputs": []
    },
    {
      "cell_type": "code",
      "metadata": {
        "id": "vaOSQBKG-gVV"
      },
      "source": [
        "from sklearn.svm import SVR"
      ],
      "execution_count": null,
      "outputs": []
    },
    {
      "cell_type": "code",
      "metadata": {
        "id": "y5PVBbNT-j6a"
      },
      "source": [
        "modelSVR = SVR()"
      ],
      "execution_count": null,
      "outputs": []
    },
    {
      "cell_type": "code",
      "metadata": {
        "colab": {
          "base_uri": "https://localhost:8080/"
        },
        "id": "9jYxLns9-y33",
        "outputId": "16f45f0c-a118-41ef-b742-7bd61a97ef01"
      },
      "source": [
        "modelSVR.fit(x, y)"
      ],
      "execution_count": null,
      "outputs": [
        {
          "output_type": "execute_result",
          "data": {
            "text/plain": [
              "SVR(C=1.0, cache_size=200, coef0=0.0, degree=3, epsilon=0.1, gamma='scale',\n",
              "    kernel='rbf', max_iter=-1, shrinking=True, tol=0.001, verbose=False)"
            ]
          },
          "metadata": {},
          "execution_count": 44
        }
      ]
    },
    {
      "cell_type": "code",
      "metadata": {
        "colab": {
          "base_uri": "https://localhost:8080/",
          "height": 287
        },
        "id": "5O_4oKst-3kr",
        "outputId": "130bf703-46f1-4391-9d57-c0ab1160afe6"
      },
      "source": [
        "importance = modelSVR.coef_[0]"
      ],
      "execution_count": null,
      "outputs": [
        {
          "output_type": "error",
          "ename": "AttributeError",
          "evalue": "ignored",
          "traceback": [
            "\u001b[0;31m---------------------------------------------------------------------------\u001b[0m",
            "\u001b[0;31mAttributeError\u001b[0m                            Traceback (most recent call last)",
            "\u001b[0;32m<ipython-input-48-5d657a931688>\u001b[0m in \u001b[0;36m<module>\u001b[0;34m()\u001b[0m\n\u001b[0;32m----> 1\u001b[0;31m \u001b[0mimportance\u001b[0m \u001b[0;34m=\u001b[0m \u001b[0mmodelSVR\u001b[0m\u001b[0;34m.\u001b[0m\u001b[0mcoef_\u001b[0m\u001b[0;34m[\u001b[0m\u001b[0;36m0\u001b[0m\u001b[0;34m]\u001b[0m\u001b[0;34m\u001b[0m\u001b[0;34m\u001b[0m\u001b[0m\n\u001b[0m",
            "\u001b[0;32m/usr/local/lib/python3.7/dist-packages/sklearn/svm/_base.py\u001b[0m in \u001b[0;36mcoef_\u001b[0;34m(self)\u001b[0m\n\u001b[1;32m    471\u001b[0m     \u001b[0;32mdef\u001b[0m \u001b[0mcoef_\u001b[0m\u001b[0;34m(\u001b[0m\u001b[0mself\u001b[0m\u001b[0;34m)\u001b[0m\u001b[0;34m:\u001b[0m\u001b[0;34m\u001b[0m\u001b[0;34m\u001b[0m\u001b[0m\n\u001b[1;32m    472\u001b[0m         \u001b[0;32mif\u001b[0m \u001b[0mself\u001b[0m\u001b[0;34m.\u001b[0m\u001b[0mkernel\u001b[0m \u001b[0;34m!=\u001b[0m \u001b[0;34m'linear'\u001b[0m\u001b[0;34m:\u001b[0m\u001b[0;34m\u001b[0m\u001b[0;34m\u001b[0m\u001b[0m\n\u001b[0;32m--> 473\u001b[0;31m             raise AttributeError('coef_ is only available when using a '\n\u001b[0m\u001b[1;32m    474\u001b[0m                                  'linear kernel')\n\u001b[1;32m    475\u001b[0m \u001b[0;34m\u001b[0m\u001b[0m\n",
            "\u001b[0;31mAttributeError\u001b[0m: coef_ is only available when using a linear kernel"
          ]
        }
      ]
    },
    {
      "cell_type": "code",
      "metadata": {
        "id": "Z41uAFrsAG5q"
      },
      "source": [
        "from sklearn.svm import SVC"
      ],
      "execution_count": null,
      "outputs": []
    },
    {
      "cell_type": "code",
      "metadata": {
        "id": "unkPeDhmAfbt"
      },
      "source": [
        "modelSVC = SVC()"
      ],
      "execution_count": null,
      "outputs": []
    },
    {
      "cell_type": "code",
      "metadata": {
        "colab": {
          "base_uri": "https://localhost:8080/"
        },
        "id": "t4o__Fj6Ak_a",
        "outputId": "96404345-794f-4ca6-868e-9d19fa6dfc43"
      },
      "source": [
        "modelSVC.fit(x, y)"
      ],
      "execution_count": null,
      "outputs": [
        {
          "output_type": "execute_result",
          "data": {
            "text/plain": [
              "SVC(C=1.0, break_ties=False, cache_size=200, class_weight=None, coef0=0.0,\n",
              "    decision_function_shape='ovr', degree=3, gamma='scale', kernel='rbf',\n",
              "    max_iter=-1, probability=False, random_state=None, shrinking=True,\n",
              "    tol=0.001, verbose=False)"
            ]
          },
          "metadata": {},
          "execution_count": 51
        }
      ]
    },
    {
      "cell_type": "code",
      "metadata": {
        "colab": {
          "base_uri": "https://localhost:8080/",
          "height": 287
        },
        "id": "kGFNL97vAqJo",
        "outputId": "d2389f96-b2b4-4da8-e010-f316f8f78071"
      },
      "source": [
        "importance = modelSVC.coef_[0]"
      ],
      "execution_count": null,
      "outputs": [
        {
          "output_type": "error",
          "ename": "AttributeError",
          "evalue": "ignored",
          "traceback": [
            "\u001b[0;31m---------------------------------------------------------------------------\u001b[0m",
            "\u001b[0;31mAttributeError\u001b[0m                            Traceback (most recent call last)",
            "\u001b[0;32m<ipython-input-52-96e2d020071b>\u001b[0m in \u001b[0;36m<module>\u001b[0;34m()\u001b[0m\n\u001b[0;32m----> 1\u001b[0;31m \u001b[0mimportance\u001b[0m \u001b[0;34m=\u001b[0m \u001b[0mmodelSVC\u001b[0m\u001b[0;34m.\u001b[0m\u001b[0mcoef_\u001b[0m\u001b[0;34m[\u001b[0m\u001b[0;36m0\u001b[0m\u001b[0;34m]\u001b[0m\u001b[0;34m\u001b[0m\u001b[0;34m\u001b[0m\u001b[0m\n\u001b[0m",
            "\u001b[0;32m/usr/local/lib/python3.7/dist-packages/sklearn/svm/_base.py\u001b[0m in \u001b[0;36mcoef_\u001b[0;34m(self)\u001b[0m\n\u001b[1;32m    471\u001b[0m     \u001b[0;32mdef\u001b[0m \u001b[0mcoef_\u001b[0m\u001b[0;34m(\u001b[0m\u001b[0mself\u001b[0m\u001b[0;34m)\u001b[0m\u001b[0;34m:\u001b[0m\u001b[0;34m\u001b[0m\u001b[0;34m\u001b[0m\u001b[0m\n\u001b[1;32m    472\u001b[0m         \u001b[0;32mif\u001b[0m \u001b[0mself\u001b[0m\u001b[0;34m.\u001b[0m\u001b[0mkernel\u001b[0m \u001b[0;34m!=\u001b[0m \u001b[0;34m'linear'\u001b[0m\u001b[0;34m:\u001b[0m\u001b[0;34m\u001b[0m\u001b[0;34m\u001b[0m\u001b[0m\n\u001b[0;32m--> 473\u001b[0;31m             raise AttributeError('coef_ is only available when using a '\n\u001b[0m\u001b[1;32m    474\u001b[0m                                  'linear kernel')\n\u001b[1;32m    475\u001b[0m \u001b[0;34m\u001b[0m\u001b[0m\n",
            "\u001b[0;31mAttributeError\u001b[0m: coef_ is only available when using a linear kernel"
          ]
        }
      ]
    },
    {
      "cell_type": "code",
      "metadata": {
        "colab": {
          "base_uri": "https://localhost:8080/"
        },
        "id": "B2K_BGE_-6NI",
        "outputId": "63521e02-de2a-4ec2-af74-87976d385551"
      },
      "source": [
        "for i,v in enumerate(importance):\n",
        "\tprint('Feature: %0d, Score: %.5f' % (i,v))"
      ],
      "execution_count": null,
      "outputs": [
        {
          "output_type": "stream",
          "name": "stdout",
          "text": [
            "Feature: 0, Score: -0.00028\n",
            "Feature: 1, Score: -0.02444\n",
            "Feature: 2, Score: -0.00003\n",
            "Feature: 3, Score: 0.02409\n",
            "Feature: 4, Score: 0.00005\n",
            "Feature: 5, Score: 0.00000\n",
            "Feature: 6, Score: 0.06310\n",
            "Feature: 7, Score: 0.02496\n",
            "Feature: 8, Score: -0.03577\n",
            "Feature: 9, Score: -0.01076\n",
            "Feature: 10, Score: 0.01357\n",
            "Feature: 11, Score: -0.00030\n",
            "Feature: 12, Score: 0.00282\n",
            "Feature: 13, Score: 0.00270\n",
            "Feature: 14, Score: 0.00103\n",
            "Feature: 15, Score: -0.00138\n",
            "Feature: 16, Score: -0.00105\n",
            "Feature: 17, Score: 0.00001\n",
            "Feature: 18, Score: -0.02444\n",
            "Feature: 19, Score: 0.05997\n",
            "Feature: 20, Score: -0.00003\n"
          ]
        }
      ]
    },
    {
      "cell_type": "code",
      "metadata": {
        "id": "C6Do-cya-95o"
      },
      "source": [
        "plt.bar([x for x in range(len(importance))], importance)"
      ],
      "execution_count": null,
      "outputs": []
    },
    {
      "cell_type": "markdown",
      "metadata": {
        "id": "PC3zUMJTwZVW"
      },
      "source": [
        "#Decision Tree Feature Importance"
      ]
    },
    {
      "cell_type": "code",
      "metadata": {
        "id": "ZBdKLUaBwaeF"
      },
      "source": [
        "from sklearn.tree import DecisionTreeRegressor"
      ],
      "execution_count": null,
      "outputs": []
    },
    {
      "cell_type": "code",
      "metadata": {
        "id": "O9ym2Sj6weDq"
      },
      "source": [
        "modelClf = DecisionTreeRegressor()"
      ],
      "execution_count": null,
      "outputs": []
    },
    {
      "cell_type": "code",
      "metadata": {
        "colab": {
          "base_uri": "https://localhost:8080/"
        },
        "id": "rdXN2NitwfBF",
        "outputId": "f3eff6a6-a72e-4da7-aa6d-6753b1fb81f3"
      },
      "source": [
        "modelClf.fit(x, y)"
      ],
      "execution_count": null,
      "outputs": [
        {
          "output_type": "execute_result",
          "data": {
            "text/plain": [
              "DecisionTreeRegressor(ccp_alpha=0.0, criterion='mse', max_depth=None,\n",
              "                      max_features=None, max_leaf_nodes=None,\n",
              "                      min_impurity_decrease=0.0, min_impurity_split=None,\n",
              "                      min_samples_leaf=1, min_samples_split=2,\n",
              "                      min_weight_fraction_leaf=0.0, presort='deprecated',\n",
              "                      random_state=None, splitter='best')"
            ]
          },
          "metadata": {},
          "execution_count": 30
        }
      ]
    },
    {
      "cell_type": "code",
      "metadata": {
        "id": "uZG5v5eFwhM_"
      },
      "source": [
        "importance = modelClf.feature_importances_"
      ],
      "execution_count": null,
      "outputs": []
    },
    {
      "cell_type": "code",
      "metadata": {
        "colab": {
          "base_uri": "https://localhost:8080/"
        },
        "id": "ZrKVpVGjwjy5",
        "outputId": "80224ee3-eb9f-4fe0-df7f-9936333a9b2f"
      },
      "source": [
        "for i,v in enumerate(importance):\n",
        "\tprint('Feature: %0d, Score: %.5f' % (i,v))"
      ],
      "execution_count": null,
      "outputs": [
        {
          "output_type": "stream",
          "name": "stdout",
          "text": [
            "Feature: 0, Score: 0.00340\n",
            "Feature: 1, Score: 0.28638\n",
            "Feature: 2, Score: 0.00000\n",
            "Feature: 3, Score: 0.00000\n",
            "Feature: 4, Score: 0.00000\n",
            "Feature: 5, Score: 0.00000\n",
            "Feature: 6, Score: 0.00000\n",
            "Feature: 7, Score: 0.66760\n",
            "Feature: 8, Score: 0.01000\n",
            "Feature: 9, Score: 0.00228\n",
            "Feature: 10, Score: 0.01078\n",
            "Feature: 11, Score: 0.00000\n",
            "Feature: 12, Score: 0.01883\n",
            "Feature: 13, Score: 0.00000\n",
            "Feature: 14, Score: 0.00000\n",
            "Feature: 15, Score: 0.00000\n",
            "Feature: 16, Score: 0.00048\n",
            "Feature: 17, Score: 0.00015\n",
            "Feature: 18, Score: 0.00011\n",
            "Feature: 19, Score: 0.00000\n",
            "Feature: 20, Score: 0.00000\n"
          ]
        }
      ]
    },
    {
      "cell_type": "code",
      "metadata": {
        "colab": {
          "base_uri": "https://localhost:8080/",
          "height": 286
        },
        "id": "G9du3tM7wmKd",
        "outputId": "9bd7cf31-a413-4322-b2d6-53d57b0dfd99"
      },
      "source": [
        "plt.bar([x for x in range(len(importance))], importance)"
      ],
      "execution_count": null,
      "outputs": [
        {
          "output_type": "execute_result",
          "data": {
            "text/plain": [
              "<BarContainer object of 21 artists>"
            ]
          },
          "metadata": {},
          "execution_count": 33
        },
        {
          "output_type": "display_data",
          "data": {
            "image/png": "[encoded data removed]",
            "text/plain": [
              "<Figure size 432x288 with 1 Axes>"
            ]
          },
          "metadata": {
            "needs_background": "light"
          }
        }
      ]
    },
    {
      "cell_type": "code",
      "metadata": {
        "id": "ryeBo27zwraP"
      },
      "source": [
        "from sklearn.tree import DecisionTreeClassifier"
      ],
      "execution_count": null,
      "outputs": []
    },
    {
      "cell_type": "code",
      "metadata": {
        "id": "BVUJs3Sgwsbm"
      },
      "source": [
        "modelClfl = DecisionTreeClassifier()"
      ],
      "execution_count": null,
      "outputs": []
    },
    {
      "cell_type": "code",
      "metadata": {
        "colab": {
          "base_uri": "https://localhost:8080/"
        },
        "id": "6J76F7qhwuYO",
        "outputId": "a55694cc-03c1-4587-873f-9324f5fc8910"
      },
      "source": [
        "modelClfl.fit(x, y)"
      ],
      "execution_count": null,
      "outputs": [
        {
          "output_type": "execute_result",
          "data": {
            "text/plain": [
              "DecisionTreeClassifier(ccp_alpha=0.0, class_weight=None, criterion='gini',\n",
              "                       max_depth=None, max_features=None, max_leaf_nodes=None,\n",
              "                       min_impurity_decrease=0.0, min_impurity_split=None,\n",
              "                       min_samples_leaf=1, min_samples_split=2,\n",
              "                       min_weight_fraction_leaf=0.0, presort='deprecated',\n",
              "                       random_state=None, splitter='best')"
            ]
          },
          "metadata": {},
          "execution_count": 36
        }
      ]
    },
    {
      "cell_type": "code",
      "metadata": {
        "id": "PXXsIfohwwon"
      },
      "source": [
        "importance = modelClfl.feature_importances_"
      ],
      "execution_count": null,
      "outputs": []
    },
    {
      "cell_type": "code",
      "metadata": {
        "colab": {
          "base_uri": "https://localhost:8080/"
        },
        "id": "JV7xPYOVwygd",
        "outputId": "87959621-e34b-4aa5-db9a-f02e7cd1fcf3"
      },
      "source": [
        "for i,v in enumerate(importance):\n",
        "\tprint('Feature: %0d, Score: %.5f' % (i,v))"
      ],
      "execution_count": null,
      "outputs": [
        {
          "output_type": "stream",
          "name": "stdout",
          "text": [
            "Feature: 0, Score: 0.00000\n",
            "Feature: 1, Score: 0.05435\n",
            "Feature: 2, Score: 0.00000\n",
            "Feature: 3, Score: 0.00000\n",
            "Feature: 4, Score: 0.00000\n",
            "Feature: 5, Score: 0.00000\n",
            "Feature: 6, Score: 0.10870\n",
            "Feature: 7, Score: 0.05435\n",
            "Feature: 8, Score: 0.07246\n",
            "Feature: 9, Score: 0.08514\n",
            "Feature: 10, Score: 0.14493\n",
            "Feature: 11, Score: 0.00000\n",
            "Feature: 12, Score: 0.00000\n",
            "Feature: 13, Score: 0.00000\n",
            "Feature: 14, Score: 0.00000\n",
            "Feature: 15, Score: 0.08152\n",
            "Feature: 16, Score: 0.16667\n",
            "Feature: 17, Score: 0.12319\n",
            "Feature: 18, Score: 0.05435\n",
            "Feature: 19, Score: 0.00000\n",
            "Feature: 20, Score: 0.05435\n"
          ]
        }
      ]
    },
    {
      "cell_type": "code",
      "metadata": {
        "colab": {
          "base_uri": "https://localhost:8080/",
          "height": 282
        },
        "id": "VEzXqmjPw14-",
        "outputId": "ba877c24-95f9-4ee8-e3cd-f1c7e16d166e"
      },
      "source": [
        "plt.bar([x for x in range(len(importance))], importance)"
      ],
      "execution_count": null,
      "outputs": [
        {
          "output_type": "execute_result",
          "data": {
            "text/plain": [
              "<BarContainer object of 21 artists>"
            ]
          },
          "metadata": {},
          "execution_count": 39
        },
        {
          "output_type": "display_data",
          "data": {
            "image/png": "[encoded data removed]",
            "text/plain": [
              "<Figure size 432x288 with 1 Axes>"
            ]
          },
          "metadata": {
            "needs_background": "light"
          }
        }
      ]
    },
    {
      "cell_type": "markdown",
      "metadata": {
        "id": "mnJ3TfYDw6vn"
      },
      "source": [
        "#Random Forest Feature Importance"
      ]
    },
    {
      "cell_type": "code",
      "metadata": {
        "id": "HZgPKMpxw76F"
      },
      "source": [
        "from sklearn.ensemble import RandomForestRegressor"
      ],
      "execution_count": null,
      "outputs": []
    },
    {
      "cell_type": "code",
      "metadata": {
        "id": "I6PTzwhGxAak"
      },
      "source": [
        "modelRfr = RandomForestRegressor()"
      ],
      "execution_count": null,
      "outputs": []
    },
    {
      "cell_type": "code",
      "metadata": {
        "colab": {
          "base_uri": "https://localhost:8080/"
        },
        "id": "oq7rBSLOxBRi",
        "outputId": "519a1322-5736-4640-da2c-5ae5b076ef2f"
      },
      "source": [
        "modelRfr.fit(x, y)"
      ],
      "execution_count": null,
      "outputs": [
        {
          "output_type": "execute_result",
          "data": {
            "text/plain": [
              "RandomForestRegressor(bootstrap=True, ccp_alpha=0.0, criterion='mse',\n",
              "                      max_depth=None, max_features='auto', max_leaf_nodes=None,\n",
              "                      max_samples=None, min_impurity_decrease=0.0,\n",
              "                      min_impurity_split=None, min_samples_leaf=1,\n",
              "                      min_samples_split=2, min_weight_fraction_leaf=0.0,\n",
              "                      n_estimators=100, n_jobs=None, oob_score=False,\n",
              "                      random_state=None, verbose=0, warm_start=False)"
            ]
          },
          "metadata": {},
          "execution_count": 42
        }
      ]
    },
    {
      "cell_type": "code",
      "metadata": {
        "id": "iqcZ_5tGxDSh"
      },
      "source": [
        "importance = modelRfr.feature_importances_"
      ],
      "execution_count": null,
      "outputs": []
    },
    {
      "cell_type": "code",
      "metadata": {
        "colab": {
          "base_uri": "https://localhost:8080/"
        },
        "id": "K78OHytFxFYF",
        "outputId": "cf14cab0-179c-4782-d285-a1daa947f862"
      },
      "source": [
        "for i,v in enumerate(importance):\n",
        "\tprint('Feature: %0d, Score: %.5f' % (i,v))"
      ],
      "execution_count": null,
      "outputs": [
        {
          "output_type": "stream",
          "name": "stdout",
          "text": [
            "Feature: 0, Score: 0.05458\n",
            "Feature: 1, Score: 0.04170\n",
            "Feature: 2, Score: 0.00000\n",
            "Feature: 3, Score: 0.00345\n",
            "Feature: 4, Score: 0.03192\n",
            "Feature: 5, Score: 0.03723\n",
            "Feature: 6, Score: 0.05395\n",
            "Feature: 7, Score: 0.04771\n",
            "Feature: 8, Score: 0.02219\n",
            "Feature: 9, Score: 0.02521\n",
            "Feature: 10, Score: 0.10551\n",
            "Feature: 11, Score: 0.00006\n",
            "Feature: 12, Score: 0.07348\n",
            "Feature: 13, Score: 0.05864\n",
            "Feature: 14, Score: 0.10253\n",
            "Feature: 15, Score: 0.02983\n",
            "Feature: 16, Score: 0.00651\n",
            "Feature: 17, Score: 0.07319\n",
            "Feature: 18, Score: 0.06922\n",
            "Feature: 19, Score: 0.09795\n",
            "Feature: 20, Score: 0.06514\n"
          ]
        }
      ]
    },
    {
      "cell_type": "code",
      "metadata": {
        "colab": {
          "base_uri": "https://localhost:8080/",
          "height": 282
        },
        "id": "Bnkg3xpbxJa_",
        "outputId": "32d26b7c-29f5-44df-ef04-0343853b487b"
      },
      "source": [
        "plt.bar([x for x in range(len(importance))], importance)"
      ],
      "execution_count": null,
      "outputs": [
        {
          "output_type": "execute_result",
          "data": {
            "text/plain": [
              "<BarContainer object of 21 artists>"
            ]
          },
          "metadata": {},
          "execution_count": 45
        },
        {
          "output_type": "display_data",
          "data": {
            "image/png": "[encoded data removed]",
            "text/plain": [
              "<Figure size 432x288 with 1 Axes>"
            ]
          },
          "metadata": {
            "needs_background": "light"
          }
        }
      ]
    },
    {
      "cell_type": "code",
      "metadata": {
        "id": "p4vv2NGtxP1V"
      },
      "source": [
        "from sklearn.ensemble import RandomForestClassifier"
      ],
      "execution_count": null,
      "outputs": []
    },
    {
      "cell_type": "code",
      "metadata": {
        "id": "sN15PbRpxQp0"
      },
      "source": [
        "modelRfc = RandomForestClassifier()"
      ],
      "execution_count": null,
      "outputs": []
    },
    {
      "cell_type": "code",
      "metadata": {
        "colab": {
          "base_uri": "https://localhost:8080/"
        },
        "id": "Yl3CI0E2xShH",
        "outputId": "2515ffca-19a0-4eaf-dbe3-79c4abef3a02"
      },
      "source": [
        "modelRfc.fit(x, y)"
      ],
      "execution_count": null,
      "outputs": [
        {
          "output_type": "execute_result",
          "data": {
            "text/plain": [
              "RandomForestClassifier(bootstrap=True, ccp_alpha=0.0, class_weight=None,\n",
              "                       criterion='gini', max_depth=None, max_features='auto',\n",
              "                       max_leaf_nodes=None, max_samples=None,\n",
              "                       min_impurity_decrease=0.0, min_impurity_split=None,\n",
              "                       min_samples_leaf=1, min_samples_split=2,\n",
              "                       min_weight_fraction_leaf=0.0, n_estimators=100,\n",
              "                       n_jobs=None, oob_score=False, random_state=None,\n",
              "                       verbose=0, warm_start=False)"
            ]
          },
          "metadata": {},
          "execution_count": 48
        }
      ]
    },
    {
      "cell_type": "code",
      "metadata": {
        "id": "_ReSfm1jxUdl"
      },
      "source": [
        "importance = modelRfc.feature_importances_"
      ],
      "execution_count": null,
      "outputs": []
    },
    {
      "cell_type": "code",
      "metadata": {
        "colab": {
          "base_uri": "https://localhost:8080/"
        },
        "id": "EGwPjeCQxWxm",
        "outputId": "690eb6cb-9809-485f-ca4d-237a8da2d1ff"
      },
      "source": [
        "for i,v in enumerate(importance):\n",
        "\tprint('Feature: %0d, Score: %.5f' % (i,v))"
      ],
      "execution_count": null,
      "outputs": [
        {
          "output_type": "stream",
          "name": "stdout",
          "text": [
            "Feature: 0, Score: 0.06749\n",
            "Feature: 1, Score: 0.07260\n",
            "Feature: 2, Score: 0.00000\n",
            "Feature: 3, Score: 0.00379\n",
            "Feature: 4, Score: 0.07059\n",
            "Feature: 5, Score: 0.05255\n",
            "Feature: 6, Score: 0.02785\n",
            "Feature: 7, Score: 0.02482\n",
            "Feature: 8, Score: 0.04190\n",
            "Feature: 9, Score: 0.05786\n",
            "Feature: 10, Score: 0.08063\n",
            "Feature: 11, Score: 0.01827\n",
            "Feature: 12, Score: 0.03376\n",
            "Feature: 13, Score: 0.01922\n",
            "Feature: 14, Score: 0.02025\n",
            "Feature: 15, Score: 0.04638\n",
            "Feature: 16, Score: 0.05228\n",
            "Feature: 17, Score: 0.07061\n",
            "Feature: 18, Score: 0.08693\n",
            "Feature: 19, Score: 0.08780\n",
            "Feature: 20, Score: 0.06442\n"
          ]
        }
      ]
    },
    {
      "cell_type": "code",
      "metadata": {
        "colab": {
          "base_uri": "https://localhost:8080/",
          "height": 282
        },
        "id": "HXYD9CGQxYw2",
        "outputId": "dc179003-d305-46a1-cc23-27654f9483f0"
      },
      "source": [
        "plt.bar([x for x in range(len(importance))], importance)"
      ],
      "execution_count": null,
      "outputs": [
        {
          "output_type": "execute_result",
          "data": {
            "text/plain": [
              "<BarContainer object of 21 artists>"
            ]
          },
          "metadata": {},
          "execution_count": 51
        },
        {
          "output_type": "display_data",
          "data": {
            "image/png": "[encoded data removed]",
            "text/plain": [
              "<Figure size 432x288 with 1 Axes>"
            ]
          },
          "metadata": {
            "needs_background": "light"
          }
        }
      ]
    },
    {
      "cell_type": "markdown",
      "metadata": {
        "id": "eHm4lr2bxnid"
      },
      "source": [
        "#XGBoost Feature Importance"
      ]
    },
    {
      "cell_type": "code",
      "metadata": {
        "colab": {
          "base_uri": "https://localhost:8080/"
        },
        "id": "i_hZjdhHxm3h",
        "outputId": "cb6b9f40-16a4-4514-9283-9ef08b891db3"
      },
      "source": [
        "!sudo pip install xgboost"
      ],
      "execution_count": null,
      "outputs": [
        {
          "output_type": "stream",
          "name": "stdout",
          "text": [
            "Requirement already satisfied: xgboost in /usr/local/lib/python3.7/dist-packages (0.90)\n",
            "Requirement already satisfied: numpy in /usr/local/lib/python3.7/dist-packages (from xgboost) (1.19.5)\n",
            "Requirement already satisfied: scipy in /usr/local/lib/python3.7/dist-packages (from xgboost) (1.4.1)\n"
          ]
        }
      ]
    },
    {
      "cell_type": "code",
      "metadata": {
        "id": "nxUaEBEqxrgF"
      },
      "source": [
        "import xgboost"
      ],
      "execution_count": null,
      "outputs": []
    },
    {
      "cell_type": "code",
      "metadata": {
        "colab": {
          "base_uri": "https://localhost:8080/"
        },
        "id": "wbuzWh4kxvB1",
        "outputId": "6c8183b9-a050-4407-9b30-261ed362a124"
      },
      "source": [
        "print(xgboost.__version__)"
      ],
      "execution_count": null,
      "outputs": [
        {
          "output_type": "stream",
          "name": "stdout",
          "text": [
            "0.90\n"
          ]
        }
      ]
    },
    {
      "cell_type": "code",
      "metadata": {
        "id": "BxPacLmQyA1j"
      },
      "source": [
        "from xgboost import XGBRegressor"
      ],
      "execution_count": null,
      "outputs": []
    },
    {
      "cell_type": "code",
      "metadata": {
        "id": "wpycI5WjyE9W"
      },
      "source": [
        "modelXgbr = XGBRegressor()"
      ],
      "execution_count": null,
      "outputs": []
    },
    {
      "cell_type": "code",
      "metadata": {
        "colab": {
          "base_uri": "https://localhost:8080/"
        },
        "id": "NXbUCxeXyGHG",
        "outputId": "a3e0f447-1956-4159-f316-a81e4bdf23a3"
      },
      "source": [
        "modelXgbr.fit(x, y)"
      ],
      "execution_count": null,
      "outputs": [
        {
          "output_type": "stream",
          "name": "stdout",
          "text": [
            "[17:01:15] WARNING: /workspace/src/objective/regression_obj.cu:152: reg:linear is now deprecated in favor of reg:squarederror.\n"
          ]
        },
        {
          "output_type": "execute_result",
          "data": {
            "text/plain": [
              "XGBRegressor(base_score=0.5, booster='gbtree', colsample_bylevel=1,\n",
              "             colsample_bynode=1, colsample_bytree=1, gamma=0,\n",
              "             importance_type='gain', learning_rate=0.1, max_delta_step=0,\n",
              "             max_depth=3, min_child_weight=1, missing=None, n_estimators=100,\n",
              "             n_jobs=1, nthread=None, objective='reg:linear', random_state=0,\n",
              "             reg_alpha=0, reg_lambda=1, scale_pos_weight=1, seed=None,\n",
              "             silent=None, subsample=1, verbosity=1)"
            ]
          },
          "metadata": {},
          "execution_count": 57
        }
      ]
    },
    {
      "cell_type": "code",
      "metadata": {
        "id": "QbMs_FHPyH8R"
      },
      "source": [
        "importance = modelXgbr.feature_importances_"
      ],
      "execution_count": null,
      "outputs": []
    },
    {
      "cell_type": "code",
      "metadata": {
        "colab": {
          "base_uri": "https://localhost:8080/"
        },
        "id": "7P_6MWlmyKAl",
        "outputId": "ed135c3e-393f-45a0-97bd-0b8a9d883b43"
      },
      "source": [
        "for i,v in enumerate(importance):\n",
        "\tprint('Feature: %0d, Score: %.5f' % (i,v))"
      ],
      "execution_count": null,
      "outputs": [
        {
          "output_type": "stream",
          "name": "stdout",
          "text": [
            "Feature: 0, Score: 0.43900\n",
            "Feature: 1, Score: 0.00000\n",
            "Feature: 2, Score: 0.00000\n",
            "Feature: 3, Score: 0.00000\n",
            "Feature: 4, Score: 0.00007\n",
            "Feature: 5, Score: 0.00004\n",
            "Feature: 6, Score: 0.00000\n",
            "Feature: 7, Score: 0.00000\n",
            "Feature: 8, Score: 0.00639\n",
            "Feature: 9, Score: 0.00498\n",
            "Feature: 10, Score: 0.00000\n",
            "Feature: 11, Score: 0.00247\n",
            "Feature: 12, Score: 0.00000\n",
            "Feature: 13, Score: 0.00000\n",
            "Feature: 14, Score: 0.00000\n",
            "Feature: 15, Score: 0.01817\n",
            "Feature: 16, Score: 0.00173\n",
            "Feature: 17, Score: 0.52144\n",
            "Feature: 18, Score: 0.00000\n",
            "Feature: 19, Score: 0.00000\n",
            "Feature: 20, Score: 0.00571\n"
          ]
        }
      ]
    },
    {
      "cell_type": "code",
      "metadata": {
        "colab": {
          "base_uri": "https://localhost:8080/",
          "height": 282
        },
        "id": "3TkH85RAyMMg",
        "outputId": "5638ff8b-09ca-412b-a746-bbaf6d856ebe"
      },
      "source": [
        "plt.bar([x for x in range(len(importance))], importance)"
      ],
      "execution_count": null,
      "outputs": [
        {
          "output_type": "execute_result",
          "data": {
            "text/plain": [
              "<BarContainer object of 21 artists>"
            ]
          },
          "metadata": {},
          "execution_count": 60
        },
        {
          "output_type": "display_data",
          "data": {
            "image/png": "[encoded data removed]",
            "text/plain": [
              "<Figure size 432x288 with 1 Axes>"
            ]
          },
          "metadata": {
            "needs_background": "light"
          }
        }
      ]
    },
    {
      "cell_type": "code",
      "metadata": {
        "id": "PKlmwj_Xyyba"
      },
      "source": [
        "from xgboost import XGBClassifier"
      ],
      "execution_count": null,
      "outputs": []
    },
    {
      "cell_type": "code",
      "metadata": {
        "id": "TAQvMNazyzcP"
      },
      "source": [
        "modelXgbc = XGBClassifier()"
      ],
      "execution_count": null,
      "outputs": []
    },
    {
      "cell_type": "code",
      "metadata": {
        "colab": {
          "base_uri": "https://localhost:8080/"
        },
        "id": "bgyJTQlYy1eo",
        "outputId": "ccb7a925-0dfa-4e11-93a3-1e20d6a2149c"
      },
      "source": [
        "modelXgbc.fit(x, y)"
      ],
      "execution_count": null,
      "outputs": [
        {
          "output_type": "execute_result",
          "data": {
            "text/plain": [
              "XGBClassifier(base_score=0.5, booster='gbtree', colsample_bylevel=1,\n",
              "              colsample_bynode=1, colsample_bytree=1, gamma=0,\n",
              "              learning_rate=0.1, max_delta_step=0, max_depth=3,\n",
              "              min_child_weight=1, missing=None, n_estimators=100, n_jobs=1,\n",
              "              nthread=None, objective='multi:softprob', random_state=0,\n",
              "              reg_alpha=0, reg_lambda=1, scale_pos_weight=1, seed=None,\n",
              "              silent=None, subsample=1, verbosity=1)"
            ]
          },
          "metadata": {},
          "execution_count": 63
        }
      ]
    },
    {
      "cell_type": "code",
      "metadata": {
        "id": "4NCWBXCUy6uI"
      },
      "source": [
        "importance = modelXgbc.feature_importances_"
      ],
      "execution_count": null,
      "outputs": []
    },
    {
      "cell_type": "code",
      "metadata": {
        "colab": {
          "base_uri": "https://localhost:8080/"
        },
        "id": "1dIER1GWy86v",
        "outputId": "ab3dd9bf-251a-4f85-f72d-a8f99961eb4c"
      },
      "source": [
        "for i,v in enumerate(importance):\n",
        "\tprint('Feature: %0d, Score: %.5f' % (i,v))"
      ],
      "execution_count": null,
      "outputs": [
        {
          "output_type": "stream",
          "name": "stdout",
          "text": [
            "Feature: 0, Score: 0.13466\n",
            "Feature: 1, Score: 0.00000\n",
            "Feature: 2, Score: 0.00000\n",
            "Feature: 3, Score: 0.00000\n",
            "Feature: 4, Score: 0.00000\n",
            "Feature: 5, Score: 0.08972\n",
            "Feature: 6, Score: 0.00000\n",
            "Feature: 7, Score: 0.00000\n",
            "Feature: 8, Score: 0.10003\n",
            "Feature: 9, Score: 0.17606\n",
            "Feature: 10, Score: 0.00000\n",
            "Feature: 11, Score: 0.00000\n",
            "Feature: 12, Score: 0.00000\n",
            "Feature: 13, Score: 0.00000\n",
            "Feature: 14, Score: 0.00000\n",
            "Feature: 15, Score: 0.16466\n",
            "Feature: 16, Score: 0.07843\n",
            "Feature: 17, Score: 0.09282\n",
            "Feature: 18, Score: 0.00000\n",
            "Feature: 19, Score: 0.07955\n",
            "Feature: 20, Score: 0.08408\n"
          ]
        }
      ]
    },
    {
      "cell_type": "code",
      "metadata": {
        "colab": {
          "base_uri": "https://localhost:8080/",
          "height": 282
        },
        "id": "V1HeISiTy_SS",
        "outputId": "474e9a7b-102f-4d87-da7c-9e0b5d0be420"
      },
      "source": [
        "plt.bar([x for x in range(len(importance))], importance)"
      ],
      "execution_count": null,
      "outputs": [
        {
          "output_type": "execute_result",
          "data": {
            "text/plain": [
              "<BarContainer object of 21 artists>"
            ]
          },
          "metadata": {},
          "execution_count": 66
        },
        {
          "output_type": "display_data",
          "data": {
            "image/png": "[encoded data removed]",
            "text/plain": [
              "<Figure size 432x288 with 1 Axes>"
            ]
          },
          "metadata": {
            "needs_background": "light"
          }
        }
      ]
    },
    {
      "cell_type": "markdown",
      "metadata": {
        "id": "ckDU_YgOzNTG"
      },
      "source": [
        "#Permutation Feature Importance"
      ]
    },
    {
      "cell_type": "code",
      "metadata": {
        "id": "WugELG7-zKu0"
      },
      "source": [
        "from sklearn.neighbors import KNeighborsRegressor"
      ],
      "execution_count": null,
      "outputs": []
    },
    {
      "cell_type": "code",
      "metadata": {
        "id": "k6DHhPYHzQxX"
      },
      "source": [
        "from sklearn.inspection import permutation_importance"
      ],
      "execution_count": null,
      "outputs": []
    },
    {
      "cell_type": "code",
      "metadata": {
        "id": "4N43JJGuzSwP"
      },
      "source": [
        "modelKNr = KNeighborsRegressor()"
      ],
      "execution_count": null,
      "outputs": []
    },
    {
      "cell_type": "code",
      "metadata": {
        "colab": {
          "base_uri": "https://localhost:8080/"
        },
        "id": "MdwjFi5wzVIC",
        "outputId": "06502c3d-12b4-40a2-af36-32622decf165"
      },
      "source": [
        "modelKNr.fit(x, y)"
      ],
      "execution_count": null,
      "outputs": [
        {
          "output_type": "execute_result",
          "data": {
            "text/plain": [
              "KNeighborsRegressor(algorithm='auto', leaf_size=30, metric='minkowski',\n",
              "                    metric_params=None, n_jobs=None, n_neighbors=5, p=2,\n",
              "                    weights='uniform')"
            ]
          },
          "metadata": {},
          "execution_count": 70
        }
      ]
    },
    {
      "cell_type": "code",
      "metadata": {
        "id": "ZGrbmBHvzXAO"
      },
      "source": [
        "results = permutation_importance(modelKNr, x, y, scoring='neg_mean_squared_error')"
      ],
      "execution_count": null,
      "outputs": []
    },
    {
      "cell_type": "code",
      "metadata": {
        "id": "2gy-E3rZzb5O"
      },
      "source": [
        "importance = results.importances_mean"
      ],
      "execution_count": null,
      "outputs": []
    },
    {
      "cell_type": "code",
      "metadata": {
        "colab": {
          "base_uri": "https://localhost:8080/"
        },
        "id": "TJOKIq1Szdwu",
        "outputId": "98819593-1158-4f55-e818-ce4f3a3366ab"
      },
      "source": [
        "for i,v in enumerate(importance):\n",
        "\tprint('Feature: %0d, Score: %.5f' % (i,v))"
      ],
      "execution_count": null,
      "outputs": [
        {
          "output_type": "stream",
          "name": "stdout",
          "text": [
            "Feature: 0, Score: 0.00000\n",
            "Feature: 1, Score: 485600.00000\n",
            "Feature: 2, Score: 0.00000\n",
            "Feature: 3, Score: 0.00000\n",
            "Feature: 4, Score: 0.00000\n",
            "Feature: 5, Score: 0.00000\n",
            "Feature: 6, Score: 20899600.00000\n",
            "Feature: 7, Score: 0.00000\n",
            "Feature: 8, Score: 18858400.00000\n",
            "Feature: 9, Score: 0.00000\n",
            "Feature: 10, Score: 99600.00000\n",
            "Feature: 11, Score: 0.00000\n",
            "Feature: 12, Score: 0.00000\n",
            "Feature: 13, Score: 0.00000\n",
            "Feature: 14, Score: 0.00000\n",
            "Feature: 15, Score: 0.00000\n",
            "Feature: 16, Score: 0.00000\n",
            "Feature: 17, Score: 0.00000\n",
            "Feature: 18, Score: 485600.00000\n",
            "Feature: 19, Score: 68456400.00000\n",
            "Feature: 20, Score: 0.00000\n"
          ]
        }
      ]
    },
    {
      "cell_type": "code",
      "metadata": {
        "colab": {
          "base_uri": "https://localhost:8080/",
          "height": 293
        },
        "id": "UZx1uQVSziMz",
        "outputId": "b3b631bc-8162-43bf-cf48-6c97a8585083"
      },
      "source": [
        "plt.bar([x for x in range(len(importance))], importance)"
      ],
      "execution_count": null,
      "outputs": [
        {
          "output_type": "execute_result",
          "data": {
            "text/plain": [
              "<BarContainer object of 21 artists>"
            ]
          },
          "metadata": {},
          "execution_count": 74
        },
        {
          "output_type": "display_data",
          "data": {
            "image/png": "[encoded data removed]",
            "text/plain": [
              "<Figure size 432x288 with 1 Axes>"
            ]
          },
          "metadata": {
            "needs_background": "light"
          }
        }
      ]
    },
    {
      "cell_type": "code",
      "metadata": {
        "id": "Tbl_Wfw3zoVo"
      },
      "source": [
        "from sklearn.neighbors import KNeighborsClassifier"
      ],
      "execution_count": null,
      "outputs": []
    },
    {
      "cell_type": "code",
      "metadata": {
        "id": "-Kfd0NKyzrZ1"
      },
      "source": [
        "from sklearn.inspection import permutation_importance"
      ],
      "execution_count": null,
      "outputs": []
    },
    {
      "cell_type": "code",
      "metadata": {
        "id": "xqU0qy8iztff"
      },
      "source": [
        "modelKNc = KNeighborsClassifier()"
      ],
      "execution_count": null,
      "outputs": []
    },
    {
      "cell_type": "code",
      "metadata": {
        "colab": {
          "base_uri": "https://localhost:8080/"
        },
        "id": "x1ZJFgfFzvVx",
        "outputId": "48e2e5c5-e7a4-4961-a04b-76292930af0f"
      },
      "source": [
        "modelKNc.fit(x, y)"
      ],
      "execution_count": null,
      "outputs": [
        {
          "output_type": "execute_result",
          "data": {
            "text/plain": [
              "KNeighborsClassifier(algorithm='auto', leaf_size=30, metric='minkowski',\n",
              "                     metric_params=None, n_jobs=None, n_neighbors=5, p=2,\n",
              "                     weights='uniform')"
            ]
          },
          "metadata": {},
          "execution_count": 78
        }
      ]
    },
    {
      "cell_type": "code",
      "metadata": {
        "id": "YKpPr1fNzx-d"
      },
      "source": [
        "results = permutation_importance(modelKNc, x, y, scoring='accuracy')"
      ],
      "execution_count": null,
      "outputs": []
    },
    {
      "cell_type": "code",
      "metadata": {
        "id": "Yt3VQ2J2z0Ux"
      },
      "source": [
        "importance = results.importances_mean"
      ],
      "execution_count": null,
      "outputs": []
    },
    {
      "cell_type": "code",
      "metadata": {
        "colab": {
          "base_uri": "https://localhost:8080/"
        },
        "id": "eUKpC_Mbz2a7",
        "outputId": "44e685a1-3b9d-4e3c-a2ee-8bea5129a6c4"
      },
      "source": [
        "for i,v in enumerate(importance):\n",
        "\tprint('Feature: %0d, Score: %.5f' % (i,v))"
      ],
      "execution_count": null,
      "outputs": [
        {
          "output_type": "stream",
          "name": "stdout",
          "text": [
            "Feature: 0, Score: 0.00000\n",
            "Feature: 1, Score: -0.01000\n",
            "Feature: 2, Score: 0.00000\n",
            "Feature: 3, Score: 0.00000\n",
            "Feature: 4, Score: 0.00000\n",
            "Feature: 5, Score: 0.00000\n",
            "Feature: 6, Score: -0.03000\n",
            "Feature: 7, Score: 0.00000\n",
            "Feature: 8, Score: 0.01000\n",
            "Feature: 9, Score: 0.00000\n",
            "Feature: 10, Score: -0.01000\n",
            "Feature: 11, Score: 0.00000\n",
            "Feature: 12, Score: 0.00000\n",
            "Feature: 13, Score: 0.00000\n",
            "Feature: 14, Score: 0.00000\n",
            "Feature: 15, Score: 0.00000\n",
            "Feature: 16, Score: 0.00000\n",
            "Feature: 17, Score: 0.00000\n",
            "Feature: 18, Score: -0.01000\n",
            "Feature: 19, Score: 0.10000\n",
            "Feature: 20, Score: 0.00000\n"
          ]
        }
      ]
    },
    {
      "cell_type": "code",
      "metadata": {
        "colab": {
          "base_uri": "https://localhost:8080/",
          "height": 282
        },
        "id": "s4tJ85cez57P",
        "outputId": "4187959a-2f02-4186-f605-50b545e1da01"
      },
      "source": [
        "plt.bar([x for x in range(len(importance))], importance)"
      ],
      "execution_count": null,
      "outputs": [
        {
          "output_type": "execute_result",
          "data": {
            "text/plain": [
              "<BarContainer object of 21 artists>"
            ]
          },
          "metadata": {},
          "execution_count": 82
        },
        {
          "output_type": "display_data",
          "data": {
            "image/png": "[encoded data removed]",
            "text/plain": [
              "<Figure size 432x288 with 1 Axes>"
            ]
          },
          "metadata": {
            "needs_background": "light"
          }
        }
      ]
    },
    {
      "cell_type": "markdown",
      "metadata": {
        "id": "yR1GCcV02bL2"
      },
      "source": [
        "#Adaboost Feature Importance"
      ]
    },
    {
      "cell_type": "code",
      "metadata": {
        "id": "kQp86sCwIZ5C"
      },
      "source": [
        "from numpy import mean\n",
        "from numpy import std"
      ],
      "execution_count": null,
      "outputs": []
    },
    {
      "cell_type": "code",
      "metadata": {
        "id": "LMOo68VFId1b"
      },
      "source": [
        "from sklearn.model_selection import cross_val_score\n",
        "from sklearn.model_selection import RepeatedStratifiedKFold"
      ],
      "execution_count": null,
      "outputs": []
    },
    {
      "cell_type": "code",
      "metadata": {
        "id": "KrvyoaYCJyDc"
      },
      "source": [
        "from sklearn.ensemble import AdaBoostRegressor"
      ],
      "execution_count": null,
      "outputs": []
    },
    {
      "cell_type": "code",
      "metadata": {
        "id": "igbgZeyQJ0HQ"
      },
      "source": [
        "modelAdar = AdaBoostRegressor()"
      ],
      "execution_count": null,
      "outputs": []
    },
    {
      "cell_type": "code",
      "metadata": {
        "colab": {
          "base_uri": "https://localhost:8080/"
        },
        "id": "8AGb-1HDJ6Yx",
        "outputId": "6753b8af-875c-437b-b150-a52e7d411a8e"
      },
      "source": [
        "modelAdar.fit(x, y)"
      ],
      "execution_count": null,
      "outputs": [
        {
          "output_type": "execute_result",
          "data": {
            "text/plain": [
              "AdaBoostRegressor(base_estimator=None, learning_rate=1.0, loss='linear',\n",
              "                  n_estimators=50, random_state=None)"
            ]
          },
          "metadata": {},
          "execution_count": 87
        }
      ]
    },
    {
      "cell_type": "code",
      "metadata": {
        "id": "G-cz4cCeJ8mo"
      },
      "source": [
        "importance = modelAdar.feature_importances_"
      ],
      "execution_count": null,
      "outputs": []
    },
    {
      "cell_type": "code",
      "metadata": {
        "colab": {
          "base_uri": "https://localhost:8080/"
        },
        "id": "pBI7h_7tKBGv",
        "outputId": "c657452d-a843-4e21-b21e-a10f5dda5ad6"
      },
      "source": [
        "for i,v in enumerate(importance):\n",
        "\tprint('Feature: %0d, Score: %.5f' % (i,v))"
      ],
      "execution_count": null,
      "outputs": [
        {
          "output_type": "stream",
          "name": "stdout",
          "text": [
            "Feature: 0, Score: 0.06607\n",
            "Feature: 1, Score: 0.12474\n",
            "Feature: 2, Score: 0.00000\n",
            "Feature: 3, Score: 0.01562\n",
            "Feature: 4, Score: 0.01135\n",
            "Feature: 5, Score: 0.03530\n",
            "Feature: 6, Score: 0.05593\n",
            "Feature: 7, Score: 0.03980\n",
            "Feature: 8, Score: 0.06630\n",
            "Feature: 9, Score: 0.02641\n",
            "Feature: 10, Score: 0.06264\n",
            "Feature: 11, Score: 0.00005\n",
            "Feature: 12, Score: 0.08775\n",
            "Feature: 13, Score: 0.05466\n",
            "Feature: 14, Score: 0.04160\n",
            "Feature: 15, Score: 0.03176\n",
            "Feature: 16, Score: 0.01077\n",
            "Feature: 17, Score: 0.05225\n",
            "Feature: 18, Score: 0.07496\n",
            "Feature: 19, Score: 0.03160\n",
            "Feature: 20, Score: 0.11044\n"
          ]
        }
      ]
    },
    {
      "cell_type": "code",
      "metadata": {
        "colab": {
          "base_uri": "https://localhost:8080/",
          "height": 282
        },
        "id": "zaNhx0ydKHoK",
        "outputId": "b8278114-6d56-4d4a-8165-994d388058e9"
      },
      "source": [
        "plt.bar([x for x in range(len(importance))], importance)"
      ],
      "execution_count": null,
      "outputs": [
        {
          "output_type": "execute_result",
          "data": {
            "text/plain": [
              "<BarContainer object of 21 artists>"
            ]
          },
          "metadata": {},
          "execution_count": 90
        },
        {
          "output_type": "display_data",
          "data": {
            "image/png": "[encoded data removed]",
            "text/plain": [
              "<Figure size 432x288 with 1 Axes>"
            ]
          },
          "metadata": {
            "needs_background": "light"
          }
        }
      ]
    },
    {
      "cell_type": "code",
      "metadata": {
        "id": "e_dc5YnJ2anI"
      },
      "source": [
        "from sklearn.ensemble import AdaBoostClassifier"
      ],
      "execution_count": null,
      "outputs": []
    },
    {
      "cell_type": "code",
      "metadata": {
        "id": "lJAv3P_uH0b-"
      },
      "source": [
        "modelAdac = AdaBoostClassifier()"
      ],
      "execution_count": null,
      "outputs": []
    },
    {
      "cell_type": "code",
      "metadata": {
        "colab": {
          "base_uri": "https://localhost:8080/"
        },
        "id": "hqETo3amIo-y",
        "outputId": "35ccb31c-9f26-4ebe-8272-86676e47a16a"
      },
      "source": [
        "modelAdac.fit(x, y)"
      ],
      "execution_count": null,
      "outputs": [
        {
          "output_type": "execute_result",
          "data": {
            "text/plain": [
              "AdaBoostClassifier(algorithm='SAMME.R', base_estimator=None, learning_rate=1.0,\n",
              "                   n_estimators=50, random_state=None)"
            ]
          },
          "metadata": {},
          "execution_count": 93
        }
      ]
    },
    {
      "cell_type": "code",
      "metadata": {
        "id": "GrA3CNPeIrZE"
      },
      "source": [
        "importance = modelAdac.feature_importances_"
      ],
      "execution_count": null,
      "outputs": []
    },
    {
      "cell_type": "code",
      "metadata": {
        "colab": {
          "base_uri": "https://localhost:8080/"
        },
        "id": "REiQHAebIyvb",
        "outputId": "968fff9c-39c9-4f4a-f158-d51701ce6606"
      },
      "source": [
        "for i,v in enumerate(importance):\n",
        "\tprint('Feature: %0d, Score: %.5f' % (i,v))"
      ],
      "execution_count": null,
      "outputs": [
        {
          "output_type": "stream",
          "name": "stdout",
          "text": [
            "Feature: 0, Score: 0.04000\n",
            "Feature: 1, Score: 0.04000\n",
            "Feature: 2, Score: 0.00000\n",
            "Feature: 3, Score: 0.00000\n",
            "Feature: 4, Score: 0.08000\n",
            "Feature: 5, Score: 0.00000\n",
            "Feature: 6, Score: 0.00000\n",
            "Feature: 7, Score: 0.04000\n",
            "Feature: 8, Score: 0.20000\n",
            "Feature: 9, Score: 0.00000\n",
            "Feature: 10, Score: 0.02000\n",
            "Feature: 11, Score: 0.00000\n",
            "Feature: 12, Score: 0.00000\n",
            "Feature: 13, Score: 0.02000\n",
            "Feature: 14, Score: 0.04000\n",
            "Feature: 15, Score: 0.00000\n",
            "Feature: 16, Score: 0.22000\n",
            "Feature: 17, Score: 0.08000\n",
            "Feature: 18, Score: 0.10000\n",
            "Feature: 19, Score: 0.08000\n",
            "Feature: 20, Score: 0.04000\n"
          ]
        }
      ]
    },
    {
      "cell_type": "code",
      "metadata": {
        "colab": {
          "base_uri": "https://localhost:8080/",
          "height": 282
        },
        "id": "fZuq1klrI2wU",
        "outputId": "74a77c9b-37f0-417b-80c8-9e00a923d65a"
      },
      "source": [
        "plt.bar([x for x in range(len(importance))], importance)"
      ],
      "execution_count": null,
      "outputs": [
        {
          "output_type": "execute_result",
          "data": {
            "text/plain": [
              "<BarContainer object of 21 artists>"
            ]
          },
          "metadata": {},
          "execution_count": 96
        },
        {
          "output_type": "display_data",
          "data": {
            "image/png": "[encoded data removed]",
            "text/plain": [
              "<Figure size 432x288 with 1 Axes>"
            ]
          },
          "metadata": {
            "needs_background": "light"
          }
        }
      ]
    },
    {
      "cell_type": "markdown",
      "metadata": {
        "id": "IOOC9DK2I7qD"
      },
      "source": [
        "#Linear Regression Prediction Accuracy"
      ]
    },
    {
      "cell_type": "code",
      "metadata": {
        "id": "6sbATQ48JBLF"
      },
      "source": [
        "from sklearn.model_selection import train_test_split"
      ],
      "execution_count": null,
      "outputs": []
    },
    {
      "cell_type": "code",
      "metadata": {
        "id": "UvTrXLPPJEZT"
      },
      "source": [
        "xtrain, xtest, ytrain, ytest = train_test_split(x, y, test_size=.30, random_state=47)"
      ],
      "execution_count": null,
      "outputs": []
    },
    {
      "cell_type": "code",
      "metadata": {
        "id": "F4IghVGeJL7D"
      },
      "source": [
        "Lreg = LinearRegression()"
      ],
      "execution_count": null,
      "outputs": []
    },
    {
      "cell_type": "code",
      "metadata": {
        "colab": {
          "base_uri": "https://localhost:8080/"
        },
        "id": "6pdzztDOJPGe",
        "outputId": "b424aed2-7536-4ff2-af1b-f5ba8d78dc72"
      },
      "source": [
        "Lreg.fit(xtrain,ytrain)"
      ],
      "execution_count": null,
      "outputs": [
        {
          "output_type": "execute_result",
          "data": {
            "text/plain": [
              "LinearRegression(copy_X=True, fit_intercept=True, n_jobs=None, normalize=False)"
            ]
          },
          "metadata": {},
          "execution_count": 100
        }
      ]
    },
    {
      "cell_type": "code",
      "metadata": {
        "colab": {
          "base_uri": "https://localhost:8080/"
        },
        "id": "Yvl3qhoyJRUc",
        "outputId": "f5a645bd-cf2f-4c3c-9fb5-0d499a9de39a"
      },
      "source": [
        "Lreg.score(xtest,ytest)"
      ],
      "execution_count": null,
      "outputs": [
        {
          "output_type": "execute_result",
          "data": {
            "text/plain": [
              "0.9994347698230827"
            ]
          },
          "metadata": {},
          "execution_count": 101
        }
      ]
    },
    {
      "cell_type": "markdown",
      "metadata": {
        "id": "ebk2Zcg-JhSj"
      },
      "source": [
        "#Logistic Regression Prediction Accuracy"
      ]
    },
    {
      "cell_type": "code",
      "metadata": {
        "id": "Wpe4C9BlJkfI"
      },
      "source": [
        "Loreg = LogisticRegression()"
      ],
      "execution_count": null,
      "outputs": []
    },
    {
      "cell_type": "code",
      "metadata": {
        "colab": {
          "base_uri": "https://localhost:8080/"
        },
        "id": "kh8CZz-qKatM",
        "outputId": "75bf2f47-de99-495b-8eb5-032dd0d389c8"
      },
      "source": [
        "Loreg.fit(xtrain,ytrain)"
      ],
      "execution_count": null,
      "outputs": [
        {
          "output_type": "stream",
          "name": "stderr",
          "text": [
            "/usr/local/lib/python3.7/dist-packages/sklearn/linear_model/_logistic.py:940: ConvergenceWarning: lbfgs failed to converge (status=1):\n",
            "STOP: TOTAL NO. of ITERATIONS REACHED LIMIT.\n",
            "\n",
            "Increase the number of iterations (max_iter) or scale the data as shown in:\n",
            "    https://scikit-learn.org/stable/modules/preprocessing.html\n",
            "Please also refer to the documentation for alternative solver options:\n",
            "    https://scikit-learn.org/stable/modules/linear_model.html#logistic-regression\n",
            "  extra_warning_msg=_LOGISTIC_SOLVER_CONVERGENCE_MSG)\n"
          ]
        },
        {
          "output_type": "execute_result",
          "data": {
            "text/plain": [
              "LogisticRegression(C=1.0, class_weight=None, dual=False, fit_intercept=True,\n",
              "                   intercept_scaling=1, l1_ratio=None, max_iter=100,\n",
              "                   multi_class='auto', n_jobs=None, penalty='l2',\n",
              "                   random_state=None, solver='lbfgs', tol=0.0001, verbose=0,\n",
              "                   warm_start=False)"
            ]
          },
          "metadata": {},
          "execution_count": 103
        }
      ]
    },
    {
      "cell_type": "code",
      "metadata": {
        "colab": {
          "base_uri": "https://localhost:8080/"
        },
        "id": "MsNfg0BQKc_n",
        "outputId": "7d419bcd-28fe-4412-c3bc-67425b3f2121"
      },
      "source": [
        "Loreg.score(xtest,ytest)"
      ],
      "execution_count": null,
      "outputs": [
        {
          "output_type": "execute_result",
          "data": {
            "text/plain": [
              "0.16666666666666666"
            ]
          },
          "metadata": {},
          "execution_count": 104
        }
      ]
    },
    {
      "cell_type": "markdown",
      "metadata": {
        "id": "MCZF6UoeA4QQ"
      },
      "source": [
        "#Support Vector Machine Prediction Accuracy"
      ]
    },
    {
      "cell_type": "code",
      "metadata": {
        "id": "JR3PbrawA9gC"
      },
      "source": [
        "svr = SVR()"
      ],
      "execution_count": null,
      "outputs": []
    },
    {
      "cell_type": "code",
      "metadata": {
        "colab": {
          "base_uri": "https://localhost:8080/"
        },
        "id": "TpfHRqL2BFHG",
        "outputId": "f964299b-4a9b-4a3f-fbd7-6382d36daa18"
      },
      "source": [
        "svr.fit(xtrain,ytrain)"
      ],
      "execution_count": null,
      "outputs": [
        {
          "output_type": "execute_result",
          "data": {
            "text/plain": [
              "SVR(C=1.0, cache_size=200, coef0=0.0, degree=3, epsilon=0.1, gamma='scale',\n",
              "    kernel='rbf', max_iter=-1, shrinking=True, tol=0.001, verbose=False)"
            ]
          },
          "metadata": {},
          "execution_count": 111
        }
      ]
    },
    {
      "cell_type": "code",
      "metadata": {
        "colab": {
          "base_uri": "https://localhost:8080/"
        },
        "id": "Zfr1BMeCBMMC",
        "outputId": "4dc529b3-4a6c-462f-d54e-d7d62170c5f5"
      },
      "source": [
        "svr.score(xtest,ytest)"
      ],
      "execution_count": null,
      "outputs": [
        {
          "output_type": "execute_result",
          "data": {
            "text/plain": [
              "-0.01888215521745429"
            ]
          },
          "metadata": {},
          "execution_count": 112
        }
      ]
    },
    {
      "cell_type": "code",
      "metadata": {
        "id": "4rbWxO_nBPfc"
      },
      "source": [
        "svc = SVC()"
      ],
      "execution_count": null,
      "outputs": []
    },
    {
      "cell_type": "code",
      "metadata": {
        "id": "rmbGyFktBStw",
        "colab": {
          "base_uri": "https://localhost:8080/"
        },
        "outputId": "4eaa3a3f-90d2-449b-c0ff-86fc25b9ab30"
      },
      "source": [
        "svc.fit(xtrain,ytrain)"
      ],
      "execution_count": null,
      "outputs": [
        {
          "output_type": "execute_result",
          "data": {
            "text/plain": [
              "SVC(C=1.0, break_ties=False, cache_size=200, class_weight=None, coef0=0.0,\n",
              "    decision_function_shape='ovr', degree=3, gamma='scale', kernel='rbf',\n",
              "    max_iter=-1, probability=False, random_state=None, shrinking=True,\n",
              "    tol=0.001, verbose=False)"
            ]
          },
          "metadata": {},
          "execution_count": 114
        }
      ]
    },
    {
      "cell_type": "code",
      "metadata": {
        "id": "bngbV8yxBWnM",
        "colab": {
          "base_uri": "https://localhost:8080/"
        },
        "outputId": "d8d2bef9-7c0f-48f2-847d-8592a76278d5"
      },
      "source": [
        "svc.score(xtest,ytest)"
      ],
      "execution_count": null,
      "outputs": [
        {
          "output_type": "execute_result",
          "data": {
            "text/plain": [
              "0.16666666666666666"
            ]
          },
          "metadata": {},
          "execution_count": 115
        }
      ]
    },
    {
      "cell_type": "markdown",
      "metadata": {
        "id": "jFlXqEQtKi5m"
      },
      "source": [
        "#Decision Tree Prediction Accuracy"
      ]
    },
    {
      "cell_type": "code",
      "metadata": {
        "id": "D7YrmLEEKotV"
      },
      "source": [
        "Clfr = DecisionTreeRegressor()"
      ],
      "execution_count": null,
      "outputs": []
    },
    {
      "cell_type": "code",
      "metadata": {
        "colab": {
          "base_uri": "https://localhost:8080/"
        },
        "id": "70XZEK-aK8XC",
        "outputId": "2b57f2f2-b3ac-4405-8b37-ab62d5c37cfa"
      },
      "source": [
        "Clfr.fit(xtrain,ytrain)"
      ],
      "execution_count": null,
      "outputs": [
        {
          "output_type": "execute_result",
          "data": {
            "text/plain": [
              "DecisionTreeRegressor(ccp_alpha=0.0, criterion='mse', max_depth=None,\n",
              "                      max_features=None, max_leaf_nodes=None,\n",
              "                      min_impurity_decrease=0.0, min_impurity_split=None,\n",
              "                      min_samples_leaf=1, min_samples_split=2,\n",
              "                      min_weight_fraction_leaf=0.0, presort='deprecated',\n",
              "                      random_state=None, splitter='best')"
            ]
          },
          "metadata": {},
          "execution_count": 117
        }
      ]
    },
    {
      "cell_type": "code",
      "metadata": {
        "colab": {
          "base_uri": "https://localhost:8080/"
        },
        "id": "hnKWvDBGK_y7",
        "outputId": "8d4cc007-324e-47a4-c2e3-bc3b96bf16f4"
      },
      "source": [
        "Clfr.score(xtest,ytest)"
      ],
      "execution_count": null,
      "outputs": [
        {
          "output_type": "execute_result",
          "data": {
            "text/plain": [
              "0.9224719101123595"
            ]
          },
          "metadata": {},
          "execution_count": 118
        }
      ]
    },
    {
      "cell_type": "code",
      "metadata": {
        "id": "P8ZfubgOK03r"
      },
      "source": [
        "yClfr = Clfr.predict(xtest)"
      ],
      "execution_count": null,
      "outputs": []
    },
    {
      "cell_type": "code",
      "metadata": {
        "colab": {
          "base_uri": "https://localhost:8080/"
        },
        "id": "LpkXl_yNLC0u",
        "outputId": "10e5dc6d-c044-431a-95e2-b34967cd21be"
      },
      "source": [
        "yClfr"
      ],
      "execution_count": null,
      "outputs": [
        {
          "output_type": "execute_result",
          "data": {
            "text/plain": [
              "array([77000., 71000., 38000., 93000., 61000., 93000.])"
            ]
          },
          "metadata": {},
          "execution_count": 120
        }
      ]
    },
    {
      "cell_type": "code",
      "metadata": {
        "id": "2KBp8ypYLFgh"
      },
      "source": [
        "Clfc = DecisionTreeClassifier()"
      ],
      "execution_count": null,
      "outputs": []
    },
    {
      "cell_type": "code",
      "metadata": {
        "colab": {
          "base_uri": "https://localhost:8080/"
        },
        "id": "LASPAmOHLLkH",
        "outputId": "796c5629-dc7a-4207-d2f4-b033f33b7556"
      },
      "source": [
        "Clfc.fit(xtrain,ytrain)"
      ],
      "execution_count": null,
      "outputs": [
        {
          "output_type": "execute_result",
          "data": {
            "text/plain": [
              "DecisionTreeClassifier(ccp_alpha=0.0, class_weight=None, criterion='gini',\n",
              "                       max_depth=None, max_features=None, max_leaf_nodes=None,\n",
              "                       min_impurity_decrease=0.0, min_impurity_split=None,\n",
              "                       min_samples_leaf=1, min_samples_split=2,\n",
              "                       min_weight_fraction_leaf=0.0, presort='deprecated',\n",
              "                       random_state=None, splitter='best')"
            ]
          },
          "metadata": {},
          "execution_count": 122
        }
      ]
    },
    {
      "cell_type": "code",
      "metadata": {
        "colab": {
          "base_uri": "https://localhost:8080/"
        },
        "id": "KkRlOjQ8LN_O",
        "outputId": "6041df3d-6077-4e23-e54a-a5f92e2b83f4"
      },
      "source": [
        "Clfc.score(xtest,ytest)"
      ],
      "execution_count": null,
      "outputs": [
        {
          "output_type": "execute_result",
          "data": {
            "text/plain": [
              "0.16666666666666666"
            ]
          },
          "metadata": {},
          "execution_count": 123
        }
      ]
    },
    {
      "cell_type": "markdown",
      "metadata": {
        "id": "wemNkrD4LSpJ"
      },
      "source": [
        "#Random Forest Prediction Accuracy"
      ]
    },
    {
      "cell_type": "code",
      "metadata": {
        "id": "MINFFYVHLWiQ"
      },
      "source": [
        "Rfr = RandomForestRegressor()"
      ],
      "execution_count": null,
      "outputs": []
    },
    {
      "cell_type": "code",
      "metadata": {
        "colab": {
          "base_uri": "https://localhost:8080/"
        },
        "id": "bRwwVq_lLejc",
        "outputId": "153c7639-95ec-4db4-ea52-61956a263835"
      },
      "source": [
        "Rfr.fit(xtrain,ytrain)"
      ],
      "execution_count": null,
      "outputs": [
        {
          "output_type": "execute_result",
          "data": {
            "text/plain": [
              "RandomForestRegressor(bootstrap=True, ccp_alpha=0.0, criterion='mse',\n",
              "                      max_depth=None, max_features='auto', max_leaf_nodes=None,\n",
              "                      max_samples=None, min_impurity_decrease=0.0,\n",
              "                      min_impurity_split=None, min_samples_leaf=1,\n",
              "                      min_samples_split=2, min_weight_fraction_leaf=0.0,\n",
              "                      n_estimators=100, n_jobs=None, oob_score=False,\n",
              "                      random_state=None, verbose=0, warm_start=False)"
            ]
          },
          "metadata": {},
          "execution_count": 125
        }
      ]
    },
    {
      "cell_type": "code",
      "metadata": {
        "colab": {
          "base_uri": "https://localhost:8080/"
        },
        "id": "mzmsfEkXLhvK",
        "outputId": "a80c3ecd-54d2-40dc-8248-7f9d4818aee5"
      },
      "source": [
        "Rfr.score(xtest,ytest)"
      ],
      "execution_count": null,
      "outputs": [
        {
          "output_type": "execute_result",
          "data": {
            "text/plain": [
              "0.9782044943820225"
            ]
          },
          "metadata": {},
          "execution_count": 126
        }
      ]
    },
    {
      "cell_type": "code",
      "metadata": {
        "id": "iHUjrY1qLlcC"
      },
      "source": [
        "Rfc = RandomForestClassifier()"
      ],
      "execution_count": null,
      "outputs": []
    },
    {
      "cell_type": "code",
      "metadata": {
        "colab": {
          "base_uri": "https://localhost:8080/"
        },
        "id": "e5BN6ZNCLrHw",
        "outputId": "cfbf0e10-549f-4789-c9d1-2f27bb251df9"
      },
      "source": [
        "Rfc.fit(xtrain,ytrain)"
      ],
      "execution_count": null,
      "outputs": [
        {
          "output_type": "execute_result",
          "data": {
            "text/plain": [
              "RandomForestClassifier(bootstrap=True, ccp_alpha=0.0, class_weight=None,\n",
              "                       criterion='gini', max_depth=None, max_features='auto',\n",
              "                       max_leaf_nodes=None, max_samples=None,\n",
              "                       min_impurity_decrease=0.0, min_impurity_split=None,\n",
              "                       min_samples_leaf=1, min_samples_split=2,\n",
              "                       min_weight_fraction_leaf=0.0, n_estimators=100,\n",
              "                       n_jobs=None, oob_score=False, random_state=None,\n",
              "                       verbose=0, warm_start=False)"
            ]
          },
          "metadata": {},
          "execution_count": 128
        }
      ]
    },
    {
      "cell_type": "code",
      "metadata": {
        "colab": {
          "base_uri": "https://localhost:8080/"
        },
        "id": "45ion4nVLt4X",
        "outputId": "6d591c79-d5d1-495d-e582-f9d0807f7dfe"
      },
      "source": [
        "Rfc.score(xtest,ytest)"
      ],
      "execution_count": null,
      "outputs": [
        {
          "output_type": "execute_result",
          "data": {
            "text/plain": [
              "0.16666666666666666"
            ]
          },
          "metadata": {},
          "execution_count": 129
        }
      ]
    },
    {
      "cell_type": "markdown",
      "metadata": {
        "id": "aA_13t6RLxq_"
      },
      "source": [
        "#XGBoost Prediction Accuracy"
      ]
    },
    {
      "cell_type": "code",
      "metadata": {
        "id": "szduebeWL2XA"
      },
      "source": [
        "XGBr = XGBRegressor()"
      ],
      "execution_count": null,
      "outputs": []
    },
    {
      "cell_type": "code",
      "metadata": {
        "colab": {
          "base_uri": "https://localhost:8080/"
        },
        "id": "hAqZr2s2L9j2",
        "outputId": "e5559ad9-9cc3-4732-bc7b-08faa07938df"
      },
      "source": [
        "XGBr.fit(xtrain,ytrain)"
      ],
      "execution_count": null,
      "outputs": [
        {
          "output_type": "stream",
          "name": "stdout",
          "text": [
            "[17:08:25] WARNING: /workspace/src/objective/regression_obj.cu:152: reg:linear is now deprecated in favor of reg:squarederror.\n"
          ]
        },
        {
          "output_type": "execute_result",
          "data": {
            "text/plain": [
              "XGBRegressor(base_score=0.5, booster='gbtree', colsample_bylevel=1,\n",
              "             colsample_bynode=1, colsample_bytree=1, gamma=0,\n",
              "             importance_type='gain', learning_rate=0.1, max_delta_step=0,\n",
              "             max_depth=3, min_child_weight=1, missing=None, n_estimators=100,\n",
              "             n_jobs=1, nthread=None, objective='reg:linear', random_state=0,\n",
              "             reg_alpha=0, reg_lambda=1, scale_pos_weight=1, seed=None,\n",
              "             silent=None, subsample=1, verbosity=1)"
            ]
          },
          "metadata": {},
          "execution_count": 131
        }
      ]
    },
    {
      "cell_type": "code",
      "metadata": {
        "colab": {
          "base_uri": "https://localhost:8080/"
        },
        "id": "SWrGN-JOMBLl",
        "outputId": "5472e829-3a4e-441f-edb9-8a551afe5a85"
      },
      "source": [
        "XGBr.score(xtest,ytest)"
      ],
      "execution_count": null,
      "outputs": [
        {
          "output_type": "execute_result",
          "data": {
            "text/plain": [
              "0.8948690460928893"
            ]
          },
          "metadata": {},
          "execution_count": 132
        }
      ]
    },
    {
      "cell_type": "code",
      "metadata": {
        "id": "2JSkr6qQMEc3"
      },
      "source": [
        "XGBc = XGBClassifier()"
      ],
      "execution_count": null,
      "outputs": []
    },
    {
      "cell_type": "code",
      "metadata": {
        "colab": {
          "base_uri": "https://localhost:8080/"
        },
        "id": "F538wNnWMJI7",
        "outputId": "eb47cb85-c3e6-4b68-e6f8-01a8f3b03897"
      },
      "source": [
        "XGBc.fit(xtrain,ytrain)"
      ],
      "execution_count": null,
      "outputs": [
        {
          "output_type": "execute_result",
          "data": {
            "text/plain": [
              "XGBClassifier(base_score=0.5, booster='gbtree', colsample_bylevel=1,\n",
              "              colsample_bynode=1, colsample_bytree=1, gamma=0,\n",
              "              learning_rate=0.1, max_delta_step=0, max_depth=3,\n",
              "              min_child_weight=1, missing=None, n_estimators=100, n_jobs=1,\n",
              "              nthread=None, objective='multi:softprob', random_state=0,\n",
              "              reg_alpha=0, reg_lambda=1, scale_pos_weight=1, seed=None,\n",
              "              silent=None, subsample=1, verbosity=1)"
            ]
          },
          "metadata": {},
          "execution_count": 134
        }
      ]
    },
    {
      "cell_type": "code",
      "metadata": {
        "colab": {
          "base_uri": "https://localhost:8080/"
        },
        "id": "_IvTmnabMMGW",
        "outputId": "39b4fe49-19e9-4a4d-d2f3-5b43c5a50118"
      },
      "source": [
        "XGBc.score(xtest,ytest)"
      ],
      "execution_count": null,
      "outputs": [
        {
          "output_type": "execute_result",
          "data": {
            "text/plain": [
              "0.16666666666666666"
            ]
          },
          "metadata": {},
          "execution_count": 135
        }
      ]
    },
    {
      "cell_type": "markdown",
      "metadata": {
        "id": "S5fs2MA8MVUP"
      },
      "source": [
        "#Permutation Prediction Accuracy"
      ]
    },
    {
      "cell_type": "code",
      "metadata": {
        "id": "BnkUvmzuMb7R"
      },
      "source": [
        "KNr = KNeighborsRegressor()"
      ],
      "execution_count": null,
      "outputs": []
    },
    {
      "cell_type": "code",
      "metadata": {
        "colab": {
          "base_uri": "https://localhost:8080/"
        },
        "id": "28lNSRtWMk_Q",
        "outputId": "ec3b3cec-f41c-4762-d5c9-3e114b52bdd6"
      },
      "source": [
        "KNr.fit(xtrain,ytrain)"
      ],
      "execution_count": null,
      "outputs": [
        {
          "output_type": "execute_result",
          "data": {
            "text/plain": [
              "KNeighborsRegressor(algorithm='auto', leaf_size=30, metric='minkowski',\n",
              "                    metric_params=None, n_jobs=None, n_neighbors=5, p=2,\n",
              "                    weights='uniform')"
            ]
          },
          "metadata": {},
          "execution_count": 137
        }
      ]
    },
    {
      "cell_type": "code",
      "metadata": {
        "colab": {
          "base_uri": "https://localhost:8080/"
        },
        "id": "JuwNFZNzMpxo",
        "outputId": "27750db6-2d6b-4165-a1b8-13800e934ad1"
      },
      "source": [
        "KNr.score(xtest,ytest)"
      ],
      "execution_count": null,
      "outputs": [
        {
          "output_type": "execute_result",
          "data": {
            "text/plain": [
              "0.7753977528089887"
            ]
          },
          "metadata": {},
          "execution_count": 138
        }
      ]
    },
    {
      "cell_type": "code",
      "metadata": {
        "id": "YkzJxUfPMs1F"
      },
      "source": [
        "KNc = KNeighborsClassifier()"
      ],
      "execution_count": null,
      "outputs": []
    },
    {
      "cell_type": "code",
      "metadata": {
        "colab": {
          "base_uri": "https://localhost:8080/"
        },
        "id": "rMUzkPpdMxJc",
        "outputId": "f62a6d8c-3c71-4877-c1bb-f8703d4264ef"
      },
      "source": [
        "KNc.fit(xtrain,ytrain)"
      ],
      "execution_count": null,
      "outputs": [
        {
          "output_type": "execute_result",
          "data": {
            "text/plain": [
              "KNeighborsClassifier(algorithm='auto', leaf_size=30, metric='minkowski',\n",
              "                     metric_params=None, n_jobs=None, n_neighbors=5, p=2,\n",
              "                     weights='uniform')"
            ]
          },
          "metadata": {},
          "execution_count": 140
        }
      ]
    },
    {
      "cell_type": "code",
      "metadata": {
        "colab": {
          "base_uri": "https://localhost:8080/"
        },
        "id": "OUUXh5j4Mz-G",
        "outputId": "03e230c3-9fae-430e-d231-f52c5c17bd0a"
      },
      "source": [
        "KNc.score(xtest,ytest)"
      ],
      "execution_count": null,
      "outputs": [
        {
          "output_type": "execute_result",
          "data": {
            "text/plain": [
              "0.16666666666666666"
            ]
          },
          "metadata": {},
          "execution_count": 141
        }
      ]
    },
    {
      "cell_type": "markdown",
      "metadata": {
        "id": "kRFryzBgM3rB"
      },
      "source": [
        "#Adaboost Prediction Accuracy"
      ]
    },
    {
      "cell_type": "code",
      "metadata": {
        "id": "jRea3E_ZM9AY"
      },
      "source": [
        "Adar = AdaBoostRegressor()"
      ],
      "execution_count": null,
      "outputs": []
    },
    {
      "cell_type": "code",
      "metadata": {
        "colab": {
          "base_uri": "https://localhost:8080/"
        },
        "id": "nflklSC8NFdU",
        "outputId": "b7887116-4167-4ee3-8298-30deef2cffa6"
      },
      "source": [
        "Adar.fit(xtrain,ytrain)"
      ],
      "execution_count": null,
      "outputs": [
        {
          "output_type": "execute_result",
          "data": {
            "text/plain": [
              "AdaBoostRegressor(base_estimator=None, learning_rate=1.0, loss='linear',\n",
              "                  n_estimators=50, random_state=None)"
            ]
          },
          "metadata": {},
          "execution_count": 143
        }
      ]
    },
    {
      "cell_type": "code",
      "metadata": {
        "colab": {
          "base_uri": "https://localhost:8080/"
        },
        "id": "G2lAkr4mNIh5",
        "outputId": "c05cadfd-0e5b-4d2e-9cca-a051018118c9"
      },
      "source": [
        "Adar.score(xtest,ytest)"
      ],
      "execution_count": null,
      "outputs": [
        {
          "output_type": "execute_result",
          "data": {
            "text/plain": [
              "0.9372846441947567"
            ]
          },
          "metadata": {},
          "execution_count": 144
        }
      ]
    },
    {
      "cell_type": "code",
      "metadata": {
        "id": "2JzQZO6MESE3"
      },
      "source": [
        "yAdar = Adar.predict(xtest)"
      ],
      "execution_count": null,
      "outputs": []
    },
    {
      "cell_type": "code",
      "metadata": {
        "colab": {
          "base_uri": "https://localhost:8080/"
        },
        "id": "F776wJLpEc0S",
        "outputId": "23081f8b-eb4d-4427-c080-5bd5b16e5fe6"
      },
      "source": [
        "yAdar"
      ],
      "execution_count": null,
      "outputs": [
        {
          "output_type": "execute_result",
          "data": {
            "text/plain": [
              "array([77333.33333333, 71000.        , 55000.        , 91000.        ,\n",
              "       61000.        , 92500.        ])"
            ]
          },
          "metadata": {},
          "execution_count": 146
        }
      ]
    },
    {
      "cell_type": "code",
      "metadata": {
        "id": "P-ZtwRFjNMpf"
      },
      "source": [
        "Adac = AdaBoostClassifier()"
      ],
      "execution_count": null,
      "outputs": []
    },
    {
      "cell_type": "code",
      "metadata": {
        "colab": {
          "base_uri": "https://localhost:8080/"
        },
        "id": "oJlkugpyNUWj",
        "outputId": "9ab73c4b-97d6-430a-f5d2-28587d2054b1"
      },
      "source": [
        "Adac.fit(xtrain,ytrain)"
      ],
      "execution_count": null,
      "outputs": [
        {
          "output_type": "execute_result",
          "data": {
            "text/plain": [
              "AdaBoostClassifier(algorithm='SAMME.R', base_estimator=None, learning_rate=1.0,\n",
              "                   n_estimators=50, random_state=None)"
            ]
          },
          "metadata": {},
          "execution_count": 148
        }
      ]
    },
    {
      "cell_type": "code",
      "metadata": {
        "colab": {
          "base_uri": "https://localhost:8080/"
        },
        "id": "k5lEnQJVNWLF",
        "outputId": "ffe58b2b-2253-4beb-9746-c0c79981f89c"
      },
      "source": [
        "Adac.score(xtest,ytest)"
      ],
      "execution_count": null,
      "outputs": [
        {
          "output_type": "execute_result",
          "data": {
            "text/plain": [
              "0.16666666666666666"
            ]
          },
          "metadata": {},
          "execution_count": 149
        }
      ]
    },
    {
      "cell_type": "markdown",
      "metadata": {
        "id": "4laBG0P7NfWd"
      },
      "source": [
        "#Precision Testing"
      ]
    },
    {
      "cell_type": "code",
      "metadata": {
        "id": "B-ZjWksUDBuq"
      },
      "source": [
        "from sklearn.metrics import confusion_matrix"
      ],
      "execution_count": null,
      "outputs": []
    },
    {
      "cell_type": "code",
      "metadata": {
        "id": "qqFgQDHvDyeO"
      },
      "source": [
        "expected = ytest"
      ],
      "execution_count": null,
      "outputs": []
    },
    {
      "cell_type": "code",
      "metadata": {
        "id": "yHebkOV3EiQZ"
      },
      "source": [
        "predicted = yAdar"
      ],
      "execution_count": null,
      "outputs": []
    },
    {
      "cell_type": "code",
      "metadata": {
        "id": "DfeyduXhEm3B"
      },
      "source": [
        "results = confusion_matrix(expected, predicted)"
      ],
      "execution_count": null,
      "outputs": []
    },
    {
      "cell_type": "code",
      "metadata": {
        "colab": {
          "base_uri": "https://localhost:8080/"
        },
        "id": "U2RP_lWOEqIb",
        "outputId": "4ad30b98-5deb-4966-b7f9-fd551ba8678b"
      },
      "source": [
        "results"
      ],
      "execution_count": null,
      "outputs": [
        {
          "output_type": "execute_result",
          "data": {
            "text/plain": [
              "array([[0, 0, 0, 0, 0, 0, 0, 0, 0, 0],\n",
              "       [1, 0, 0, 0, 0, 0, 0, 0, 0, 0],\n",
              "       [0, 0, 0, 0, 0, 0, 0, 0, 0, 0],\n",
              "       [0, 0, 1, 0, 0, 0, 0, 0, 0, 0],\n",
              "       [0, 0, 0, 0, 0, 1, 0, 0, 0, 0],\n",
              "       [0, 0, 0, 0, 0, 0, 0, 0, 0, 0],\n",
              "       [0, 0, 0, 0, 0, 0, 0, 0, 0, 0],\n",
              "       [0, 0, 0, 0, 0, 0, 1, 0, 0, 0],\n",
              "       [0, 0, 0, 0, 0, 0, 0, 0, 0, 1],\n",
              "       [0, 0, 0, 0, 0, 0, 0, 0, 0, 1]])"
            ]
          },
          "metadata": {},
          "execution_count": 142
        }
      ]
    },
    {
      "cell_type": "code",
      "metadata": {
        "colab": {
          "base_uri": "https://localhost:8080/"
        },
        "id": "ubQg_5evOI-f",
        "outputId": "7052a037-e06e-4d57-ae39-5c3e887ee6c0"
      },
      "source": [
        "recall = np.diag(results) / np.sum(results, axis = 1)"
      ],
      "execution_count": null,
      "outputs": [
        {
          "output_type": "stream",
          "name": "stderr",
          "text": [
            "/usr/local/lib/python3.7/dist-packages/ipykernel_launcher.py:1: RuntimeWarning: invalid value encountered in true_divide\n",
            "  \"\"\"Entry point for launching an IPython kernel.\n"
          ]
        }
      ]
    },
    {
      "cell_type": "code",
      "metadata": {
        "colab": {
          "base_uri": "https://localhost:8080/"
        },
        "id": "FDo5Wmz4OOZa",
        "outputId": "da3b9406-1e8b-4204-9276-971933894202"
      },
      "source": [
        "recall"
      ],
      "execution_count": null,
      "outputs": [
        {
          "output_type": "execute_result",
          "data": {
            "text/plain": [
              "array([nan,  0., nan,  0.,  0., nan, nan,  0.,  0.,  1.])"
            ]
          },
          "metadata": {},
          "execution_count": 206
        }
      ]
    },
    {
      "cell_type": "code",
      "metadata": {
        "colab": {
          "base_uri": "https://localhost:8080/"
        },
        "id": "qEUFZF7eOVU0",
        "outputId": "e4f5ce3a-27a2-468c-8b09-a82fdb5e8138"
      },
      "source": [
        "precision = np.diag(results) / np.sum(results, axis = 0)"
      ],
      "execution_count": null,
      "outputs": [
        {
          "output_type": "stream",
          "name": "stderr",
          "text": [
            "/usr/local/lib/python3.7/dist-packages/ipykernel_launcher.py:1: RuntimeWarning: invalid value encountered in true_divide\n",
            "  \"\"\"Entry point for launching an IPython kernel.\n"
          ]
        }
      ]
    },
    {
      "cell_type": "code",
      "metadata": {
        "id": "5avrkxZyOZES",
        "colab": {
          "base_uri": "https://localhost:8080/"
        },
        "outputId": "9b169a32-0451-40c8-c045-58f275581bef"
      },
      "source": [
        "precision"
      ],
      "execution_count": null,
      "outputs": [
        {
          "output_type": "execute_result",
          "data": {
            "text/plain": [
              "array([0. , nan, 0. , nan, nan, 0. , 0. , nan, nan, 0.5])"
            ]
          },
          "metadata": {},
          "execution_count": 208
        }
      ]
    },
    {
      "cell_type": "code",
      "metadata": {
        "id": "wSuAKQICF1ee"
      },
      "source": [
        "from sklearn.metrics import precision_score"
      ],
      "execution_count": null,
      "outputs": []
    },
    {
      "cell_type": "code",
      "metadata": {
        "colab": {
          "base_uri": "https://localhost:8080/"
        },
        "id": "kHonRMaOHB0S",
        "outputId": "3b559911-68f0-41a2-fe05-f868c5b17ba0"
      },
      "source": [
        "precision = precision_score(ytest, yClfr, pos_label='positive', average='micro')"
      ],
      "execution_count": null,
      "outputs": [
        {
          "output_type": "stream",
          "name": "stderr",
          "text": [
            "/usr/local/lib/python3.7/dist-packages/sklearn/metrics/_classification.py:1321: UserWarning: Note that pos_label (set to 'positive') is ignored when average != 'binary' (got 'micro'). You may use labels=[pos_label] to specify a single positive class.\n",
            "  % (pos_label, average), UserWarning)\n"
          ]
        }
      ]
    },
    {
      "cell_type": "code",
      "metadata": {
        "colab": {
          "base_uri": "https://localhost:8080/"
        },
        "id": "oz7pOoKvHdv7",
        "outputId": "ffe32c38-ed49-48d1-9324-b24bc5b033a1"
      },
      "source": [
        "print('Precision: ',precision)"
      ],
      "execution_count": null,
      "outputs": [
        {
          "output_type": "stream",
          "name": "stdout",
          "text": [
            "Precision:  0.16666666666666666\n"
          ]
        }
      ]
    },
    {
      "cell_type": "code",
      "metadata": {
        "id": "j1UmIrKLH_BV"
      },
      "source": [
        "from sklearn.metrics import recall_score"
      ],
      "execution_count": null,
      "outputs": []
    },
    {
      "cell_type": "code",
      "metadata": {
        "id": "5TWQu3jAHnZ8"
      },
      "source": [
        "recall = recall_score(ytest, yAdar, average='micro')"
      ],
      "execution_count": null,
      "outputs": []
    },
    {
      "cell_type": "code",
      "metadata": {
        "colab": {
          "base_uri": "https://localhost:8080/"
        },
        "id": "h-_6q0vsID4E",
        "outputId": "5a880e84-5c56-4d51-d923-05349d656e4d"
      },
      "source": [
        "print('Recall: ',recall)"
      ],
      "execution_count": null,
      "outputs": [
        {
          "output_type": "stream",
          "name": "stdout",
          "text": [
            "Recall:  0.16666666666666666\n"
          ]
        }
      ]
    },
    {
      "cell_type": "code",
      "metadata": {
        "id": "vDj3qc6pIxcE"
      },
      "source": [
        "from sklearn.metrics import plot_precision_recall_curve"
      ],
      "execution_count": null,
      "outputs": []
    },
    {
      "cell_type": "code",
      "metadata": {
        "id": "-nPE7fMAIHr4"
      },
      "source": [
        "from sklearn.metrics import f1_score"
      ],
      "execution_count": null,
      "outputs": []
    },
    {
      "cell_type": "code",
      "metadata": {
        "id": "NrbV9u7eKI_0"
      },
      "source": [
        "f1 = f1_score(ytest, yAdar, average='micro')"
      ],
      "execution_count": null,
      "outputs": []
    },
    {
      "cell_type": "code",
      "metadata": {
        "colab": {
          "base_uri": "https://localhost:8080/"
        },
        "id": "DCRA4KtJKQEW",
        "outputId": "0dad0f80-ccb2-4a19-97e5-4db54ae9dc69"
      },
      "source": [
        "f1"
      ],
      "execution_count": null,
      "outputs": [
        {
          "output_type": "execute_result",
          "data": {
            "text/plain": [
              "0.16666666666666666"
            ]
          },
          "metadata": {},
          "execution_count": 201
        }
      ]
    },
    {
      "cell_type": "code",
      "metadata": {
        "id": "GAH4-qKoM9_C"
      },
      "source": [
        "def precision(ytest, yAdar):\n",
        "    i = set(ytest).intersection(yAdar)\n",
        "    len1 = len(yAdar)\n",
        "    if len1 == 0:\n",
        "        return 0\n",
        "    else:\n",
        "        return len(i) / len1"
      ],
      "execution_count": null,
      "outputs": []
    },
    {
      "cell_type": "code",
      "metadata": {
        "id": "0-cqT09vNG7O"
      },
      "source": [],
      "execution_count": null,
      "outputs": []
    },
    {
      "cell_type": "markdown",
      "metadata": {
        "id": "dceFDESjX4F9"
      },
      "source": []
    },
    {
      "cell_type": "markdown",
      "metadata": {
        "id": "XaUC3ZCMX6m7"
      },
      "source": [
        "#Artificial Neural Network"
      ]
    },
    {
      "cell_type": "code",
      "metadata": {
        "colab": {
          "base_uri": "https://localhost:8080/"
        },
        "id": "6TizqSlliFf4",
        "outputId": "73a2a16a-9137-4010-84f2-ab15945699d4"
      },
      "source": [
        "!apt-get -qq install -y libarchive-dev && pip install -U libarchive\n",
        "import libarchive"
      ],
      "execution_count": null,
      "outputs": [
        {
          "output_type": "stream",
          "name": "stdout",
          "text": [
            "Selecting previously unselected package libarchive-dev:amd64.\n",
            "(Reading database ... 155013 files and directories currently installed.)\n",
            "Preparing to unpack .../libarchive-dev_3.2.2-3.1ubuntu0.7_amd64.deb ...\n",
            "Unpacking libarchive-dev:amd64 (3.2.2-3.1ubuntu0.7) ...\n",
            "Setting up libarchive-dev:amd64 (3.2.2-3.1ubuntu0.7) ...\n",
            "Processing triggers for man-db (2.8.3-2ubuntu0.1) ...\n",
            "Collecting libarchive\n",
            "  Downloading libarchive-0.4.7.tar.gz (23 kB)\n",
            "Collecting nose\n",
            "  Downloading nose-1.3.7-py3-none-any.whl (154 kB)\n",
            "\u001b[K     |████████████████████████████████| 154 kB 12.3 MB/s \n",
            "\u001b[?25hBuilding wheels for collected packages: libarchive\n",
            "  Building wheel for libarchive (setup.py) ... \u001b[?25l\u001b[?25hdone\n",
            "  Created wheel for libarchive: filename=libarchive-0.4.7-py3-none-any.whl size=31647 sha256=cf52065b34234ce29dc14f835a5885b53419a8e0e0810160fa8af5dd03a5ca1b\n",
            "  Stored in directory: /root/.cache/pip/wheels/63/b1/c6/b3da79bec2012175bd43603eed98ef8548ac1733b77c1d4330\n",
            "Successfully built libarchive\n",
            "Installing collected packages: nose, libarchive\n",
            "Successfully installed libarchive-0.4.7 nose-1.3.7\n"
          ]
        }
      ]
    },
    {
      "cell_type": "code",
      "metadata": {
        "id": "i1DTqfVfioWy"
      },
      "source": [
        "import numpy as np\n",
        "import matplotlib.pyplot as plt\n",
        "import tensorflow as tf\n",
        "from tensorflow import keras\n",
        "from tensorflow.keras.layers import Dense\n",
        "from tensorflow.keras.utils import to_categorical\n",
        "from tensorflow.keras import layers\n",
        "import seaborn"
      ],
      "execution_count": null,
      "outputs": []
    },
    {
      "cell_type": "code",
      "metadata": {
        "colab": {
          "base_uri": "https://localhost:8080/"
        },
        "id": "5puqeraSiqEA",
        "outputId": "e740fcaf-34ec-4069-d27a-e2608f80fd8e"
      },
      "source": [
        "model = keras.Sequential([\n",
        "                          keras.layers.Dense(22, input_shape=(21,), activation='relu'),\n",
        "                          keras.layers.Dense(10, activation='relu'),\n",
        "                          keras.layers.Dense(1, activation='sigmoid')\n",
        "])\n",
        "\n",
        "model.compile( optimizer='adam',\n",
        "              loss='binary_crossentropy',\n",
        "              metrics=['accuracy'] )\n",
        "\n",
        "model.fit(xtrain, ytrain, epochs=100)"
      ],
      "execution_count": null,
      "outputs": [
        {
          "output_type": "stream",
          "name": "stdout",
          "text": [
            "Epoch 1/100\n",
            "1/1 [==============================] - 1s 782ms/step - loss: -6176792576.0000 - accuracy: 0.0000e+00\n",
            "Epoch 2/100\n",
            "1/1 [==============================] - 0s 8ms/step - loss: -6507834880.0000 - accuracy: 0.0000e+00\n",
            "Epoch 3/100\n",
            "1/1 [==============================] - 0s 6ms/step - loss: -6840560128.0000 - accuracy: 0.0000e+00\n",
            "Epoch 4/100\n",
            "1/1 [==============================] - 0s 6ms/step - loss: -7160761856.0000 - accuracy: 0.0000e+00\n",
            "Epoch 5/100\n",
            "1/1 [==============================] - 0s 6ms/step - loss: -7472845312.0000 - accuracy: 0.0000e+00\n",
            "Epoch 6/100\n",
            "1/1 [==============================] - 0s 6ms/step - loss: -7788606976.0000 - accuracy: 0.0000e+00\n",
            "Epoch 7/100\n",
            "1/1 [==============================] - 0s 6ms/step - loss: -8107828224.0000 - accuracy: 0.0000e+00\n",
            "Epoch 8/100\n",
            "1/1 [==============================] - 0s 6ms/step - loss: -8420113920.0000 - accuracy: 0.0000e+00\n",
            "Epoch 9/100\n",
            "1/1 [==============================] - 0s 5ms/step - loss: -8718750720.0000 - accuracy: 0.0000e+00\n",
            "Epoch 10/100\n",
            "1/1 [==============================] - 0s 5ms/step - loss: -9030704128.0000 - accuracy: 0.0000e+00\n",
            "Epoch 11/100\n",
            "1/1 [==============================] - 0s 5ms/step - loss: -9352266752.0000 - accuracy: 0.0000e+00\n",
            "Epoch 12/100\n",
            "1/1 [==============================] - 0s 8ms/step - loss: -9680271360.0000 - accuracy: 0.0000e+00\n",
            "Epoch 13/100\n",
            "1/1 [==============================] - 0s 6ms/step - loss: -10014049280.0000 - accuracy: 0.0000e+00\n",
            "Epoch 14/100\n",
            "1/1 [==============================] - 0s 7ms/step - loss: -10363982848.0000 - accuracy: 0.0000e+00\n",
            "Epoch 15/100\n",
            "1/1 [==============================] - 0s 4ms/step - loss: -10727595008.0000 - accuracy: 0.0000e+00\n",
            "Epoch 16/100\n",
            "1/1 [==============================] - 0s 5ms/step - loss: -11110612992.0000 - accuracy: 0.0000e+00\n",
            "Epoch 17/100\n",
            "1/1 [==============================] - 0s 4ms/step - loss: -11499826176.0000 - accuracy: 0.0000e+00\n",
            "Epoch 18/100\n",
            "1/1 [==============================] - 0s 4ms/step - loss: -11894854656.0000 - accuracy: 0.0000e+00\n",
            "Epoch 19/100\n",
            "1/1 [==============================] - 0s 9ms/step - loss: -12295395328.0000 - accuracy: 0.0000e+00\n",
            "Epoch 20/100\n",
            "1/1 [==============================] - 0s 5ms/step - loss: -12701188096.0000 - accuracy: 0.0000e+00\n",
            "Epoch 21/100\n",
            "1/1 [==============================] - 0s 5ms/step - loss: -13112096768.0000 - accuracy: 0.0000e+00\n",
            "Epoch 22/100\n",
            "1/1 [==============================] - 0s 5ms/step - loss: -13531317248.0000 - accuracy: 0.0000e+00\n",
            "Epoch 23/100\n",
            "1/1 [==============================] - 0s 7ms/step - loss: -13971182592.0000 - accuracy: 0.0000e+00\n",
            "Epoch 24/100\n",
            "1/1 [==============================] - 0s 6ms/step - loss: -14426598400.0000 - accuracy: 0.0000e+00\n",
            "Epoch 25/100\n",
            "1/1 [==============================] - 0s 6ms/step - loss: -14894307328.0000 - accuracy: 0.0000e+00\n",
            "Epoch 26/100\n",
            "1/1 [==============================] - 0s 9ms/step - loss: -15368434688.0000 - accuracy: 0.0000e+00\n",
            "Epoch 27/100\n",
            "1/1 [==============================] - 0s 7ms/step - loss: -15849303040.0000 - accuracy: 0.0000e+00\n",
            "Epoch 28/100\n",
            "1/1 [==============================] - 0s 5ms/step - loss: -16338725888.0000 - accuracy: 0.0000e+00\n",
            "Epoch 29/100\n",
            "1/1 [==============================] - 0s 5ms/step - loss: -16836531200.0000 - accuracy: 0.0000e+00\n",
            "Epoch 30/100\n",
            "1/1 [==============================] - 0s 6ms/step - loss: -17342394368.0000 - accuracy: 0.0000e+00\n",
            "Epoch 31/100\n",
            "1/1 [==============================] - 0s 6ms/step - loss: -17856077824.0000 - accuracy: 0.0000e+00\n",
            "Epoch 32/100\n",
            "1/1 [==============================] - 0s 6ms/step - loss: -18377420800.0000 - accuracy: 0.0000e+00\n",
            "Epoch 33/100\n",
            "1/1 [==============================] - 0s 6ms/step - loss: -18906318848.0000 - accuracy: 0.0000e+00\n",
            "Epoch 34/100\n",
            "1/1 [==============================] - 0s 6ms/step - loss: -19442710528.0000 - accuracy: 0.0000e+00\n",
            "Epoch 35/100\n",
            "1/1 [==============================] - 0s 7ms/step - loss: -19984158720.0000 - accuracy: 0.0000e+00\n",
            "Epoch 36/100\n",
            "1/1 [==============================] - 0s 6ms/step - loss: -20528011264.0000 - accuracy: 0.0000e+00\n",
            "Epoch 37/100\n",
            "1/1 [==============================] - 0s 11ms/step - loss: -21078802432.0000 - accuracy: 0.0000e+00\n",
            "Epoch 38/100\n",
            "1/1 [==============================] - 0s 5ms/step - loss: -21637150720.0000 - accuracy: 0.0000e+00\n",
            "Epoch 39/100\n",
            "1/1 [==============================] - 0s 5ms/step - loss: -22201964544.0000 - accuracy: 0.0000e+00\n",
            "Epoch 40/100\n",
            "1/1 [==============================] - 0s 8ms/step - loss: -22773141504.0000 - accuracy: 0.0000e+00\n",
            "Epoch 41/100\n",
            "1/1 [==============================] - 0s 5ms/step - loss: -23351904256.0000 - accuracy: 0.0000e+00\n",
            "Epoch 42/100\n",
            "1/1 [==============================] - 0s 5ms/step - loss: -23937970176.0000 - accuracy: 0.0000e+00\n",
            "Epoch 43/100\n",
            "1/1 [==============================] - 0s 10ms/step - loss: -24522934272.0000 - accuracy: 0.0000e+00\n",
            "Epoch 44/100\n",
            "1/1 [==============================] - 0s 15ms/step - loss: -25110167552.0000 - accuracy: 0.0000e+00\n",
            "Epoch 45/100\n",
            "1/1 [==============================] - 0s 10ms/step - loss: -25700796416.0000 - accuracy: 0.0000e+00\n",
            "Epoch 46/100\n",
            "1/1 [==============================] - 0s 6ms/step - loss: -26290176000.0000 - accuracy: 0.0000e+00\n",
            "Epoch 47/100\n",
            "1/1 [==============================] - 0s 9ms/step - loss: -26867267584.0000 - accuracy: 0.0000e+00\n",
            "Epoch 48/100\n",
            "1/1 [==============================] - 0s 4ms/step - loss: -27444459520.0000 - accuracy: 0.0000e+00\n",
            "Epoch 49/100\n",
            "1/1 [==============================] - 0s 5ms/step - loss: -28030482432.0000 - accuracy: 0.0000e+00\n",
            "Epoch 50/100\n",
            "1/1 [==============================] - 0s 5ms/step - loss: -28625420288.0000 - accuracy: 0.0000e+00\n",
            "Epoch 51/100\n",
            "1/1 [==============================] - 0s 6ms/step - loss: -29229385728.0000 - accuracy: 0.0000e+00\n",
            "Epoch 52/100\n",
            "1/1 [==============================] - 0s 8ms/step - loss: -29842503680.0000 - accuracy: 0.0000e+00\n",
            "Epoch 53/100\n",
            "1/1 [==============================] - 0s 4ms/step - loss: -30464915456.0000 - accuracy: 0.0000e+00\n",
            "Epoch 54/100\n",
            "1/1 [==============================] - 0s 5ms/step - loss: -31096723456.0000 - accuracy: 0.0000e+00\n",
            "Epoch 55/100\n",
            "1/1 [==============================] - 0s 10ms/step - loss: -31736657920.0000 - accuracy: 0.0000e+00\n",
            "Epoch 56/100\n",
            "1/1 [==============================] - 0s 5ms/step - loss: -32387727360.0000 - accuracy: 0.0000e+00\n",
            "Epoch 57/100\n",
            "1/1 [==============================] - 0s 5ms/step - loss: -33049640960.0000 - accuracy: 0.0000e+00\n",
            "Epoch 58/100\n",
            "1/1 [==============================] - 0s 5ms/step - loss: -33720084480.0000 - accuracy: 0.0000e+00\n",
            "Epoch 59/100\n",
            "1/1 [==============================] - 0s 7ms/step - loss: -34398867456.0000 - accuracy: 0.0000e+00\n",
            "Epoch 60/100\n",
            "1/1 [==============================] - 0s 6ms/step - loss: -35087392768.0000 - accuracy: 0.0000e+00\n",
            "Epoch 61/100\n",
            "1/1 [==============================] - 0s 5ms/step - loss: -35785936896.0000 - accuracy: 0.0000e+00\n",
            "Epoch 62/100\n",
            "1/1 [==============================] - 0s 6ms/step - loss: -36493348864.0000 - accuracy: 0.0000e+00\n",
            "Epoch 63/100\n",
            "1/1 [==============================] - 0s 7ms/step - loss: -37211033600.0000 - accuracy: 0.0000e+00\n",
            "Epoch 64/100\n",
            "1/1 [==============================] - 0s 5ms/step - loss: -37940064256.0000 - accuracy: 0.0000e+00\n",
            "Epoch 65/100\n",
            "1/1 [==============================] - 0s 9ms/step - loss: -38680633344.0000 - accuracy: 0.0000e+00\n",
            "Epoch 66/100\n",
            "1/1 [==============================] - 0s 5ms/step - loss: -39432937472.0000 - accuracy: 0.0000e+00\n",
            "Epoch 67/100\n",
            "1/1 [==============================] - 0s 5ms/step - loss: -40197169152.0000 - accuracy: 0.0000e+00\n",
            "Epoch 68/100\n",
            "1/1 [==============================] - 0s 6ms/step - loss: -40973524992.0000 - accuracy: 0.0000e+00\n",
            "Epoch 69/100\n",
            "1/1 [==============================] - 0s 10ms/step - loss: -41762201600.0000 - accuracy: 0.0000e+00\n",
            "Epoch 70/100\n",
            "1/1 [==============================] - 0s 6ms/step - loss: -42563407872.0000 - accuracy: 0.0000e+00\n",
            "Epoch 71/100\n",
            "1/1 [==============================] - 0s 17ms/step - loss: -43377348608.0000 - accuracy: 0.0000e+00\n",
            "Epoch 72/100\n",
            "1/1 [==============================] - 0s 5ms/step - loss: -44204220416.0000 - accuracy: 0.0000e+00\n",
            "Epoch 73/100\n",
            "1/1 [==============================] - 0s 5ms/step - loss: -45044232192.0000 - accuracy: 0.0000e+00\n",
            "Epoch 74/100\n",
            "1/1 [==============================] - 0s 6ms/step - loss: -45897584640.0000 - accuracy: 0.0000e+00\n",
            "Epoch 75/100\n",
            "1/1 [==============================] - 0s 6ms/step - loss: -46764494848.0000 - accuracy: 0.0000e+00\n",
            "Epoch 76/100\n",
            "1/1 [==============================] - 0s 6ms/step - loss: -47645159424.0000 - accuracy: 0.0000e+00\n",
            "Epoch 77/100\n",
            "1/1 [==============================] - 0s 4ms/step - loss: -48539791360.0000 - accuracy: 0.0000e+00\n",
            "Epoch 78/100\n",
            "1/1 [==============================] - 0s 10ms/step - loss: -49448591360.0000 - accuracy: 0.0000e+00\n",
            "Epoch 79/100\n",
            "1/1 [==============================] - 0s 12ms/step - loss: -50371776512.0000 - accuracy: 0.0000e+00\n",
            "Epoch 80/100\n",
            "1/1 [==============================] - 0s 11ms/step - loss: -51309547520.0000 - accuracy: 0.0000e+00\n",
            "Epoch 81/100\n",
            "1/1 [==============================] - 0s 6ms/step - loss: -52262117376.0000 - accuracy: 0.0000e+00\n",
            "Epoch 82/100\n",
            "1/1 [==============================] - 0s 14ms/step - loss: -53229694976.0000 - accuracy: 0.0000e+00\n",
            "Epoch 83/100\n",
            "1/1 [==============================] - 0s 9ms/step - loss: -54212485120.0000 - accuracy: 0.0000e+00\n",
            "Epoch 84/100\n",
            "1/1 [==============================] - 0s 9ms/step - loss: -55210704896.0000 - accuracy: 0.0000e+00\n",
            "Epoch 85/100\n",
            "1/1 [==============================] - 0s 6ms/step - loss: -56224550912.0000 - accuracy: 0.0000e+00\n",
            "Epoch 86/100\n",
            "1/1 [==============================] - 0s 10ms/step - loss: -57254240256.0000 - accuracy: 0.0000e+00\n",
            "Epoch 87/100\n",
            "1/1 [==============================] - 0s 6ms/step - loss: -58299973632.0000 - accuracy: 0.0000e+00\n",
            "Epoch 88/100\n",
            "1/1 [==============================] - 0s 5ms/step - loss: -59361976320.0000 - accuracy: 0.0000e+00\n",
            "Epoch 89/100\n",
            "1/1 [==============================] - 0s 8ms/step - loss: -60440440832.0000 - accuracy: 0.0000e+00\n",
            "Epoch 90/100\n",
            "1/1 [==============================] - 0s 6ms/step - loss: -61535580160.0000 - accuracy: 0.0000e+00\n",
            "Epoch 91/100\n",
            "1/1 [==============================] - 0s 6ms/step - loss: -62647611392.0000 - accuracy: 0.0000e+00\n",
            "Epoch 92/100\n",
            "1/1 [==============================] - 0s 6ms/step - loss: -63776739328.0000 - accuracy: 0.0000e+00\n",
            "Epoch 93/100\n",
            "1/1 [==============================] - 0s 6ms/step - loss: -64923168768.0000 - accuracy: 0.0000e+00\n",
            "Epoch 94/100\n",
            "1/1 [==============================] - 0s 7ms/step - loss: -66087112704.0000 - accuracy: 0.0000e+00\n",
            "Epoch 95/100\n",
            "1/1 [==============================] - 0s 6ms/step - loss: -67268792320.0000 - accuracy: 0.0000e+00\n",
            "Epoch 96/100\n",
            "1/1 [==============================] - 0s 10ms/step - loss: -68468387840.0000 - accuracy: 0.0000e+00\n",
            "Epoch 97/100\n",
            "1/1 [==============================] - 0s 9ms/step - loss: -69686132736.0000 - accuracy: 0.0000e+00\n",
            "Epoch 98/100\n",
            "1/1 [==============================] - 0s 4ms/step - loss: -70922231808.0000 - accuracy: 0.0000e+00\n",
            "Epoch 99/100\n",
            "1/1 [==============================] - 0s 6ms/step - loss: -72176902144.0000 - accuracy: 0.0000e+00\n",
            "Epoch 100/100\n",
            "1/1 [==============================] - 0s 8ms/step - loss: -73450332160.0000 - accuracy: 0.0000e+00\n"
          ]
        },
        {
          "output_type": "execute_result",
          "data": {
            "text/plain": [
              "<keras.callbacks.History at 0x7f94de757b90>"
            ]
          },
          "metadata": {},
          "execution_count": 152
        }
      ]
    },
    {
      "cell_type": "code",
      "metadata": {
        "colab": {
          "base_uri": "https://localhost:8080/"
        },
        "id": "5-lWCfjWjIkc",
        "outputId": "3c21c257-4aeb-492a-9d95-6f38130d3623"
      },
      "source": [
        "model.evaluate(xtest, ytest)"
      ],
      "execution_count": null,
      "outputs": [
        {
          "output_type": "stream",
          "name": "stdout",
          "text": [
            "1/1 [==============================] - 0s 138ms/step - loss: -75372929024.0000 - accuracy: 0.0000e+00\n"
          ]
        },
        {
          "output_type": "execute_result",
          "data": {
            "text/plain": [
              "[-75372929024.0, 0.0]"
            ]
          },
          "metadata": {},
          "execution_count": 153
        }
      ]
    },
    {
      "cell_type": "code",
      "metadata": {
        "colab": {
          "base_uri": "https://localhost:8080/"
        },
        "id": "Q1Dubd2okg8h",
        "outputId": "f2f4c698-4050-4845-980b-b6af8b1fb97a"
      },
      "source": [
        "!pip install tensorflow\n",
        "!pip install keras"
      ],
      "execution_count": null,
      "outputs": [
        {
          "output_type": "stream",
          "name": "stdout",
          "text": [
            "Requirement already satisfied: tensorflow in /usr/local/lib/python3.7/dist-packages (2.2.0)\n",
            "Requirement already satisfied: tensorboard<2.3.0,>=2.2.0 in /usr/local/lib/python3.7/dist-packages (from tensorflow) (2.2.2)\n",
            "Requirement already satisfied: opt-einsum>=2.3.2 in /usr/local/lib/python3.7/dist-packages (from tensorflow) (3.3.0)\n",
            "Requirement already satisfied: google-pasta>=0.1.8 in /usr/local/lib/python3.7/dist-packages (from tensorflow) (0.2.0)\n",
            "Requirement already satisfied: astunparse==1.6.3 in /usr/local/lib/python3.7/dist-packages (from tensorflow) (1.6.3)\n",
            "Requirement already satisfied: protobuf>=3.8.0 in /usr/local/lib/python3.7/dist-packages (from tensorflow) (3.17.3)\n",
            "Requirement already satisfied: tensorflow-estimator<2.3.0,>=2.2.0 in /usr/local/lib/python3.7/dist-packages (from tensorflow) (2.2.0)\n",
            "Requirement already satisfied: termcolor>=1.1.0 in /usr/local/lib/python3.7/dist-packages (from tensorflow) (1.1.0)\n",
            "Requirement already satisfied: six>=1.12.0 in /usr/local/lib/python3.7/dist-packages (from tensorflow) (1.15.0)\n",
            "Requirement already satisfied: grpcio>=1.8.6 in /usr/local/lib/python3.7/dist-packages (from tensorflow) (1.40.0)\n",
            "Requirement already satisfied: wheel>=0.26 in /usr/local/lib/python3.7/dist-packages (from tensorflow) (0.37.0)\n",
            "Requirement already satisfied: numpy<2.0,>=1.16.0 in /usr/local/lib/python3.7/dist-packages (from tensorflow) (1.18.5)\n",
            "Requirement already satisfied: h5py<2.11.0,>=2.10.0 in /usr/local/lib/python3.7/dist-packages (from tensorflow) (2.10.0)\n",
            "Requirement already satisfied: keras-preprocessing>=1.1.0 in /usr/local/lib/python3.7/dist-packages (from tensorflow) (1.1.2)\n",
            "Requirement already satisfied: absl-py>=0.7.0 in /usr/local/lib/python3.7/dist-packages (from tensorflow) (0.12.0)\n",
            "Requirement already satisfied: wrapt>=1.11.1 in /usr/local/lib/python3.7/dist-packages (from tensorflow) (1.12.1)\n",
            "Requirement already satisfied: scipy==1.4.1 in /usr/local/lib/python3.7/dist-packages (from tensorflow) (1.4.1)\n",
            "Requirement already satisfied: gast==0.3.3 in /usr/local/lib/python3.7/dist-packages (from tensorflow) (0.3.3)\n",
            "Requirement already satisfied: werkzeug>=0.11.15 in /usr/local/lib/python3.7/dist-packages (from tensorboard<2.3.0,>=2.2.0->tensorflow) (1.0.1)\n",
            "Requirement already satisfied: tensorboard-plugin-wit>=1.6.0 in /usr/local/lib/python3.7/dist-packages (from tensorboard<2.3.0,>=2.2.0->tensorflow) (1.8.0)\n",
            "Requirement already satisfied: google-auth<2,>=1.6.3 in /usr/local/lib/python3.7/dist-packages (from tensorboard<2.3.0,>=2.2.0->tensorflow) (1.35.0)\n",
            "Requirement already satisfied: markdown>=2.6.8 in /usr/local/lib/python3.7/dist-packages (from tensorboard<2.3.0,>=2.2.0->tensorflow) (3.3.4)\n",
            "Requirement already satisfied: setuptools>=41.0.0 in /usr/local/lib/python3.7/dist-packages (from tensorboard<2.3.0,>=2.2.0->tensorflow) (57.4.0)\n",
            "Requirement already satisfied: google-auth-oauthlib<0.5,>=0.4.1 in /usr/local/lib/python3.7/dist-packages (from tensorboard<2.3.0,>=2.2.0->tensorflow) (0.4.6)\n",
            "Requirement already satisfied: requests<3,>=2.21.0 in /usr/local/lib/python3.7/dist-packages (from tensorboard<2.3.0,>=2.2.0->tensorflow) (2.23.0)\n",
            "Requirement already satisfied: pyasn1-modules>=0.2.1 in /usr/local/lib/python3.7/dist-packages (from google-auth<2,>=1.6.3->tensorboard<2.3.0,>=2.2.0->tensorflow) (0.2.8)\n",
            "Requirement already satisfied: cachetools<5.0,>=2.0.0 in /usr/local/lib/python3.7/dist-packages (from google-auth<2,>=1.6.3->tensorboard<2.3.0,>=2.2.0->tensorflow) (4.2.2)\n",
            "Requirement already satisfied: rsa<5,>=3.1.4 in /usr/local/lib/python3.7/dist-packages (from google-auth<2,>=1.6.3->tensorboard<2.3.0,>=2.2.0->tensorflow) (4.7.2)\n",
            "Requirement already satisfied: requests-oauthlib>=0.7.0 in /usr/local/lib/python3.7/dist-packages (from google-auth-oauthlib<0.5,>=0.4.1->tensorboard<2.3.0,>=2.2.0->tensorflow) (1.3.0)\n",
            "Requirement already satisfied: importlib-metadata in /usr/local/lib/python3.7/dist-packages (from markdown>=2.6.8->tensorboard<2.3.0,>=2.2.0->tensorflow) (4.8.1)\n",
            "Requirement already satisfied: pyasn1<0.5.0,>=0.4.6 in /usr/local/lib/python3.7/dist-packages (from pyasn1-modules>=0.2.1->google-auth<2,>=1.6.3->tensorboard<2.3.0,>=2.2.0->tensorflow) (0.4.8)\n",
            "Requirement already satisfied: urllib3!=1.25.0,!=1.25.1,<1.26,>=1.21.1 in /usr/local/lib/python3.7/dist-packages (from requests<3,>=2.21.0->tensorboard<2.3.0,>=2.2.0->tensorflow) (1.24.3)\n",
            "Requirement already satisfied: certifi>=2017.4.17 in /usr/local/lib/python3.7/dist-packages (from requests<3,>=2.21.0->tensorboard<2.3.0,>=2.2.0->tensorflow) (2021.5.30)\n",
            "Requirement already satisfied: idna<3,>=2.5 in /usr/local/lib/python3.7/dist-packages (from requests<3,>=2.21.0->tensorboard<2.3.0,>=2.2.0->tensorflow) (2.10)\n",
            "Requirement already satisfied: chardet<4,>=3.0.2 in /usr/local/lib/python3.7/dist-packages (from requests<3,>=2.21.0->tensorboard<2.3.0,>=2.2.0->tensorflow) (3.0.4)\n",
            "Requirement already satisfied: oauthlib>=3.0.0 in /usr/local/lib/python3.7/dist-packages (from requests-oauthlib>=0.7.0->google-auth-oauthlib<0.5,>=0.4.1->tensorboard<2.3.0,>=2.2.0->tensorflow) (3.1.1)\n",
            "Requirement already satisfied: typing-extensions>=3.6.4 in /usr/local/lib/python3.7/dist-packages (from importlib-metadata->markdown>=2.6.8->tensorboard<2.3.0,>=2.2.0->tensorflow) (3.7.4.3)\n",
            "Requirement already satisfied: zipp>=0.5 in /usr/local/lib/python3.7/dist-packages (from importlib-metadata->markdown>=2.6.8->tensorboard<2.3.0,>=2.2.0->tensorflow) (3.5.0)\n",
            "Requirement already satisfied: keras in /usr/local/lib/python3.7/dist-packages (2.6.0)\n"
          ]
        }
      ]
    },
    {
      "cell_type": "code",
      "metadata": {
        "id": "HG10oBnUktCY"
      },
      "source": [
        "from keras.models import Sequential\n",
        "from keras.layers import Dense"
      ],
      "execution_count": null,
      "outputs": []
    },
    {
      "cell_type": "code",
      "metadata": {
        "id": "nCbyL-CZkv38"
      },
      "source": [
        "modelR = Sequential()"
      ],
      "execution_count": null,
      "outputs": []
    },
    {
      "cell_type": "code",
      "metadata": {
        "id": "wPAUtnSvkyNP"
      },
      "source": [
        "modelR.add(Dense(units=5, input_dim=7, kernel_initializer='normal', activation='relu'))"
      ],
      "execution_count": null,
      "outputs": []
    },
    {
      "cell_type": "code",
      "metadata": {
        "id": "YpsPY8BMk6qa"
      },
      "source": [
        "modelR.add(Dense(units=5, kernel_initializer='normal', activation='tanh'))"
      ],
      "execution_count": null,
      "outputs": []
    },
    {
      "cell_type": "code",
      "metadata": {
        "id": "Whl-pcXxk9Y6"
      },
      "source": [
        "modelR.add(Dense(1, kernel_initializer='normal'))"
      ],
      "execution_count": null,
      "outputs": []
    },
    {
      "cell_type": "code",
      "metadata": {
        "id": "kmKGBrPnlATd"
      },
      "source": [
        "modelR.compile(loss='mean_squared_error', optimizer='adam')"
      ],
      "execution_count": null,
      "outputs": []
    },
    {
      "cell_type": "code",
      "metadata": {
        "colab": {
          "base_uri": "https://localhost:8080/"
        },
        "id": "R26SMJKElDYb",
        "outputId": "e55c8296-99e3-43e4-8a76-c7a87332dfdb"
      },
      "source": [
        "model.fit(xtrain, ytrain, batch_size = 20, epochs = 50, verbose=1)"
      ],
      "execution_count": null,
      "outputs": [
        {
          "output_type": "stream",
          "name": "stdout",
          "text": [
            "Epoch 1/50\n",
            "1/1 [==============================] - 0s 67ms/step - loss: -74742751232.0000 - accuracy: 0.0000e+00\n",
            "Epoch 2/50\n",
            "1/1 [==============================] - 0s 7ms/step - loss: -76054355968.0000 - accuracy: 0.0000e+00\n",
            "Epoch 3/50\n",
            "1/1 [==============================] - 0s 7ms/step - loss: -77385367552.0000 - accuracy: 0.0000e+00\n",
            "Epoch 4/50\n",
            "1/1 [==============================] - 0s 5ms/step - loss: -78735998976.0000 - accuracy: 0.0000e+00\n",
            "Epoch 5/50\n",
            "1/1 [==============================] - 0s 5ms/step - loss: -80106446848.0000 - accuracy: 0.0000e+00\n",
            "Epoch 6/50\n",
            "1/1 [==============================] - 0s 5ms/step - loss: -81496940544.0000 - accuracy: 0.0000e+00\n",
            "Epoch 7/50\n",
            "1/1 [==============================] - 0s 7ms/step - loss: -82907668480.0000 - accuracy: 0.0000e+00\n",
            "Epoch 8/50\n",
            "1/1 [==============================] - 0s 6ms/step - loss: -84338860032.0000 - accuracy: 0.0000e+00\n",
            "Epoch 9/50\n",
            "1/1 [==============================] - 0s 6ms/step - loss: -85790703616.0000 - accuracy: 0.0000e+00\n",
            "Epoch 10/50\n",
            "1/1 [==============================] - 0s 6ms/step - loss: -87263453184.0000 - accuracy: 0.0000e+00\n",
            "Epoch 11/50\n",
            "1/1 [==============================] - 0s 7ms/step - loss: -88757280768.0000 - accuracy: 0.0000e+00\n",
            "Epoch 12/50\n",
            "1/1 [==============================] - 0s 6ms/step - loss: -90272407552.0000 - accuracy: 0.0000e+00\n",
            "Epoch 13/50\n",
            "1/1 [==============================] - 0s 13ms/step - loss: -91809046528.0000 - accuracy: 0.0000e+00\n",
            "Epoch 14/50\n",
            "1/1 [==============================] - 0s 12ms/step - loss: -93367435264.0000 - accuracy: 0.0000e+00\n",
            "Epoch 15/50\n",
            "1/1 [==============================] - 0s 8ms/step - loss: -94947745792.0000 - accuracy: 0.0000e+00\n",
            "Epoch 16/50\n",
            "1/1 [==============================] - 0s 5ms/step - loss: -96550207488.0000 - accuracy: 0.0000e+00\n",
            "Epoch 17/50\n",
            "1/1 [==============================] - 0s 6ms/step - loss: -98175041536.0000 - accuracy: 0.0000e+00\n",
            "Epoch 18/50\n",
            "1/1 [==============================] - 0s 7ms/step - loss: -99822460928.0000 - accuracy: 0.0000e+00\n",
            "Epoch 19/50\n",
            "1/1 [==============================] - 0s 4ms/step - loss: -101492662272.0000 - accuracy: 0.0000e+00\n",
            "Epoch 20/50\n",
            "1/1 [==============================] - 0s 8ms/step - loss: -103185866752.0000 - accuracy: 0.0000e+00\n",
            "Epoch 21/50\n",
            "1/1 [==============================] - 0s 6ms/step - loss: -104902303744.0000 - accuracy: 0.0000e+00\n",
            "Epoch 22/50\n",
            "1/1 [==============================] - 0s 7ms/step - loss: -106642161664.0000 - accuracy: 0.0000e+00\n",
            "Epoch 23/50\n",
            "1/1 [==============================] - 0s 6ms/step - loss: -108405678080.0000 - accuracy: 0.0000e+00\n",
            "Epoch 24/50\n",
            "1/1 [==============================] - 0s 6ms/step - loss: -110193041408.0000 - accuracy: 0.0000e+00\n",
            "Epoch 25/50\n",
            "1/1 [==============================] - 0s 6ms/step - loss: -112004472832.0000 - accuracy: 0.0000e+00\n",
            "Epoch 26/50\n",
            "1/1 [==============================] - 0s 9ms/step - loss: -113840209920.0000 - accuracy: 0.0000e+00\n",
            "Epoch 27/50\n",
            "1/1 [==============================] - 0s 7ms/step - loss: -115700449280.0000 - accuracy: 0.0000e+00\n",
            "Epoch 28/50\n",
            "1/1 [==============================] - 0s 7ms/step - loss: -117585403904.0000 - accuracy: 0.0000e+00\n",
            "Epoch 29/50\n",
            "1/1 [==============================] - 0s 6ms/step - loss: -119495270400.0000 - accuracy: 0.0000e+00\n",
            "Epoch 30/50\n",
            "1/1 [==============================] - 0s 6ms/step - loss: -121430302720.0000 - accuracy: 0.0000e+00\n",
            "Epoch 31/50\n",
            "1/1 [==============================] - 0s 6ms/step - loss: -123390713856.0000 - accuracy: 0.0000e+00\n",
            "Epoch 32/50\n",
            "1/1 [==============================] - 0s 7ms/step - loss: -125376684032.0000 - accuracy: 0.0000e+00\n",
            "Epoch 33/50\n",
            "1/1 [==============================] - 0s 5ms/step - loss: -127388467200.0000 - accuracy: 0.0000e+00\n",
            "Epoch 34/50\n",
            "1/1 [==============================] - 0s 6ms/step - loss: -129426259968.0000 - accuracy: 0.0000e+00\n",
            "Epoch 35/50\n",
            "1/1 [==============================] - 0s 5ms/step - loss: -131490275328.0000 - accuracy: 0.0000e+00\n",
            "Epoch 36/50\n",
            "1/1 [==============================] - 0s 7ms/step - loss: -133580734464.0000 - accuracy: 0.0000e+00\n",
            "Epoch 37/50\n",
            "1/1 [==============================] - 0s 7ms/step - loss: -135697866752.0000 - accuracy: 0.0000e+00\n",
            "Epoch 38/50\n",
            "1/1 [==============================] - 0s 6ms/step - loss: -137841868800.0000 - accuracy: 0.0000e+00\n",
            "Epoch 39/50\n",
            "1/1 [==============================] - 0s 7ms/step - loss: -140012945408.0000 - accuracy: 0.0000e+00\n",
            "Epoch 40/50\n",
            "1/1 [==============================] - 0s 5ms/step - loss: -142211366912.0000 - accuracy: 0.0000e+00\n",
            "Epoch 41/50\n",
            "1/1 [==============================] - 0s 7ms/step - loss: -144437297152.0000 - accuracy: 0.0000e+00\n",
            "Epoch 42/50\n",
            "1/1 [==============================] - 0s 5ms/step - loss: -146690949120.0000 - accuracy: 0.0000e+00\n",
            "Epoch 43/50\n",
            "1/1 [==============================] - 0s 7ms/step - loss: -148972617728.0000 - accuracy: 0.0000e+00\n",
            "Epoch 44/50\n",
            "1/1 [==============================] - 0s 6ms/step - loss: -151282417664.0000 - accuracy: 0.0000e+00\n",
            "Epoch 45/50\n",
            "1/1 [==============================] - 0s 7ms/step - loss: -153620627456.0000 - accuracy: 0.0000e+00\n",
            "Epoch 46/50\n",
            "1/1 [==============================] - 0s 7ms/step - loss: -155987460096.0000 - accuracy: 0.0000e+00\n",
            "Epoch 47/50\n",
            "1/1 [==============================] - 0s 12ms/step - loss: -158383128576.0000 - accuracy: 0.0000e+00\n",
            "Epoch 48/50\n",
            "1/1 [==============================] - 0s 7ms/step - loss: -160807862272.0000 - accuracy: 0.0000e+00\n",
            "Epoch 49/50\n",
            "1/1 [==============================] - 0s 8ms/step - loss: -163261825024.0000 - accuracy: 0.0000e+00\n",
            "Epoch 50/50\n",
            "1/1 [==============================] - 0s 4ms/step - loss: -165745295360.0000 - accuracy: 0.0000e+00\n"
          ]
        },
        {
          "output_type": "execute_result",
          "data": {
            "text/plain": [
              "<keras.callbacks.History at 0x7f94d837f610>"
            ]
          },
          "metadata": {},
          "execution_count": 166
        }
      ]
    },
    {
      "cell_type": "markdown",
      "metadata": {
        "id": "GBjs65pzjMh6"
      },
      "source": [
        "#Impact Learning"
      ]
    },
    {
      "cell_type": "code",
      "metadata": {
        "colab": {
          "base_uri": "https://localhost:8080/",
          "height": 1000
        },
        "id": "kEWzITp0jOTt",
        "outputId": "2c67e265-2e7b-498f-83c4-77494ef2797e"
      },
      "source": [
        "! pip install ImpactLearning"
      ],
      "execution_count": null,
      "outputs": [
        {
          "output_type": "stream",
          "name": "stdout",
          "text": [
            "Collecting ImpactLearning\n",
            "  Downloading ImpactLearning-1.8-py3-none-any.whl (9.0 kB)\n",
            "Collecting tensorflow==2.2.0\n",
            "  Downloading tensorflow-2.2.0-cp37-cp37m-manylinux2010_x86_64.whl (516.2 MB)\n",
            "\u001b[K     |████████████████████████████████| 516.2 MB 4.1 kB/s \n",
            "\u001b[?25hCollecting h5py==2.10.0\n",
            "  Downloading h5py-2.10.0-cp37-cp37m-manylinux1_x86_64.whl (2.9 MB)\n",
            "\u001b[K     |████████████████████████████████| 2.9 MB 55.1 MB/s \n",
            "\u001b[?25hCollecting numpy==1.18.5\n",
            "  Downloading numpy-1.18.5-cp37-cp37m-manylinux1_x86_64.whl (20.1 MB)\n",
            "\u001b[K     |████████████████████████████████| 20.1 MB 1.3 MB/s \n",
            "\u001b[?25hRequirement already satisfied: six in /usr/local/lib/python3.7/dist-packages (from h5py==2.10.0->ImpactLearning) (1.15.0)\n",
            "Collecting tensorboard<2.3.0,>=2.2.0\n",
            "  Downloading tensorboard-2.2.2-py3-none-any.whl (3.0 MB)\n",
            "\u001b[K     |████████████████████████████████| 3.0 MB 67.2 MB/s \n",
            "\u001b[?25hCollecting gast==0.3.3\n",
            "  Downloading gast-0.3.3-py2.py3-none-any.whl (9.7 kB)\n",
            "Requirement already satisfied: protobuf>=3.8.0 in /usr/local/lib/python3.7/dist-packages (from tensorflow==2.2.0->ImpactLearning) (3.17.3)\n",
            "Requirement already satisfied: absl-py>=0.7.0 in /usr/local/lib/python3.7/dist-packages (from tensorflow==2.2.0->ImpactLearning) (0.12.0)\n",
            "Collecting tensorflow-estimator<2.3.0,>=2.2.0\n",
            "  Downloading tensorflow_estimator-2.2.0-py2.py3-none-any.whl (454 kB)\n",
            "\u001b[K     |████████████████████████████████| 454 kB 66.5 MB/s \n",
            "\u001b[?25hRequirement already satisfied: scipy==1.4.1 in /usr/local/lib/python3.7/dist-packages (from tensorflow==2.2.0->ImpactLearning) (1.4.1)\n",
            "Requirement already satisfied: wheel>=0.26 in /usr/local/lib/python3.7/dist-packages (from tensorflow==2.2.0->ImpactLearning) (0.37.0)\n",
            "Requirement already satisfied: wrapt>=1.11.1 in /usr/local/lib/python3.7/dist-packages (from tensorflow==2.2.0->ImpactLearning) (1.12.1)\n",
            "Requirement already satisfied: astunparse==1.6.3 in /usr/local/lib/python3.7/dist-packages (from tensorflow==2.2.0->ImpactLearning) (1.6.3)\n",
            "Requirement already satisfied: keras-preprocessing>=1.1.0 in /usr/local/lib/python3.7/dist-packages (from tensorflow==2.2.0->ImpactLearning) (1.1.2)\n",
            "Requirement already satisfied: opt-einsum>=2.3.2 in /usr/local/lib/python3.7/dist-packages (from tensorflow==2.2.0->ImpactLearning) (3.3.0)\n",
            "Requirement already satisfied: google-pasta>=0.1.8 in /usr/local/lib/python3.7/dist-packages (from tensorflow==2.2.0->ImpactLearning) (0.2.0)\n",
            "Requirement already satisfied: termcolor>=1.1.0 in /usr/local/lib/python3.7/dist-packages (from tensorflow==2.2.0->ImpactLearning) (1.1.0)\n",
            "Requirement already satisfied: grpcio>=1.8.6 in /usr/local/lib/python3.7/dist-packages (from tensorflow==2.2.0->ImpactLearning) (1.40.0)\n",
            "Requirement already satisfied: google-auth<2,>=1.6.3 in /usr/local/lib/python3.7/dist-packages (from tensorboard<2.3.0,>=2.2.0->tensorflow==2.2.0->ImpactLearning) (1.35.0)\n",
            "Requirement already satisfied: setuptools>=41.0.0 in /usr/local/lib/python3.7/dist-packages (from tensorboard<2.3.0,>=2.2.0->tensorflow==2.2.0->ImpactLearning) (57.4.0)\n",
            "Requirement already satisfied: markdown>=2.6.8 in /usr/local/lib/python3.7/dist-packages (from tensorboard<2.3.0,>=2.2.0->tensorflow==2.2.0->ImpactLearning) (3.3.4)\n",
            "Requirement already satisfied: requests<3,>=2.21.0 in /usr/local/lib/python3.7/dist-packages (from tensorboard<2.3.0,>=2.2.0->tensorflow==2.2.0->ImpactLearning) (2.23.0)\n",
            "Requirement already satisfied: tensorboard-plugin-wit>=1.6.0 in /usr/local/lib/python3.7/dist-packages (from tensorboard<2.3.0,>=2.2.0->tensorflow==2.2.0->ImpactLearning) (1.8.0)\n",
            "Requirement already satisfied: werkzeug>=0.11.15 in /usr/local/lib/python3.7/dist-packages (from tensorboard<2.3.0,>=2.2.0->tensorflow==2.2.0->ImpactLearning) (1.0.1)\n",
            "Requirement already satisfied: google-auth-oauthlib<0.5,>=0.4.1 in /usr/local/lib/python3.7/dist-packages (from tensorboard<2.3.0,>=2.2.0->tensorflow==2.2.0->ImpactLearning) (0.4.6)\n",
            "Requirement already satisfied: rsa<5,>=3.1.4 in /usr/local/lib/python3.7/dist-packages (from google-auth<2,>=1.6.3->tensorboard<2.3.0,>=2.2.0->tensorflow==2.2.0->ImpactLearning) (4.7.2)\n",
            "Requirement already satisfied: pyasn1-modules>=0.2.1 in /usr/local/lib/python3.7/dist-packages (from google-auth<2,>=1.6.3->tensorboard<2.3.0,>=2.2.0->tensorflow==2.2.0->ImpactLearning) (0.2.8)\n",
            "Requirement already satisfied: cachetools<5.0,>=2.0.0 in /usr/local/lib/python3.7/dist-packages (from google-auth<2,>=1.6.3->tensorboard<2.3.0,>=2.2.0->tensorflow==2.2.0->ImpactLearning) (4.2.2)\n",
            "Requirement already satisfied: requests-oauthlib>=0.7.0 in /usr/local/lib/python3.7/dist-packages (from google-auth-oauthlib<0.5,>=0.4.1->tensorboard<2.3.0,>=2.2.0->tensorflow==2.2.0->ImpactLearning) (1.3.0)\n",
            "Requirement already satisfied: importlib-metadata in /usr/local/lib/python3.7/dist-packages (from markdown>=2.6.8->tensorboard<2.3.0,>=2.2.0->tensorflow==2.2.0->ImpactLearning) (4.8.1)\n",
            "Requirement already satisfied: pyasn1<0.5.0,>=0.4.6 in /usr/local/lib/python3.7/dist-packages (from pyasn1-modules>=0.2.1->google-auth<2,>=1.6.3->tensorboard<2.3.0,>=2.2.0->tensorflow==2.2.0->ImpactLearning) (0.4.8)\n",
            "Requirement already satisfied: certifi>=2017.4.17 in /usr/local/lib/python3.7/dist-packages (from requests<3,>=2.21.0->tensorboard<2.3.0,>=2.2.0->tensorflow==2.2.0->ImpactLearning) (2021.5.30)\n",
            "Requirement already satisfied: idna<3,>=2.5 in /usr/local/lib/python3.7/dist-packages (from requests<3,>=2.21.0->tensorboard<2.3.0,>=2.2.0->tensorflow==2.2.0->ImpactLearning) (2.10)\n",
            "Requirement already satisfied: chardet<4,>=3.0.2 in /usr/local/lib/python3.7/dist-packages (from requests<3,>=2.21.0->tensorboard<2.3.0,>=2.2.0->tensorflow==2.2.0->ImpactLearning) (3.0.4)\n",
            "Requirement already satisfied: urllib3!=1.25.0,!=1.25.1,<1.26,>=1.21.1 in /usr/local/lib/python3.7/dist-packages (from requests<3,>=2.21.0->tensorboard<2.3.0,>=2.2.0->tensorflow==2.2.0->ImpactLearning) (1.24.3)\n",
            "Requirement already satisfied: oauthlib>=3.0.0 in /usr/local/lib/python3.7/dist-packages (from requests-oauthlib>=0.7.0->google-auth-oauthlib<0.5,>=0.4.1->tensorboard<2.3.0,>=2.2.0->tensorflow==2.2.0->ImpactLearning) (3.1.1)\n",
            "Requirement already satisfied: zipp>=0.5 in /usr/local/lib/python3.7/dist-packages (from importlib-metadata->markdown>=2.6.8->tensorboard<2.3.0,>=2.2.0->tensorflow==2.2.0->ImpactLearning) (3.5.0)\n",
            "Requirement already satisfied: typing-extensions>=3.6.4 in /usr/local/lib/python3.7/dist-packages (from importlib-metadata->markdown>=2.6.8->tensorboard<2.3.0,>=2.2.0->tensorflow==2.2.0->ImpactLearning) (3.7.4.3)\n",
            "Installing collected packages: numpy, tensorflow-estimator, tensorboard, h5py, gast, tensorflow, ImpactLearning\n",
            "  Attempting uninstall: numpy\n",
            "    Found existing installation: numpy 1.19.5\n",
            "    Uninstalling numpy-1.19.5:\n",
            "      Successfully uninstalled numpy-1.19.5\n",
            "  Attempting uninstall: tensorflow-estimator\n",
            "    Found existing installation: tensorflow-estimator 2.6.0\n",
            "    Uninstalling tensorflow-estimator-2.6.0:\n",
            "      Successfully uninstalled tensorflow-estimator-2.6.0\n",
            "  Attempting uninstall: tensorboard\n",
            "    Found existing installation: tensorboard 2.6.0\n",
            "    Uninstalling tensorboard-2.6.0:\n",
            "      Successfully uninstalled tensorboard-2.6.0\n",
            "  Attempting uninstall: h5py\n",
            "    Found existing installation: h5py 3.1.0\n",
            "    Uninstalling h5py-3.1.0:\n",
            "      Successfully uninstalled h5py-3.1.0\n",
            "  Attempting uninstall: gast\n",
            "    Found existing installation: gast 0.4.0\n",
            "    Uninstalling gast-0.4.0:\n",
            "      Successfully uninstalled gast-0.4.0\n",
            "  Attempting uninstall: tensorflow\n",
            "    Found existing installation: tensorflow 2.6.0\n",
            "    Uninstalling tensorflow-2.6.0:\n",
            "      Successfully uninstalled tensorflow-2.6.0\n",
            "\u001b[31mERROR: pip's dependency resolver does not currently take into account all the packages that are installed. This behaviour is the source of the following dependency conflicts.\n",
            "datascience 0.10.6 requires folium==0.2.1, but you have folium 0.8.3 which is incompatible.\n",
            "albumentations 0.1.12 requires imgaug<0.2.7,>=0.2.5, but you have imgaug 0.2.9 which is incompatible.\u001b[0m\n",
            "Successfully installed ImpactLearning-1.8 gast-0.3.3 h5py-2.10.0 numpy-1.18.5 tensorboard-2.2.2 tensorflow-2.2.0 tensorflow-estimator-2.2.0\n"
          ]
        },
        {
          "output_type": "display_data",
          "data": {
            "application/vnd.colab-display-data+json": {
              "pip_warning": {
                "packages": [
                  "gast",
                  "h5py",
                  "numpy",
                  "tensorboard",
                  "tensorflow"
                ]
              }
            }
          },
          "metadata": {}
        }
      ]
    },
    {
      "cell_type": "code",
      "metadata": {
        "id": "bTs-Cw7lj3SV"
      },
      "source": [
        "from ImpactLearning import Classifier"
      ],
      "execution_count": null,
      "outputs": []
    },
    {
      "cell_type": "code",
      "metadata": {
        "colab": {
          "base_uri": "https://localhost:8080/"
        },
        "id": "cvPSjJWVjwGN",
        "outputId": "7237d471-bea5-46d3-aa08-33a0b65e9b8a"
      },
      "source": [
        "il = Classifier()\n",
        "il.fit(xtrain, ytrain, xtest, ytest, CCapacity=1, num_classes=3, optimizer=\"GD\", loss_function=\"CategoricalCrossentropy\")\n",
        "il.train(epochs = 10000, lr=0.001, progress_per=100)"
      ],
      "execution_count": null,
      "outputs": [
        {
          "output_type": "stream",
          "name": "stdout",
          "text": [
            "Epoch: 100, train_loss: 0.000000, test_loss: 0.000000, train_accuracy: 0.000000 test_accuracy: 0.000000\n",
            "Epoch: 200, train_loss: 0.000000, test_loss: 0.000000, train_accuracy: 0.000000 test_accuracy: 0.000000\n",
            "Epoch: 300, train_loss: 0.000000, test_loss: 0.000000, train_accuracy: 0.000000 test_accuracy: 0.000000\n",
            "Epoch: 400, train_loss: 0.000000, test_loss: 0.000000, train_accuracy: 0.000000 test_accuracy: 0.000000\n",
            "Epoch: 500, train_loss: 0.000000, test_loss: 0.000000, train_accuracy: 0.000000 test_accuracy: 0.000000\n",
            "Epoch: 600, train_loss: 0.000000, test_loss: 0.000000, train_accuracy: 0.000000 test_accuracy: 0.000000\n",
            "Epoch: 700, train_loss: 0.000000, test_loss: 0.000000, train_accuracy: 0.000000 test_accuracy: 0.000000\n",
            "Epoch: 800, train_loss: 0.000000, test_loss: 0.000000, train_accuracy: 0.000000 test_accuracy: 0.000000\n",
            "Epoch: 900, train_loss: 0.000000, test_loss: 0.000000, train_accuracy: 0.000000 test_accuracy: 0.000000\n",
            "Epoch: 1000, train_loss: 0.000000, test_loss: 0.000000, train_accuracy: 0.000000 test_accuracy: 0.000000\n",
            "Epoch: 1100, train_loss: 0.000000, test_loss: 0.000000, train_accuracy: 0.000000 test_accuracy: 0.000000\n",
            "Epoch: 1200, train_loss: 0.000000, test_loss: 0.000000, train_accuracy: 0.000000 test_accuracy: 0.000000\n",
            "Epoch: 1300, train_loss: 0.000000, test_loss: 0.000000, train_accuracy: 0.000000 test_accuracy: 0.000000\n",
            "Epoch: 1400, train_loss: 0.000000, test_loss: 0.000000, train_accuracy: 0.000000 test_accuracy: 0.000000\n",
            "Epoch: 1500, train_loss: 0.000000, test_loss: 0.000000, train_accuracy: 0.000000 test_accuracy: 0.000000\n",
            "Epoch: 1600, train_loss: 0.000000, test_loss: 0.000000, train_accuracy: 0.000000 test_accuracy: 0.000000\n",
            "Epoch: 1700, train_loss: 0.000000, test_loss: 0.000000, train_accuracy: 0.000000 test_accuracy: 0.000000\n",
            "Epoch: 1800, train_loss: 0.000000, test_loss: 0.000000, train_accuracy: 0.000000 test_accuracy: 0.000000\n",
            "Epoch: 1900, train_loss: 0.000000, test_loss: 0.000000, train_accuracy: 0.000000 test_accuracy: 0.000000\n",
            "Epoch: 2000, train_loss: 0.000000, test_loss: 0.000000, train_accuracy: 0.000000 test_accuracy: 0.000000\n",
            "Epoch: 2100, train_loss: 0.000000, test_loss: 0.000000, train_accuracy: 0.000000 test_accuracy: 0.000000\n",
            "Epoch: 2200, train_loss: 0.000000, test_loss: 0.000000, train_accuracy: 0.000000 test_accuracy: 0.000000\n",
            "Epoch: 2300, train_loss: 0.000000, test_loss: 0.000000, train_accuracy: 0.000000 test_accuracy: 0.000000\n",
            "Epoch: 2400, train_loss: 0.000000, test_loss: 0.000000, train_accuracy: 0.000000 test_accuracy: 0.000000\n",
            "Epoch: 2500, train_loss: 0.000000, test_loss: 0.000000, train_accuracy: 0.000000 test_accuracy: 0.000000\n",
            "Epoch: 2600, train_loss: 0.000000, test_loss: 0.000000, train_accuracy: 0.000000 test_accuracy: 0.000000\n",
            "Epoch: 2700, train_loss: 0.000000, test_loss: 0.000000, train_accuracy: 0.000000 test_accuracy: 0.000000\n",
            "Epoch: 2800, train_loss: 0.000000, test_loss: 0.000000, train_accuracy: 0.000000 test_accuracy: 0.000000\n",
            "Epoch: 2900, train_loss: 0.000000, test_loss: 0.000000, train_accuracy: 0.000000 test_accuracy: 0.000000\n",
            "Epoch: 3000, train_loss: 0.000000, test_loss: 0.000000, train_accuracy: 0.000000 test_accuracy: 0.000000\n",
            "Epoch: 3100, train_loss: 0.000000, test_loss: 0.000000, train_accuracy: 0.000000 test_accuracy: 0.000000\n",
            "Epoch: 3200, train_loss: 0.000000, test_loss: 0.000000, train_accuracy: 0.000000 test_accuracy: 0.000000\n",
            "Epoch: 3300, train_loss: 0.000000, test_loss: 0.000000, train_accuracy: 0.000000 test_accuracy: 0.000000\n",
            "Epoch: 3400, train_loss: 0.000000, test_loss: 0.000000, train_accuracy: 0.000000 test_accuracy: 0.000000\n",
            "Epoch: 3500, train_loss: 0.000000, test_loss: 0.000000, train_accuracy: 0.000000 test_accuracy: 0.000000\n",
            "Epoch: 3600, train_loss: 0.000000, test_loss: 0.000000, train_accuracy: 0.000000 test_accuracy: 0.000000\n",
            "Epoch: 3700, train_loss: 0.000000, test_loss: 0.000000, train_accuracy: 0.000000 test_accuracy: 0.000000\n",
            "Epoch: 3800, train_loss: 0.000000, test_loss: 0.000000, train_accuracy: 0.000000 test_accuracy: 0.000000\n",
            "Epoch: 3900, train_loss: 0.000000, test_loss: 0.000000, train_accuracy: 0.000000 test_accuracy: 0.000000\n",
            "Epoch: 4000, train_loss: 0.000000, test_loss: 0.000000, train_accuracy: 0.000000 test_accuracy: 0.000000\n",
            "Epoch: 4100, train_loss: 0.000000, test_loss: 0.000000, train_accuracy: 0.000000 test_accuracy: 0.000000\n",
            "Epoch: 4200, train_loss: 0.000000, test_loss: 0.000000, train_accuracy: 0.000000 test_accuracy: 0.000000\n",
            "Epoch: 4300, train_loss: 0.000000, test_loss: 0.000000, train_accuracy: 0.000000 test_accuracy: 0.000000\n",
            "Epoch: 4400, train_loss: 0.000000, test_loss: 0.000000, train_accuracy: 0.000000 test_accuracy: 0.000000\n",
            "Epoch: 4500, train_loss: 0.000000, test_loss: 0.000000, train_accuracy: 0.000000 test_accuracy: 0.000000\n",
            "Epoch: 4600, train_loss: 0.000000, test_loss: 0.000000, train_accuracy: 0.000000 test_accuracy: 0.000000\n",
            "Epoch: 4700, train_loss: 0.000000, test_loss: 0.000000, train_accuracy: 0.000000 test_accuracy: 0.000000\n",
            "Epoch: 4800, train_loss: 0.000000, test_loss: 0.000000, train_accuracy: 0.000000 test_accuracy: 0.000000\n",
            "Epoch: 4900, train_loss: 0.000000, test_loss: 0.000000, train_accuracy: 0.000000 test_accuracy: 0.000000\n",
            "Epoch: 5000, train_loss: 0.000000, test_loss: 0.000000, train_accuracy: 0.000000 test_accuracy: 0.000000\n",
            "Epoch: 5100, train_loss: 0.000000, test_loss: 0.000000, train_accuracy: 0.000000 test_accuracy: 0.000000\n",
            "Epoch: 5200, train_loss: 0.000000, test_loss: 0.000000, train_accuracy: 0.000000 test_accuracy: 0.000000\n",
            "Epoch: 5300, train_loss: 0.000000, test_loss: 0.000000, train_accuracy: 0.000000 test_accuracy: 0.000000\n",
            "Epoch: 5400, train_loss: 0.000000, test_loss: 0.000000, train_accuracy: 0.000000 test_accuracy: 0.000000\n",
            "Epoch: 5500, train_loss: 0.000000, test_loss: 0.000000, train_accuracy: 0.000000 test_accuracy: 0.000000\n",
            "Epoch: 5600, train_loss: 0.000000, test_loss: 0.000000, train_accuracy: 0.000000 test_accuracy: 0.000000\n",
            "Epoch: 5700, train_loss: 0.000000, test_loss: 0.000000, train_accuracy: 0.000000 test_accuracy: 0.000000\n",
            "Epoch: 5800, train_loss: 0.000000, test_loss: 0.000000, train_accuracy: 0.000000 test_accuracy: 0.000000\n",
            "Epoch: 5900, train_loss: 0.000000, test_loss: 0.000000, train_accuracy: 0.000000 test_accuracy: 0.000000\n",
            "Epoch: 6000, train_loss: 0.000000, test_loss: 0.000000, train_accuracy: 0.000000 test_accuracy: 0.000000\n",
            "Epoch: 6100, train_loss: 0.000000, test_loss: 0.000000, train_accuracy: 0.000000 test_accuracy: 0.000000\n",
            "Epoch: 6200, train_loss: 0.000000, test_loss: 0.000000, train_accuracy: 0.000000 test_accuracy: 0.000000\n",
            "Epoch: 6300, train_loss: 0.000000, test_loss: 0.000000, train_accuracy: 0.000000 test_accuracy: 0.000000\n",
            "Epoch: 6400, train_loss: 0.000000, test_loss: 0.000000, train_accuracy: 0.000000 test_accuracy: 0.000000\n",
            "Epoch: 6500, train_loss: 0.000000, test_loss: 0.000000, train_accuracy: 0.000000 test_accuracy: 0.000000\n",
            "Epoch: 6600, train_loss: 0.000000, test_loss: 0.000000, train_accuracy: 0.000000 test_accuracy: 0.000000\n",
            "Epoch: 6700, train_loss: 0.000000, test_loss: 0.000000, train_accuracy: 0.000000 test_accuracy: 0.000000\n",
            "Epoch: 6800, train_loss: 0.000000, test_loss: 0.000000, train_accuracy: 0.000000 test_accuracy: 0.000000\n",
            "Epoch: 6900, train_loss: 0.000000, test_loss: 0.000000, train_accuracy: 0.000000 test_accuracy: 0.000000\n",
            "Epoch: 7000, train_loss: 0.000000, test_loss: 0.000000, train_accuracy: 0.000000 test_accuracy: 0.000000\n",
            "Epoch: 7100, train_loss: 0.000000, test_loss: 0.000000, train_accuracy: 0.000000 test_accuracy: 0.000000\n",
            "Epoch: 7200, train_loss: 0.000000, test_loss: 0.000000, train_accuracy: 0.000000 test_accuracy: 0.000000\n",
            "Epoch: 7300, train_loss: 0.000000, test_loss: 0.000000, train_accuracy: 0.000000 test_accuracy: 0.000000\n",
            "Epoch: 7400, train_loss: 0.000000, test_loss: 0.000000, train_accuracy: 0.000000 test_accuracy: 0.000000\n",
            "Epoch: 7500, train_loss: 0.000000, test_loss: 0.000000, train_accuracy: 0.000000 test_accuracy: 0.000000\n",
            "Epoch: 7600, train_loss: 0.000000, test_loss: 0.000000, train_accuracy: 0.000000 test_accuracy: 0.000000\n",
            "Epoch: 7700, train_loss: 0.000000, test_loss: 0.000000, train_accuracy: 0.000000 test_accuracy: 0.000000\n",
            "Epoch: 7800, train_loss: 0.000000, test_loss: 0.000000, train_accuracy: 0.000000 test_accuracy: 0.000000\n",
            "Epoch: 7900, train_loss: 0.000000, test_loss: 0.000000, train_accuracy: 0.000000 test_accuracy: 0.000000\n",
            "Epoch: 8000, train_loss: 0.000000, test_loss: 0.000000, train_accuracy: 0.000000 test_accuracy: 0.000000\n",
            "Epoch: 8100, train_loss: 0.000000, test_loss: 0.000000, train_accuracy: 0.000000 test_accuracy: 0.000000\n",
            "Epoch: 8200, train_loss: 0.000000, test_loss: 0.000000, train_accuracy: 0.000000 test_accuracy: 0.000000\n",
            "Epoch: 8300, train_loss: 0.000000, test_loss: 0.000000, train_accuracy: 0.000000 test_accuracy: 0.000000\n",
            "Epoch: 8400, train_loss: 0.000000, test_loss: 0.000000, train_accuracy: 0.000000 test_accuracy: 0.000000\n",
            "Epoch: 8500, train_loss: 0.000000, test_loss: 0.000000, train_accuracy: 0.000000 test_accuracy: 0.000000\n",
            "Epoch: 8600, train_loss: 0.000000, test_loss: 0.000000, train_accuracy: 0.000000 test_accuracy: 0.000000\n",
            "Epoch: 8700, train_loss: 0.000000, test_loss: 0.000000, train_accuracy: 0.000000 test_accuracy: 0.000000\n",
            "Epoch: 8800, train_loss: 0.000000, test_loss: 0.000000, train_accuracy: 0.000000 test_accuracy: 0.000000\n",
            "Epoch: 8900, train_loss: 0.000000, test_loss: 0.000000, train_accuracy: 0.000000 test_accuracy: 0.000000\n",
            "Epoch: 9000, train_loss: 0.000000, test_loss: 0.000000, train_accuracy: 0.000000 test_accuracy: 0.000000\n",
            "Epoch: 9100, train_loss: 0.000000, test_loss: 0.000000, train_accuracy: 0.000000 test_accuracy: 0.000000\n",
            "Epoch: 9200, train_loss: 0.000000, test_loss: 0.000000, train_accuracy: 0.000000 test_accuracy: 0.000000\n",
            "Epoch: 9300, train_loss: 0.000000, test_loss: 0.000000, train_accuracy: 0.000000 test_accuracy: 0.000000\n",
            "Epoch: 9400, train_loss: 0.000000, test_loss: 0.000000, train_accuracy: 0.000000 test_accuracy: 0.000000\n",
            "Epoch: 9500, train_loss: 0.000000, test_loss: 0.000000, train_accuracy: 0.000000 test_accuracy: 0.000000\n",
            "Epoch: 9600, train_loss: 0.000000, test_loss: 0.000000, train_accuracy: 0.000000 test_accuracy: 0.000000\n",
            "Epoch: 9700, train_loss: 0.000000, test_loss: 0.000000, train_accuracy: 0.000000 test_accuracy: 0.000000\n",
            "Epoch: 9800, train_loss: 0.000000, test_loss: 0.000000, train_accuracy: 0.000000 test_accuracy: 0.000000\n",
            "Epoch: 9900, train_loss: 0.000000, test_loss: 0.000000, train_accuracy: 0.000000 test_accuracy: 0.000000\n",
            "Epoch: 10000, train_loss: 0.000000, test_loss: 0.000000, train_accuracy: 0.000000 test_accuracy: 0.000000\n",
            "Training Completed\n"
          ]
        }
      ]
    }
  ]
}